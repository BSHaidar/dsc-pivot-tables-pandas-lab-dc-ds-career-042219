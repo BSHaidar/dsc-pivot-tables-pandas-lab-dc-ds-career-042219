{
 "cells": [
  {
   "cell_type": "markdown",
   "metadata": {},
   "source": [
    "# Pivot Tables with Pandas - Lab\n",
    "\n",
    "## Introduction\n",
    "\n",
    "In this lab, we'll learn how to make use of our newfound knowledge of pivot tables to work with real-world data.  We'll start by exploring \n",
    "\n",
    "## Objectives\n",
    "\n",
    "You will be able to:\n",
    "\n",
    "* Understand and explain what a multi-level hierarchical index is\n",
    "* Understand, explain the difference and use df.pivot and pd.pivot_table\n",
    "* Switch between “long” and “wide” in a DataFrame using stack() and unstack()\n",
    "* Transform “wide” to “long” DataFrames using `melt`\n",
    "\n",
    "## Getting Started\n",
    "\n",
    "### Import Pandas and Matplotlib.pyplot Using Standard Aliases\n",
    "\n",
    "In the cell below:\n",
    "\n",
    "* Import `pandas` and set the standard alias\n",
    "* Import `matplotlib.pyplot` and set the standard alias\n",
    "* Run the ipython magic command to display matplotlib graphs inline within the notebook"
   ]
  },
  {
   "cell_type": "code",
   "execution_count": 1,
   "metadata": {},
   "outputs": [],
   "source": [
    "import pandas as pd\n",
    "import matplotlib.pyplot as plt\n",
    "%matplotlib inline"
   ]
  },
  {
   "cell_type": "markdown",
   "metadata": {},
   "source": [
    "## Load the Data\n",
    "The data for this activity is stored in a file called `'causes_of_death.tsv'` which is a somewhat morbid dataset from the center for disease control. Note that the file extension .tsv indicates that this data is formatted slightly differently then the standard .csv, the difference being that it has 'tab seperated values' instead of 'comma seperated values'. As such, pass in the optional parameter `delimiter='\\t'` into the `pd.read_csv()` method."
   ]
  },
  {
   "cell_type": "code",
   "execution_count": 83,
   "metadata": {},
   "outputs": [],
   "source": [
    "df = pd.read_csv('causes_of_death.tsv', delimiter='\\t')"
   ]
  },
  {
   "cell_type": "markdown",
   "metadata": {},
   "source": [
    "Now, display the head of the DataFrame to ensure everything loaded correctly."
   ]
  },
  {
   "cell_type": "code",
   "execution_count": 84,
   "metadata": {
    "scrolled": true
   },
   "outputs": [
    {
     "data": {
      "text/html": [
       "<div>\n",
       "<style scoped>\n",
       "    .dataframe tbody tr th:only-of-type {\n",
       "        vertical-align: middle;\n",
       "    }\n",
       "\n",
       "    .dataframe tbody tr th {\n",
       "        vertical-align: top;\n",
       "    }\n",
       "\n",
       "    .dataframe thead th {\n",
       "        text-align: right;\n",
       "    }\n",
       "</style>\n",
       "<table border=\"1\" class=\"dataframe\">\n",
       "  <thead>\n",
       "    <tr style=\"text-align: right;\">\n",
       "      <th></th>\n",
       "      <th>Notes</th>\n",
       "      <th>State</th>\n",
       "      <th>State Code</th>\n",
       "      <th>Ten-Year Age Groups</th>\n",
       "      <th>Ten-Year Age Groups Code</th>\n",
       "      <th>Gender</th>\n",
       "      <th>Gender Code</th>\n",
       "      <th>Race</th>\n",
       "      <th>Race Code</th>\n",
       "      <th>Deaths</th>\n",
       "      <th>Population</th>\n",
       "      <th>Crude Rate</th>\n",
       "    </tr>\n",
       "  </thead>\n",
       "  <tbody>\n",
       "    <tr>\n",
       "      <th>0</th>\n",
       "      <td>NaN</td>\n",
       "      <td>Alabama</td>\n",
       "      <td>1</td>\n",
       "      <td>&lt; 1 year</td>\n",
       "      <td>1</td>\n",
       "      <td>Female</td>\n",
       "      <td>F</td>\n",
       "      <td>American Indian or Alaska Native</td>\n",
       "      <td>1002-5</td>\n",
       "      <td>14</td>\n",
       "      <td>3579</td>\n",
       "      <td>Unreliable</td>\n",
       "    </tr>\n",
       "    <tr>\n",
       "      <th>1</th>\n",
       "      <td>NaN</td>\n",
       "      <td>Alabama</td>\n",
       "      <td>1</td>\n",
       "      <td>&lt; 1 year</td>\n",
       "      <td>1</td>\n",
       "      <td>Female</td>\n",
       "      <td>F</td>\n",
       "      <td>Asian or Pacific Islander</td>\n",
       "      <td>A-PI</td>\n",
       "      <td>24</td>\n",
       "      <td>7443</td>\n",
       "      <td>322.5</td>\n",
       "    </tr>\n",
       "    <tr>\n",
       "      <th>2</th>\n",
       "      <td>NaN</td>\n",
       "      <td>Alabama</td>\n",
       "      <td>1</td>\n",
       "      <td>&lt; 1 year</td>\n",
       "      <td>1</td>\n",
       "      <td>Female</td>\n",
       "      <td>F</td>\n",
       "      <td>Black or African American</td>\n",
       "      <td>2054-5</td>\n",
       "      <td>2093</td>\n",
       "      <td>169339</td>\n",
       "      <td>1236.0</td>\n",
       "    </tr>\n",
       "    <tr>\n",
       "      <th>3</th>\n",
       "      <td>NaN</td>\n",
       "      <td>Alabama</td>\n",
       "      <td>1</td>\n",
       "      <td>&lt; 1 year</td>\n",
       "      <td>1</td>\n",
       "      <td>Female</td>\n",
       "      <td>F</td>\n",
       "      <td>White</td>\n",
       "      <td>2106-3</td>\n",
       "      <td>2144</td>\n",
       "      <td>347921</td>\n",
       "      <td>616.2</td>\n",
       "    </tr>\n",
       "    <tr>\n",
       "      <th>4</th>\n",
       "      <td>NaN</td>\n",
       "      <td>Alabama</td>\n",
       "      <td>1</td>\n",
       "      <td>&lt; 1 year</td>\n",
       "      <td>1</td>\n",
       "      <td>Male</td>\n",
       "      <td>M</td>\n",
       "      <td>Asian or Pacific Islander</td>\n",
       "      <td>A-PI</td>\n",
       "      <td>33</td>\n",
       "      <td>7366</td>\n",
       "      <td>448.0</td>\n",
       "    </tr>\n",
       "  </tbody>\n",
       "</table>\n",
       "</div>"
      ],
      "text/plain": [
       "   Notes    State  State Code Ten-Year Age Groups Ten-Year Age Groups Code  \\\n",
       "0    NaN  Alabama           1            < 1 year                        1   \n",
       "1    NaN  Alabama           1            < 1 year                        1   \n",
       "2    NaN  Alabama           1            < 1 year                        1   \n",
       "3    NaN  Alabama           1            < 1 year                        1   \n",
       "4    NaN  Alabama           1            < 1 year                        1   \n",
       "\n",
       "   Gender Gender Code                              Race Race Code  Deaths  \\\n",
       "0  Female           F  American Indian or Alaska Native    1002-5      14   \n",
       "1  Female           F         Asian or Pacific Islander      A-PI      24   \n",
       "2  Female           F         Black or African American    2054-5    2093   \n",
       "3  Female           F                             White    2106-3    2144   \n",
       "4    Male           M         Asian or Pacific Islander      A-PI      33   \n",
       "\n",
       "  Population  Crude Rate  \n",
       "0       3579  Unreliable  \n",
       "1       7443       322.5  \n",
       "2     169339      1236.0  \n",
       "3     347921       616.2  \n",
       "4       7366       448.0  "
      ]
     },
     "execution_count": 84,
     "metadata": {},
     "output_type": "execute_result"
    }
   ],
   "source": [
    "df.head()"
   ]
  },
  {
   "cell_type": "markdown",
   "metadata": {},
   "source": [
    "Our data is currently in **_Wide_** format.  We can tidy this up by converting it to **_Long_** format by using groupby statements to aggregate our data into a much neater, more readable format. \n",
    "\n",
    "## Groupby Aggregations\n",
    "\n",
    "Complete the following groupby statements.\n",
    "\n",
    "### 1) Groupby State and Gender. Sum the values."
   ]
  },
  {
   "cell_type": "code",
   "execution_count": 85,
   "metadata": {
    "scrolled": true
   },
   "outputs": [
    {
     "data": {
      "text/html": [
       "<div>\n",
       "<style scoped>\n",
       "    .dataframe tbody tr th:only-of-type {\n",
       "        vertical-align: middle;\n",
       "    }\n",
       "\n",
       "    .dataframe tbody tr th {\n",
       "        vertical-align: top;\n",
       "    }\n",
       "\n",
       "    .dataframe thead th {\n",
       "        text-align: right;\n",
       "    }\n",
       "</style>\n",
       "<table border=\"1\" class=\"dataframe\">\n",
       "  <thead>\n",
       "    <tr style=\"text-align: right;\">\n",
       "      <th></th>\n",
       "      <th></th>\n",
       "      <th>Notes</th>\n",
       "      <th>State Code</th>\n",
       "      <th>Deaths</th>\n",
       "    </tr>\n",
       "    <tr>\n",
       "      <th>State</th>\n",
       "      <th>Gender</th>\n",
       "      <th></th>\n",
       "      <th></th>\n",
       "      <th></th>\n",
       "    </tr>\n",
       "  </thead>\n",
       "  <tbody>\n",
       "    <tr>\n",
       "      <th rowspan=\"2\" valign=\"top\">Alabama</th>\n",
       "      <th>Female</th>\n",
       "      <td>0.0</td>\n",
       "      <td>40</td>\n",
       "      <td>430133</td>\n",
       "    </tr>\n",
       "    <tr>\n",
       "      <th>Male</th>\n",
       "      <td>0.0</td>\n",
       "      <td>41</td>\n",
       "      <td>430647</td>\n",
       "    </tr>\n",
       "    <tr>\n",
       "      <th rowspan=\"2\" valign=\"top\">Alaska</th>\n",
       "      <th>Female</th>\n",
       "      <td>0.0</td>\n",
       "      <td>80</td>\n",
       "      <td>27199</td>\n",
       "    </tr>\n",
       "    <tr>\n",
       "      <th>Male</th>\n",
       "      <td>0.0</td>\n",
       "      <td>84</td>\n",
       "      <td>36135</td>\n",
       "    </tr>\n",
       "    <tr>\n",
       "      <th>Arizona</th>\n",
       "      <th>Female</th>\n",
       "      <td>0.0</td>\n",
       "      <td>180</td>\n",
       "      <td>396028</td>\n",
       "    </tr>\n",
       "  </tbody>\n",
       "</table>\n",
       "</div>"
      ],
      "text/plain": [
       "                Notes  State Code  Deaths\n",
       "State   Gender                           \n",
       "Alabama Female    0.0          40  430133\n",
       "        Male      0.0          41  430647\n",
       "Alaska  Female    0.0          80   27199\n",
       "        Male      0.0          84   36135\n",
       "Arizona Female    0.0         180  396028"
      ]
     },
     "execution_count": 85,
     "metadata": {},
     "output_type": "execute_result"
    }
   ],
   "source": [
    "# Your code here\n",
    "df.groupby(['State', 'Gender']).sum().head()"
   ]
  },
  {
   "cell_type": "markdown",
   "metadata": {},
   "source": [
    "### 2) Groupby State and Gender and Race. Find the average values."
   ]
  },
  {
   "cell_type": "code",
   "execution_count": 86,
   "metadata": {
    "scrolled": true
   },
   "outputs": [
    {
     "data": {
      "text/html": [
       "<div>\n",
       "<style scoped>\n",
       "    .dataframe tbody tr th:only-of-type {\n",
       "        vertical-align: middle;\n",
       "    }\n",
       "\n",
       "    .dataframe tbody tr th {\n",
       "        vertical-align: top;\n",
       "    }\n",
       "\n",
       "    .dataframe thead th {\n",
       "        text-align: right;\n",
       "    }\n",
       "</style>\n",
       "<table border=\"1\" class=\"dataframe\">\n",
       "  <thead>\n",
       "    <tr style=\"text-align: right;\">\n",
       "      <th></th>\n",
       "      <th></th>\n",
       "      <th></th>\n",
       "      <th>Notes</th>\n",
       "      <th>State Code</th>\n",
       "      <th>Deaths</th>\n",
       "    </tr>\n",
       "    <tr>\n",
       "      <th>State</th>\n",
       "      <th>Gender</th>\n",
       "      <th>Race</th>\n",
       "      <th></th>\n",
       "      <th></th>\n",
       "      <th></th>\n",
       "    </tr>\n",
       "  </thead>\n",
       "  <tbody>\n",
       "    <tr>\n",
       "      <th rowspan=\"5\" valign=\"top\">Alabama</th>\n",
       "      <th rowspan=\"4\" valign=\"top\">Female</th>\n",
       "      <th>American Indian or Alaska Native</th>\n",
       "      <td>NaN</td>\n",
       "      <td>1.0</td>\n",
       "      <td>70.875000</td>\n",
       "    </tr>\n",
       "    <tr>\n",
       "      <th>Asian or Pacific Islander</th>\n",
       "      <td>NaN</td>\n",
       "      <td>1.0</td>\n",
       "      <td>95.500000</td>\n",
       "    </tr>\n",
       "    <tr>\n",
       "      <th>Black or African American</th>\n",
       "      <td>NaN</td>\n",
       "      <td>1.0</td>\n",
       "      <td>9074.000000</td>\n",
       "    </tr>\n",
       "    <tr>\n",
       "      <th>White</th>\n",
       "      <td>NaN</td>\n",
       "      <td>1.0</td>\n",
       "      <td>29890.636364</td>\n",
       "    </tr>\n",
       "    <tr>\n",
       "      <th>Male</th>\n",
       "      <th>American Indian or Alaska Native</th>\n",
       "      <td>NaN</td>\n",
       "      <td>1.0</td>\n",
       "      <td>86.375000</td>\n",
       "    </tr>\n",
       "  </tbody>\n",
       "</table>\n",
       "</div>"
      ],
      "text/plain": [
       "                                                 Notes  State Code  \\\n",
       "State   Gender Race                                                  \n",
       "Alabama Female American Indian or Alaska Native    NaN         1.0   \n",
       "               Asian or Pacific Islander           NaN         1.0   \n",
       "               Black or African American           NaN         1.0   \n",
       "               White                               NaN         1.0   \n",
       "        Male   American Indian or Alaska Native    NaN         1.0   \n",
       "\n",
       "                                                       Deaths  \n",
       "State   Gender Race                                            \n",
       "Alabama Female American Indian or Alaska Native     70.875000  \n",
       "               Asian or Pacific Islander            95.500000  \n",
       "               Black or African American          9074.000000  \n",
       "               White                             29890.636364  \n",
       "        Male   American Indian or Alaska Native     86.375000  "
      ]
     },
     "execution_count": 86,
     "metadata": {},
     "output_type": "execute_result"
    }
   ],
   "source": [
    "# Your code here\n",
    "df.groupby(['State', 'Gender', 'Race']).mean().head()"
   ]
  },
  {
   "cell_type": "markdown",
   "metadata": {},
   "source": [
    "### 3) Groupby Gender and Race. Find the minimum values."
   ]
  },
  {
   "cell_type": "code",
   "execution_count": 87,
   "metadata": {
    "scrolled": true
   },
   "outputs": [
    {
     "data": {
      "text/html": [
       "<div>\n",
       "<style scoped>\n",
       "    .dataframe tbody tr th:only-of-type {\n",
       "        vertical-align: middle;\n",
       "    }\n",
       "\n",
       "    .dataframe tbody tr th {\n",
       "        vertical-align: top;\n",
       "    }\n",
       "\n",
       "    .dataframe thead th {\n",
       "        text-align: right;\n",
       "    }\n",
       "</style>\n",
       "<table border=\"1\" class=\"dataframe\">\n",
       "  <thead>\n",
       "    <tr style=\"text-align: right;\">\n",
       "      <th></th>\n",
       "      <th></th>\n",
       "      <th>Notes</th>\n",
       "      <th>State</th>\n",
       "      <th>State Code</th>\n",
       "      <th>Ten-Year Age Groups</th>\n",
       "      <th>Ten-Year Age Groups Code</th>\n",
       "      <th>Gender Code</th>\n",
       "      <th>Race Code</th>\n",
       "      <th>Deaths</th>\n",
       "      <th>Population</th>\n",
       "      <th>Crude Rate</th>\n",
       "    </tr>\n",
       "    <tr>\n",
       "      <th>Gender</th>\n",
       "      <th>Race</th>\n",
       "      <th></th>\n",
       "      <th></th>\n",
       "      <th></th>\n",
       "      <th></th>\n",
       "      <th></th>\n",
       "      <th></th>\n",
       "      <th></th>\n",
       "      <th></th>\n",
       "      <th></th>\n",
       "      <th></th>\n",
       "    </tr>\n",
       "  </thead>\n",
       "  <tbody>\n",
       "    <tr>\n",
       "      <th rowspan=\"4\" valign=\"top\">Female</th>\n",
       "      <th>American Indian or Alaska Native</th>\n",
       "      <td>NaN</td>\n",
       "      <td>Alabama</td>\n",
       "      <td>1</td>\n",
       "      <td>1-4 years</td>\n",
       "      <td>1</td>\n",
       "      <td>F</td>\n",
       "      <td>1002-5</td>\n",
       "      <td>10</td>\n",
       "      <td>100285</td>\n",
       "      <td>10.4</td>\n",
       "    </tr>\n",
       "    <tr>\n",
       "      <th>Asian or Pacific Islander</th>\n",
       "      <td>NaN</td>\n",
       "      <td>Alabama</td>\n",
       "      <td>1</td>\n",
       "      <td>1-4 years</td>\n",
       "      <td>1</td>\n",
       "      <td>F</td>\n",
       "      <td>A-PI</td>\n",
       "      <td>10</td>\n",
       "      <td>100371</td>\n",
       "      <td>10.1</td>\n",
       "    </tr>\n",
       "    <tr>\n",
       "      <th>Black or African American</th>\n",
       "      <td>NaN</td>\n",
       "      <td>Alabama</td>\n",
       "      <td>1</td>\n",
       "      <td>1-4 years</td>\n",
       "      <td>1</td>\n",
       "      <td>F</td>\n",
       "      <td>2054-5</td>\n",
       "      <td>10</td>\n",
       "      <td>100170</td>\n",
       "      <td>100.3</td>\n",
       "    </tr>\n",
       "    <tr>\n",
       "      <th>White</th>\n",
       "      <td>NaN</td>\n",
       "      <td>Alabama</td>\n",
       "      <td>1</td>\n",
       "      <td>1-4 years</td>\n",
       "      <td>1</td>\n",
       "      <td>F</td>\n",
       "      <td>2106-3</td>\n",
       "      <td>12</td>\n",
       "      <td>1000704</td>\n",
       "      <td>10.1</td>\n",
       "    </tr>\n",
       "    <tr>\n",
       "      <th>Male</th>\n",
       "      <th>American Indian or Alaska Native</th>\n",
       "      <td>NaN</td>\n",
       "      <td>Alabama</td>\n",
       "      <td>1</td>\n",
       "      <td>1-4 years</td>\n",
       "      <td>1</td>\n",
       "      <td>M</td>\n",
       "      <td>1002-5</td>\n",
       "      <td>10</td>\n",
       "      <td>1001</td>\n",
       "      <td>10000.0</td>\n",
       "    </tr>\n",
       "  </tbody>\n",
       "</table>\n",
       "</div>"
      ],
      "text/plain": [
       "                                         Notes    State  State Code  \\\n",
       "Gender Race                                                           \n",
       "Female American Indian or Alaska Native    NaN  Alabama           1   \n",
       "       Asian or Pacific Islander           NaN  Alabama           1   \n",
       "       Black or African American           NaN  Alabama           1   \n",
       "       White                               NaN  Alabama           1   \n",
       "Male   American Indian or Alaska Native    NaN  Alabama           1   \n",
       "\n",
       "                                        Ten-Year Age Groups  \\\n",
       "Gender Race                                                   \n",
       "Female American Indian or Alaska Native           1-4 years   \n",
       "       Asian or Pacific Islander                  1-4 years   \n",
       "       Black or African American                  1-4 years   \n",
       "       White                                      1-4 years   \n",
       "Male   American Indian or Alaska Native           1-4 years   \n",
       "\n",
       "                                        Ten-Year Age Groups Code Gender Code  \\\n",
       "Gender Race                                                                    \n",
       "Female American Indian or Alaska Native                        1           F   \n",
       "       Asian or Pacific Islander                               1           F   \n",
       "       Black or African American                               1           F   \n",
       "       White                                                   1           F   \n",
       "Male   American Indian or Alaska Native                        1           M   \n",
       "\n",
       "                                        Race Code  Deaths Population  \\\n",
       "Gender Race                                                            \n",
       "Female American Indian or Alaska Native    1002-5      10     100285   \n",
       "       Asian or Pacific Islander             A-PI      10     100371   \n",
       "       Black or African American           2054-5      10     100170   \n",
       "       White                               2106-3      12    1000704   \n",
       "Male   American Indian or Alaska Native    1002-5      10       1001   \n",
       "\n",
       "                                        Crude Rate  \n",
       "Gender Race                                         \n",
       "Female American Indian or Alaska Native       10.4  \n",
       "       Asian or Pacific Islander              10.1  \n",
       "       Black or African American             100.3  \n",
       "       White                                  10.1  \n",
       "Male   American Indian or Alaska Native    10000.0  "
      ]
     },
     "execution_count": 87,
     "metadata": {},
     "output_type": "execute_result"
    }
   ],
   "source": [
    "df.groupby(['Gender', 'Race']).min().head()"
   ]
  },
  {
   "cell_type": "markdown",
   "metadata": {},
   "source": [
    "### 4) Create a bar chart of the total number of deaths by state.\n",
    "* Sort your columns in order (ascending or descending are both acceptable).  \n",
    "* Also make sure to include a title, axes labels and have your graph be an appropriate size.\n",
    "\n",
    "**_NOTE:_** In order to do this, slice the `Deaths` column after the `.groupby()` method, but before the `sum()` method.  You can even chain the `.plot()` call on after the `sum()` call and do this all on one line, excluding the labeling of the graph!"
   ]
  },
  {
   "cell_type": "code",
   "execution_count": 92,
   "metadata": {
    "scrolled": true
   },
   "outputs": [
    {
     "data": {
      "image/png": "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\n",
      "text/plain": [
       "<Figure size 864x720 with 1 Axes>"
      ]
     },
     "metadata": {},
     "output_type": "display_data"
    }
   ],
   "source": [
    "df.groupby(['State'])['Deaths'].sum().sort_values().plot(kind='barh', figsize=(12,10))\n",
    "plt.title('Total Number of Deaths by State', fontsize =14)\n",
    "plt.xlabel('Number of Deaths',  fontsize =12)\n",
    "plt.ylabel('State',  fontsize =12);"
   ]
  },
  {
   "cell_type": "markdown",
   "metadata": {},
   "source": [
    "### Inspecting our Data\n",
    "\n",
    "Let's go one step further and get a print-out of the data type of each column. \n",
    "\n",
    "In the cell below, get the `.info()` of our DataFrame, and note the data type that each column is currently stored as.  "
   ]
  },
  {
   "cell_type": "code",
   "execution_count": 93,
   "metadata": {},
   "outputs": [
    {
     "name": "stdout",
     "output_type": "stream",
     "text": [
      "<class 'pandas.core.frame.DataFrame'>\n",
      "RangeIndex: 4115 entries, 0 to 4114\n",
      "Data columns (total 12 columns):\n",
      "Notes                       0 non-null float64\n",
      "State                       4115 non-null object\n",
      "State Code                  4115 non-null int64\n",
      "Ten-Year Age Groups         4115 non-null object\n",
      "Ten-Year Age Groups Code    4115 non-null object\n",
      "Gender                      4115 non-null object\n",
      "Gender Code                 4115 non-null object\n",
      "Race                        4115 non-null object\n",
      "Race Code                   4115 non-null object\n",
      "Deaths                      4115 non-null int64\n",
      "Population                  4115 non-null object\n",
      "Crude Rate                  4115 non-null object\n",
      "dtypes: float64(1), int64(2), object(9)\n",
      "memory usage: 385.9+ KB\n"
     ]
    }
   ],
   "source": [
    "df.info()"
   ]
  },
  {
   "cell_type": "markdown",
   "metadata": {},
   "source": [
    "Let's look at some samples from the Population column to see if the current encoding seems appropriate for the data it contains. \n",
    "\n",
    "In the cell below, display the population values for the first 5 rows in the DataFrame.  "
   ]
  },
  {
   "cell_type": "code",
   "execution_count": 94,
   "metadata": {},
   "outputs": [
    {
     "data": {
      "text/plain": [
       "0      3579\n",
       "1      7443\n",
       "2    169339\n",
       "3    347921\n",
       "4      7366\n",
       "Name: Population, dtype: object"
      ]
     },
     "execution_count": 94,
     "metadata": {},
     "output_type": "execute_result"
    }
   ],
   "source": [
    "df['Population'].head()"
   ]
  },
  {
   "cell_type": "markdown",
   "metadata": {},
   "source": [
    "Just to be extra sure, let's check the value counts to see how many times each unique value shows up in the dataset. We'll only look at the top 5. \n",
    "\n",
    "In the cell below, print out the top 5 `value_counts()` of the population column of the DataFrame. "
   ]
  },
  {
   "cell_type": "code",
   "execution_count": 95,
   "metadata": {},
   "outputs": [
    {
     "data": {
      "text/plain": [
       "Not Applicable    75\n",
       "11680              2\n",
       "4412               2\n",
       "860                2\n",
       "6420               2\n",
       "Name: Population, dtype: int64"
      ]
     },
     "execution_count": 95,
     "metadata": {},
     "output_type": "execute_result"
    }
   ],
   "source": [
    "df['Population'].value_counts()[:5]"
   ]
  },
  {
   "cell_type": "markdown",
   "metadata": {},
   "source": [
    "Clearly, this data should be stored as a numeric type, not a categorical type.  \n",
    " \n",
    "### 5 a) Reformat the Population Column as an Integer\n",
    "As stands, not all values will be able to be reformated as integers. Most of the cells in the the `Population` column contain integer values, but the entire column is currently encoded in string format because some cells contain the string `\"Not Applicable\"`.\n",
    "\n",
    "We need to remove these rows before we can cast the Population column to an Integer data type. \n",
    "\n",
    "In the cell below:\n",
    "\n",
    "* Slice the rows of `df` where the Population column is equal to `'Not Applicable'`.\n",
    "* Use `to_drop.index`  to drop the offending rows from `df`. Be sure to set the `axis=0`, and `inplace=True`\n",
    "* Cast the Population column to an integer data type using the `.astype()` function, with the single parameter `int64` passed in. \n",
    "* Print the Population column's `dtype` attribute to confirm it is now stored in `int64` format. \n",
    "\n",
    "**_NOTE:_** `.astype()` returns a copy of the column, so make sure you set the Population column equal to what this method returns--don't just call it!"
   ]
  },
  {
   "cell_type": "code",
   "execution_count": 96,
   "metadata": {},
   "outputs": [
    {
     "data": {
      "text/plain": [
       "75"
      ]
     },
     "execution_count": 96,
     "metadata": {},
     "output_type": "execute_result"
    }
   ],
   "source": [
    "len(df[df['Population'] == 'Not Applicable'])"
   ]
  },
  {
   "cell_type": "code",
   "execution_count": 97,
   "metadata": {},
   "outputs": [
    {
     "name": "stdout",
     "output_type": "stream",
     "text": [
      "int64\n"
     ]
    }
   ],
   "source": [
    "#Your code here\n",
    "to_drop = df[df['Population'] == 'Not Applicable']\n",
    "df.drop(to_drop.index, axis = 0, inplace = True)\n",
    "df['Population'] = df['Population'].astype('int64')\n",
    "print(df['Population'].dtype)\n"
   ]
  },
  {
   "cell_type": "markdown",
   "metadata": {},
   "source": [
    "### 5 b) Complete the Bar Chart\n",
    "\n",
    "Now that we've reformatted our data, let's create a bar chart of the of the Mean Population by State."
   ]
  },
  {
   "cell_type": "code",
   "execution_count": 100,
   "metadata": {},
   "outputs": [
    {
     "data": {
      "image/png": "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\n",
      "text/plain": [
       "<Figure size 864x720 with 1 Axes>"
      ]
     },
     "metadata": {},
     "output_type": "display_data"
    }
   ],
   "source": [
    "df.groupby(['State'])['Population'].mean().plot(kind='barh', figsize=(12,10));\n",
    "plt.title('Population Mean by State', fontsize=14)\n",
    "plt.xlabel('Poulation', fontsize=12)\n",
    "plt.ylabel('State', fontsize=12);"
   ]
  },
  {
   "cell_type": "markdown",
   "metadata": {},
   "source": [
    "Below we will investigate how we can combine the **pivot** method along with the **groupby** method to combine some cool **stacked bar charts**!\n",
    "\n",
    "## Using Aggregate Functions\n",
    "\n",
    "In the cell below:\n",
    "\n",
    "* Group `df` by `'State'` and  `'Gender'`, and then slice both `'Deaths'` and `'Population'` from it. Chain the `.agg()` method to return the mean, min, max, and standard deviation these sliced columns. \n",
    "\n",
    "**_NOTE:_** This only requires one line of code.  \n",
    "\n",
    "By now, you've probably caught on that the code required to do this follows this pattern:    `([things to group by])[columns to slice].agg([aggregates to return])`\n",
    "\n",
    "Then, display the head of this of this new DataFrame."
   ]
  },
  {
   "cell_type": "code",
   "execution_count": 101,
   "metadata": {},
   "outputs": [
    {
     "data": {
      "text/html": [
       "<div>\n",
       "<style scoped>\n",
       "    .dataframe tbody tr th:only-of-type {\n",
       "        vertical-align: middle;\n",
       "    }\n",
       "\n",
       "    .dataframe tbody tr th {\n",
       "        vertical-align: top;\n",
       "    }\n",
       "\n",
       "    .dataframe thead tr th {\n",
       "        text-align: left;\n",
       "    }\n",
       "\n",
       "    .dataframe thead tr:last-of-type th {\n",
       "        text-align: right;\n",
       "    }\n",
       "</style>\n",
       "<table border=\"1\" class=\"dataframe\">\n",
       "  <thead>\n",
       "    <tr>\n",
       "      <th></th>\n",
       "      <th></th>\n",
       "      <th colspan=\"4\" halign=\"left\">Deaths</th>\n",
       "      <th colspan=\"4\" halign=\"left\">Population</th>\n",
       "    </tr>\n",
       "    <tr>\n",
       "      <th></th>\n",
       "      <th></th>\n",
       "      <th>mean</th>\n",
       "      <th>min</th>\n",
       "      <th>max</th>\n",
       "      <th>std</th>\n",
       "      <th>mean</th>\n",
       "      <th>min</th>\n",
       "      <th>max</th>\n",
       "      <th>std</th>\n",
       "    </tr>\n",
       "    <tr>\n",
       "      <th>State</th>\n",
       "      <th>Gender</th>\n",
       "      <th></th>\n",
       "      <th></th>\n",
       "      <th></th>\n",
       "      <th></th>\n",
       "      <th></th>\n",
       "      <th></th>\n",
       "      <th></th>\n",
       "      <th></th>\n",
       "    </tr>\n",
       "  </thead>\n",
       "  <tbody>\n",
       "    <tr>\n",
       "      <th rowspan=\"2\" valign=\"top\">Alabama</th>\n",
       "      <th>Female</th>\n",
       "      <td>10753.325000</td>\n",
       "      <td>10</td>\n",
       "      <td>116297</td>\n",
       "      <td>24612.250487</td>\n",
       "      <td>1.078713e+06</td>\n",
       "      <td>2087</td>\n",
       "      <td>4334752</td>\n",
       "      <td>1.400309e+06</td>\n",
       "    </tr>\n",
       "    <tr>\n",
       "      <th>Male</th>\n",
       "      <td>10765.850000</td>\n",
       "      <td>10</td>\n",
       "      <td>88930</td>\n",
       "      <td>20813.538537</td>\n",
       "      <td>1.014946e+06</td>\n",
       "      <td>1129</td>\n",
       "      <td>4284775</td>\n",
       "      <td>1.397830e+06</td>\n",
       "    </tr>\n",
       "    <tr>\n",
       "      <th rowspan=\"2\" valign=\"top\">Alaska</th>\n",
       "      <th>Female</th>\n",
       "      <td>679.975000</td>\n",
       "      <td>13</td>\n",
       "      <td>4727</td>\n",
       "      <td>1154.870455</td>\n",
       "      <td>1.440403e+05</td>\n",
       "      <td>1224</td>\n",
       "      <td>682855</td>\n",
       "      <td>2.015793e+05</td>\n",
       "    </tr>\n",
       "    <tr>\n",
       "      <th>Male</th>\n",
       "      <td>860.357143</td>\n",
       "      <td>12</td>\n",
       "      <td>5185</td>\n",
       "      <td>1411.777392</td>\n",
       "      <td>1.518884e+05</td>\n",
       "      <td>578</td>\n",
       "      <td>770502</td>\n",
       "      <td>2.238843e+05</td>\n",
       "    </tr>\n",
       "    <tr>\n",
       "      <th>Arizona</th>\n",
       "      <th>Female</th>\n",
       "      <td>8998.386364</td>\n",
       "      <td>21</td>\n",
       "      <td>133923</td>\n",
       "      <td>26245.941003</td>\n",
       "      <td>1.246502e+06</td>\n",
       "      <td>12211</td>\n",
       "      <td>6265346</td>\n",
       "      <td>2.096632e+06</td>\n",
       "    </tr>\n",
       "  </tbody>\n",
       "</table>\n",
       "</div>"
      ],
      "text/plain": [
       "                      Deaths                              Population         \\\n",
       "                        mean min     max           std          mean    min   \n",
       "State   Gender                                                                \n",
       "Alabama Female  10753.325000  10  116297  24612.250487  1.078713e+06   2087   \n",
       "        Male    10765.850000  10   88930  20813.538537  1.014946e+06   1129   \n",
       "Alaska  Female    679.975000  13    4727   1154.870455  1.440403e+05   1224   \n",
       "        Male      860.357143  12    5185   1411.777392  1.518884e+05    578   \n",
       "Arizona Female   8998.386364  21  133923  26245.941003  1.246502e+06  12211   \n",
       "\n",
       "                                       \n",
       "                    max           std  \n",
       "State   Gender                         \n",
       "Alabama Female  4334752  1.400309e+06  \n",
       "        Male    4284775  1.397830e+06  \n",
       "Alaska  Female   682855  2.015793e+05  \n",
       "        Male     770502  2.238843e+05  \n",
       "Arizona Female  6265346  2.096632e+06  "
      ]
     },
     "execution_count": 101,
     "metadata": {},
     "output_type": "execute_result"
    }
   ],
   "source": [
    "# A sample groupby similar to above. \n",
    "grouped = df.groupby(['State', 'Gender'])['Deaths','Population'].agg(['mean', 'min', 'max', 'std'])\n",
    "grouped.head()"
   ]
  },
  {
   "cell_type": "markdown",
   "metadata": {},
   "source": [
    "Note how Pandas denotes a multi-hierarchical index in the DataFrame above.  \n",
    "\n",
    "Let's inspect how a multi-hierarchical index is actually stored.  \n",
    "\n",
    "In the cell below, display the `index` attribute of this DataFrame. "
   ]
  },
  {
   "cell_type": "code",
   "execution_count": 102,
   "metadata": {},
   "outputs": [
    {
     "data": {
      "text/plain": [
       "MultiIndex(levels=[['Alabama', 'Alaska', 'Arizona', 'Arkansas', 'California', 'Colorado', 'Connecticut', 'Delaware', 'District of Columbia', 'Florida', 'Georgia', 'Hawaii', 'Idaho', 'Illinois', 'Indiana', 'Iowa', 'Kansas', 'Kentucky', 'Louisiana', 'Maine', 'Maryland', 'Massachusetts', 'Michigan', 'Minnesota', 'Mississippi', 'Missouri', 'Montana', 'Nebraska', 'Nevada', 'New Hampshire', 'New Jersey', 'New Mexico', 'New York', 'North Carolina', 'North Dakota', 'Ohio', 'Oklahoma', 'Oregon', 'Pennsylvania', 'Rhode Island', 'South Carolina', 'South Dakota', 'Tennessee', 'Texas', 'Utah', 'Vermont', 'Virginia', 'Washington', 'West Virginia', 'Wisconsin', 'Wyoming'], ['Female', 'Male']],\n",
       "           labels=[[0, 0, 1, 1, 2, 2, 3, 3, 4, 4, 5, 5, 6, 6, 7, 7, 8, 8, 9, 9, 10, 10, 11, 11, 12, 12, 13, 13, 14, 14, 15, 15, 16, 16, 17, 17, 18, 18, 19, 19, 20, 20, 21, 21, 22, 22, 23, 23, 24, 24, 25, 25, 26, 26, 27, 27, 28, 28, 29, 29, 30, 30, 31, 31, 32, 32, 33, 33, 34, 34, 35, 35, 36, 36, 37, 37, 38, 38, 39, 39, 40, 40, 41, 41, 42, 42, 43, 43, 44, 44, 45, 45, 46, 46, 47, 47, 48, 48, 49, 49, 50, 50], [0, 1, 0, 1, 0, 1, 0, 1, 0, 1, 0, 1, 0, 1, 0, 1, 0, 1, 0, 1, 0, 1, 0, 1, 0, 1, 0, 1, 0, 1, 0, 1, 0, 1, 0, 1, 0, 1, 0, 1, 0, 1, 0, 1, 0, 1, 0, 1, 0, 1, 0, 1, 0, 1, 0, 1, 0, 1, 0, 1, 0, 1, 0, 1, 0, 1, 0, 1, 0, 1, 0, 1, 0, 1, 0, 1, 0, 1, 0, 1, 0, 1, 0, 1, 0, 1, 0, 1, 0, 1, 0, 1, 0, 1, 0, 1, 0, 1, 0, 1, 0, 1]],\n",
       "           names=['State', 'Gender'])"
      ]
     },
     "execution_count": 102,
     "metadata": {},
     "output_type": "execute_result"
    }
   ],
   "source": [
    "grouped.index"
   ]
  },
  {
   "cell_type": "markdown",
   "metadata": {},
   "source": [
    "A two-dimensional array denotes the multiple levels, with each possible combination being a row in our `grouped` DataFrame.  \n",
    "\n",
    "Let's reset the index, and then see how it changes. \n",
    "\n",
    "In the cell below, call the DataFrame's `reset_index()` function.  Then, display the head of the DataFrame.  "
   ]
  },
  {
   "cell_type": "code",
   "execution_count": 103,
   "metadata": {},
   "outputs": [],
   "source": [
    "# First, reset the index. Notice the subtle difference; State and Gender are now columns rather then the index.\n",
    "grouped = grouped.reset_index()\n"
   ]
  },
  {
   "cell_type": "markdown",
   "metadata": {},
   "source": [
    "Note how the way the index is displayed has changed.  The index columns that made up the multi-hierarchical index before are now stored as columns of data, with each row given a more traditional numerical index. \n",
    "\n",
    "Let's confirm this by reexamining the `index` attribute of `grouped` in the cell below."
   ]
  },
  {
   "cell_type": "code",
   "execution_count": 104,
   "metadata": {},
   "outputs": [
    {
     "data": {
      "text/plain": [
       "RangeIndex(start=0, stop=102, step=1)"
      ]
     },
     "execution_count": 104,
     "metadata": {},
     "output_type": "execute_result"
    }
   ],
   "source": [
    "grouped.index"
   ]
  },
  {
   "cell_type": "markdown",
   "metadata": {},
   "source": [
    "However, look again at the displayed DataFrame--specifically, the columns.  Resetting the index has caused the DataFrame to use a mutlti-indexed structure for the columns. \n",
    "\n",
    "In the cell below, examine the `columns` attribute of `grouped` to confirm this. "
   ]
  },
  {
   "cell_type": "code",
   "execution_count": 105,
   "metadata": {},
   "outputs": [
    {
     "data": {
      "text/plain": [
       "MultiIndex(levels=[['Deaths', 'Population', 'Gender', 'State'], ['mean', 'min', 'max', 'std', '']],\n",
       "           labels=[[3, 2, 0, 0, 0, 0, 1, 1, 1, 1], [4, 4, 0, 1, 2, 3, 0, 1, 2, 3]])"
      ]
     },
     "execution_count": 105,
     "metadata": {},
     "output_type": "execute_result"
    }
   ],
   "source": [
    "#Notice that this causes columns to be MultiIndexed!\n",
    "grouped.columns"
   ]
  },
  {
   "cell_type": "markdown",
   "metadata": {},
   "source": [
    "### Column Levels\n",
    "\n",
    "Since we're working with miulti-hierarchical indices, we can examine the indices available at each level.\n",
    "\n",
    "In the cell below, use the `get_level_values` method contained within the DataFrame's `columns` object to get the values for the outermost layer of the index. "
   ]
  },
  {
   "cell_type": "code",
   "execution_count": 106,
   "metadata": {},
   "outputs": [
    {
     "data": {
      "text/plain": [
       "Index(['State', 'Gender', 'Deaths', 'Deaths', 'Deaths', 'Deaths', 'Population',\n",
       "       'Population', 'Population', 'Population'],\n",
       "      dtype='object')"
      ]
     },
     "execution_count": 106,
     "metadata": {},
     "output_type": "execute_result"
    }
   ],
   "source": [
    "grouped.columns.get_level_values(0)"
   ]
  },
  {
   "cell_type": "markdown",
   "metadata": {},
   "source": [
    "Now, get the level values for the inner layer of the index. "
   ]
  },
  {
   "cell_type": "code",
   "execution_count": 107,
   "metadata": {},
   "outputs": [
    {
     "data": {
      "text/plain": [
       "Index(['', '', 'mean', 'min', 'max', 'std', 'mean', 'min', 'max', 'std'], dtype='object')"
      ]
     },
     "execution_count": 107,
     "metadata": {},
     "output_type": "execute_result"
    }
   ],
   "source": [
    "grouped.columns.get_level_values(1)"
   ]
  },
  {
   "cell_type": "markdown",
   "metadata": {},
   "source": [
    "## Flattening the DataFrame\n",
    "\n",
    "We can also **_flatten_** the DataFrame from a multi-hierarchical index to more traditional one-dimensional index.  We do this by creating each unique combination possible of every level of the multi-hierarchical index.  Since this is a complex task, you do not need to write it--but take some time to examine the code in the cell below and see if you can understand how it works! "
   ]
  },
  {
   "cell_type": "code",
   "execution_count": 108,
   "metadata": {},
   "outputs": [
    {
     "data": {
      "text/plain": [
       "Index(['State', 'Gender', 'Deaths_mean', 'Deaths_min', 'Deaths_max',\n",
       "       'Deaths_std', 'Population_mean', 'Population_min', 'Population_max',\n",
       "       'Population_std'],\n",
       "      dtype='object')"
      ]
     },
     "execution_count": 108,
     "metadata": {},
     "output_type": "execute_result"
    }
   ],
   "source": [
    "#We could also flatten these:\n",
    "cols0 = grouped.columns.get_level_values(0)\n",
    "cols1 = grouped.columns.get_level_values(1)\n",
    "grouped.columns = [col0 + '_' + col1 if col1 != '' else col0 for col0, col1 in list(zip(cols0, cols1))]\n",
    "#The list comprehension above is more complicated then what we need but creates a nicer formatting and\n",
    "#demonstrates using a conditional within a list comprehension.\n",
    "#This simpler version works but has some tail underscores where col1 is blank:\n",
    "#grouped.columns = [col0 + '_' + col1 for col0, col1 in list(zip(cols0, cols1))]\n",
    "grouped.columns"
   ]
  },
  {
   "cell_type": "markdown",
   "metadata": {},
   "source": [
    "Now that we've flattened the DataFrame, let's inspect a couple rows to see what it looks like. \n",
    "\n",
    "In the cell below, inspect the head of the `grouped` DataFrame. "
   ]
  },
  {
   "cell_type": "code",
   "execution_count": 109,
   "metadata": {},
   "outputs": [
    {
     "data": {
      "text/html": [
       "<div>\n",
       "<style scoped>\n",
       "    .dataframe tbody tr th:only-of-type {\n",
       "        vertical-align: middle;\n",
       "    }\n",
       "\n",
       "    .dataframe tbody tr th {\n",
       "        vertical-align: top;\n",
       "    }\n",
       "\n",
       "    .dataframe thead th {\n",
       "        text-align: right;\n",
       "    }\n",
       "</style>\n",
       "<table border=\"1\" class=\"dataframe\">\n",
       "  <thead>\n",
       "    <tr style=\"text-align: right;\">\n",
       "      <th></th>\n",
       "      <th>State</th>\n",
       "      <th>Gender</th>\n",
       "      <th>Deaths_mean</th>\n",
       "      <th>Deaths_min</th>\n",
       "      <th>Deaths_max</th>\n",
       "      <th>Deaths_std</th>\n",
       "      <th>Population_mean</th>\n",
       "      <th>Population_min</th>\n",
       "      <th>Population_max</th>\n",
       "      <th>Population_std</th>\n",
       "    </tr>\n",
       "  </thead>\n",
       "  <tbody>\n",
       "    <tr>\n",
       "      <th>0</th>\n",
       "      <td>Alabama</td>\n",
       "      <td>Female</td>\n",
       "      <td>10753.325000</td>\n",
       "      <td>10</td>\n",
       "      <td>116297</td>\n",
       "      <td>24612.250487</td>\n",
       "      <td>1.078713e+06</td>\n",
       "      <td>2087</td>\n",
       "      <td>4334752</td>\n",
       "      <td>1.400309e+06</td>\n",
       "    </tr>\n",
       "    <tr>\n",
       "      <th>1</th>\n",
       "      <td>Alabama</td>\n",
       "      <td>Male</td>\n",
       "      <td>10765.850000</td>\n",
       "      <td>10</td>\n",
       "      <td>88930</td>\n",
       "      <td>20813.538537</td>\n",
       "      <td>1.014946e+06</td>\n",
       "      <td>1129</td>\n",
       "      <td>4284775</td>\n",
       "      <td>1.397830e+06</td>\n",
       "    </tr>\n",
       "    <tr>\n",
       "      <th>2</th>\n",
       "      <td>Alaska</td>\n",
       "      <td>Female</td>\n",
       "      <td>679.975000</td>\n",
       "      <td>13</td>\n",
       "      <td>4727</td>\n",
       "      <td>1154.870455</td>\n",
       "      <td>1.440403e+05</td>\n",
       "      <td>1224</td>\n",
       "      <td>682855</td>\n",
       "      <td>2.015793e+05</td>\n",
       "    </tr>\n",
       "    <tr>\n",
       "      <th>3</th>\n",
       "      <td>Alaska</td>\n",
       "      <td>Male</td>\n",
       "      <td>860.357143</td>\n",
       "      <td>12</td>\n",
       "      <td>5185</td>\n",
       "      <td>1411.777392</td>\n",
       "      <td>1.518884e+05</td>\n",
       "      <td>578</td>\n",
       "      <td>770502</td>\n",
       "      <td>2.238843e+05</td>\n",
       "    </tr>\n",
       "    <tr>\n",
       "      <th>4</th>\n",
       "      <td>Arizona</td>\n",
       "      <td>Female</td>\n",
       "      <td>8998.386364</td>\n",
       "      <td>21</td>\n",
       "      <td>133923</td>\n",
       "      <td>26245.941003</td>\n",
       "      <td>1.246502e+06</td>\n",
       "      <td>12211</td>\n",
       "      <td>6265346</td>\n",
       "      <td>2.096632e+06</td>\n",
       "    </tr>\n",
       "  </tbody>\n",
       "</table>\n",
       "</div>"
      ],
      "text/plain": [
       "     State  Gender   Deaths_mean  Deaths_min  Deaths_max    Deaths_std  \\\n",
       "0  Alabama  Female  10753.325000          10      116297  24612.250487   \n",
       "1  Alabama    Male  10765.850000          10       88930  20813.538537   \n",
       "2   Alaska  Female    679.975000          13        4727   1154.870455   \n",
       "3   Alaska    Male    860.357143          12        5185   1411.777392   \n",
       "4  Arizona  Female   8998.386364          21      133923  26245.941003   \n",
       "\n",
       "   Population_mean  Population_min  Population_max  Population_std  \n",
       "0     1.078713e+06            2087         4334752    1.400309e+06  \n",
       "1     1.014946e+06            1129         4284775    1.397830e+06  \n",
       "2     1.440403e+05            1224          682855    2.015793e+05  \n",
       "3     1.518884e+05             578          770502    2.238843e+05  \n",
       "4     1.246502e+06           12211         6265346    2.096632e+06  "
      ]
     },
     "execution_count": 109,
     "metadata": {},
     "output_type": "execute_result"
    }
   ],
   "source": [
    "grouped.head()"
   ]
  },
  {
   "cell_type": "markdown",
   "metadata": {},
   "source": [
    "## Using Pivots\n",
    "\n",
    "Now, we'll gain some practice using the DataFrame class's built-in `.pivot()` method.  \n",
    "\n",
    "In the cell below, call the DataFrame's pivot method with the following parameters:\n",
    "\n",
    "* index = `'State'`\n",
    "* columns = `'Gender'`\n",
    "* values = `'Deaths_mean'`\n",
    "\n",
    "Then, display the head of our new `pivot` DataFrame to see what it looks like. "
   ]
  },
  {
   "cell_type": "code",
   "execution_count": 110,
   "metadata": {},
   "outputs": [
    {
     "data": {
      "text/html": [
       "<div>\n",
       "<style scoped>\n",
       "    .dataframe tbody tr th:only-of-type {\n",
       "        vertical-align: middle;\n",
       "    }\n",
       "\n",
       "    .dataframe tbody tr th {\n",
       "        vertical-align: top;\n",
       "    }\n",
       "\n",
       "    .dataframe thead th {\n",
       "        text-align: right;\n",
       "    }\n",
       "</style>\n",
       "<table border=\"1\" class=\"dataframe\">\n",
       "  <thead>\n",
       "    <tr style=\"text-align: right;\">\n",
       "      <th>Gender</th>\n",
       "      <th>Female</th>\n",
       "      <th>Male</th>\n",
       "    </tr>\n",
       "    <tr>\n",
       "      <th>State</th>\n",
       "      <th></th>\n",
       "      <th></th>\n",
       "    </tr>\n",
       "  </thead>\n",
       "  <tbody>\n",
       "    <tr>\n",
       "      <th>Alabama</th>\n",
       "      <td>10753.325000</td>\n",
       "      <td>10765.850000</td>\n",
       "    </tr>\n",
       "    <tr>\n",
       "      <th>Alaska</th>\n",
       "      <td>679.975000</td>\n",
       "      <td>860.357143</td>\n",
       "    </tr>\n",
       "    <tr>\n",
       "      <th>Arizona</th>\n",
       "      <td>8998.386364</td>\n",
       "      <td>10036.204545</td>\n",
       "    </tr>\n",
       "    <tr>\n",
       "      <th>Arkansas</th>\n",
       "      <td>6621.615385</td>\n",
       "      <td>6301.690476</td>\n",
       "    </tr>\n",
       "    <tr>\n",
       "      <th>California</th>\n",
       "      <td>48312.840909</td>\n",
       "      <td>49555.522727</td>\n",
       "    </tr>\n",
       "  </tbody>\n",
       "</table>\n",
       "</div>"
      ],
      "text/plain": [
       "Gender            Female          Male\n",
       "State                                 \n",
       "Alabama     10753.325000  10765.850000\n",
       "Alaska        679.975000    860.357143\n",
       "Arizona      8998.386364  10036.204545\n",
       "Arkansas     6621.615385   6301.690476\n",
       "California  48312.840909  49555.522727"
      ]
     },
     "execution_count": 110,
     "metadata": {},
     "output_type": "execute_result"
    }
   ],
   "source": [
    "# Now it's time to pivot!\n",
    "pivot = grouped.pivot(index = 'State', columns = 'Gender', values = 'Deaths_mean')\n",
    "pivot.head()"
   ]
  },
  {
   "cell_type": "markdown",
   "metadata": {},
   "source": [
    "Great! We've just created a pivot table.  \n",
    "\n",
    "Let's reset the index and see how it changes our pivot table. \n",
    "\n",
    "In the cell below, reset the index of the `pivot` object as we did previously.  Then, display the head of the object to see if we can detect any changes."
   ]
  },
  {
   "cell_type": "code",
   "execution_count": 112,
   "metadata": {},
   "outputs": [
    {
     "data": {
      "text/html": [
       "<div>\n",
       "<style scoped>\n",
       "    .dataframe tbody tr th:only-of-type {\n",
       "        vertical-align: middle;\n",
       "    }\n",
       "\n",
       "    .dataframe tbody tr th {\n",
       "        vertical-align: top;\n",
       "    }\n",
       "\n",
       "    .dataframe thead th {\n",
       "        text-align: right;\n",
       "    }\n",
       "</style>\n",
       "<table border=\"1\" class=\"dataframe\">\n",
       "  <thead>\n",
       "    <tr style=\"text-align: right;\">\n",
       "      <th>Gender</th>\n",
       "      <th>State</th>\n",
       "      <th>Female</th>\n",
       "      <th>Male</th>\n",
       "    </tr>\n",
       "  </thead>\n",
       "  <tbody>\n",
       "    <tr>\n",
       "      <th>0</th>\n",
       "      <td>Alabama</td>\n",
       "      <td>10753.325000</td>\n",
       "      <td>10765.850000</td>\n",
       "    </tr>\n",
       "    <tr>\n",
       "      <th>1</th>\n",
       "      <td>Alaska</td>\n",
       "      <td>679.975000</td>\n",
       "      <td>860.357143</td>\n",
       "    </tr>\n",
       "    <tr>\n",
       "      <th>2</th>\n",
       "      <td>Arizona</td>\n",
       "      <td>8998.386364</td>\n",
       "      <td>10036.204545</td>\n",
       "    </tr>\n",
       "    <tr>\n",
       "      <th>3</th>\n",
       "      <td>Arkansas</td>\n",
       "      <td>6621.615385</td>\n",
       "      <td>6301.690476</td>\n",
       "    </tr>\n",
       "    <tr>\n",
       "      <th>4</th>\n",
       "      <td>California</td>\n",
       "      <td>48312.840909</td>\n",
       "      <td>49555.522727</td>\n",
       "    </tr>\n",
       "  </tbody>\n",
       "</table>\n",
       "</div>"
      ],
      "text/plain": [
       "Gender       State        Female          Male\n",
       "0          Alabama  10753.325000  10765.850000\n",
       "1           Alaska    679.975000    860.357143\n",
       "2          Arizona   8998.386364  10036.204545\n",
       "3         Arkansas   6621.615385   6301.690476\n",
       "4       California  48312.840909  49555.522727"
      ]
     },
     "execution_count": 112,
     "metadata": {},
     "output_type": "execute_result"
    }
   ],
   "source": [
    "# Again, notice the subtle difference of reseting the index:\n",
    "pivot = pivot.reset_index()\n",
    "pivot.head()"
   ]
  },
  {
   "cell_type": "markdown",
   "metadata": {},
   "source": [
    "### Visualizing Data With Pivot Tables\n",
    "\n",
    "Now, we'll make use of our newly created pivot table to quickly create some visualizations of our data.  \n",
    "\n",
    "In the cell below, call `pivot.plot()` with the following parameters:\n",
    "\n",
    "* kind = `'barh'`\n",
    "* figsize = `(15,8)`"
   ]
  },
  {
   "cell_type": "code",
   "execution_count": 113,
   "metadata": {},
   "outputs": [
    {
     "data": {
      "image/png": "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\n",
      "text/plain": [
       "<Figure size 1440x1080 with 1 Axes>"
      ]
     },
     "metadata": {},
     "output_type": "display_data"
    }
   ],
   "source": [
    "pivot.plot(kind = 'barh', figsize = (20,15));\n",
    "plt.title('Death Mean by State and Sex', fontsize=22)\n",
    "plt.xlabel('Number of Deaths', fontsize=18)\n",
    "plt.ylabel('State', fontsize=18);"
   ]
  },
  {
   "cell_type": "markdown",
   "metadata": {},
   "source": [
    "Notice the Y-axis is currently just a list of numbers.  That's because when we reset the index, it defaulted to assigning integers as the index for the DataFrame.  Let's set the index back to `'State'`, and then recreate the visualization. \n",
    "\n",
    "In the cell below:\n",
    "\n",
    "* Use the `pivot` object's `set_index()` method and set the index to `'State'`.  Then, chain this with a `.plot()` call to recreate the visualization using the code we used in the cell above.  \n",
    "\n",
    "All the code in this cell should be done in a single line.  Just call the methods--do not rebind `pivot` to be equal to this line of code. "
   ]
  },
  {
   "cell_type": "code",
   "execution_count": 114,
   "metadata": {},
   "outputs": [
    {
     "data": {
      "image/png": "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\n",
      "text/plain": [
       "<Figure size 1440x1080 with 1 Axes>"
      ]
     },
     "metadata": {},
     "output_type": "display_data"
    }
   ],
   "source": [
    "#Where's the states?! Notice the y-axis is just a list of numbers.\n",
    "#This is populated by the DataFrame's index.\n",
    "#When we used the .reset_index() method, we created a new numbered index to name each row. \n",
    "#Let's fix that by making state the index again.\n",
    "pivot.set_index('State').plot(kind = 'barh', figsize = (20,15));\n",
    "plt.title('Death Mean by State and Sex', fontsize=22)\n",
    "plt.xlabel('Number of Deaths', fontsize=18)\n",
    "plt.ylabel('State', fontsize=18);"
   ]
  },
  {
   "cell_type": "markdown",
   "metadata": {},
   "source": [
    "Now, that we've created a visualization with the states as the y-axis, let's print out the head of the `pivot` object again. "
   ]
  },
  {
   "cell_type": "code",
   "execution_count": 115,
   "metadata": {},
   "outputs": [
    {
     "data": {
      "text/html": [
       "<div>\n",
       "<style scoped>\n",
       "    .dataframe tbody tr th:only-of-type {\n",
       "        vertical-align: middle;\n",
       "    }\n",
       "\n",
       "    .dataframe tbody tr th {\n",
       "        vertical-align: top;\n",
       "    }\n",
       "\n",
       "    .dataframe thead th {\n",
       "        text-align: right;\n",
       "    }\n",
       "</style>\n",
       "<table border=\"1\" class=\"dataframe\">\n",
       "  <thead>\n",
       "    <tr style=\"text-align: right;\">\n",
       "      <th>Gender</th>\n",
       "      <th>State</th>\n",
       "      <th>Female</th>\n",
       "      <th>Male</th>\n",
       "    </tr>\n",
       "  </thead>\n",
       "  <tbody>\n",
       "    <tr>\n",
       "      <th>0</th>\n",
       "      <td>Alabama</td>\n",
       "      <td>10753.325000</td>\n",
       "      <td>10765.850000</td>\n",
       "    </tr>\n",
       "    <tr>\n",
       "      <th>1</th>\n",
       "      <td>Alaska</td>\n",
       "      <td>679.975000</td>\n",
       "      <td>860.357143</td>\n",
       "    </tr>\n",
       "    <tr>\n",
       "      <th>2</th>\n",
       "      <td>Arizona</td>\n",
       "      <td>8998.386364</td>\n",
       "      <td>10036.204545</td>\n",
       "    </tr>\n",
       "    <tr>\n",
       "      <th>3</th>\n",
       "      <td>Arkansas</td>\n",
       "      <td>6621.615385</td>\n",
       "      <td>6301.690476</td>\n",
       "    </tr>\n",
       "    <tr>\n",
       "      <th>4</th>\n",
       "      <td>California</td>\n",
       "      <td>48312.840909</td>\n",
       "      <td>49555.522727</td>\n",
       "    </tr>\n",
       "  </tbody>\n",
       "</table>\n",
       "</div>"
      ],
      "text/plain": [
       "Gender       State        Female          Male\n",
       "0          Alabama  10753.325000  10765.850000\n",
       "1           Alaska    679.975000    860.357143\n",
       "2          Arizona   8998.386364  10036.204545\n",
       "3         Arkansas   6621.615385   6301.690476\n",
       "4       California  48312.840909  49555.522727"
      ]
     },
     "execution_count": 115,
     "metadata": {},
     "output_type": "execute_result"
    }
   ],
   "source": [
    "# Also notice that if we call the DataFrame pivot again, state is not it's index.\n",
    "#The above method returned a DataFrame with State as index and we plotted it,\n",
    "#but it did not update the DataFrame itself.\n",
    "pivot.head()"
   ]
  },
  {
   "cell_type": "markdown",
   "metadata": {},
   "source": [
    "Note that the index has not changed.  That's because the code we wrote when we set the index to the 'State' column returns a copy of the DataFrame object with the index set to 'State'--by default, it does not mutate original `pivot` object.  \n",
    "\n",
    "If we want to do that, we'll need to capture the new object returned by updating the contents of the `pivot` variable.  \n",
    "\n",
    "In the cell below, set the index of `pivot` to `'State'`.  Then, recreate the bar plot using this new object.  "
   ]
  },
  {
   "cell_type": "markdown",
   "metadata": {},
   "source": [
    "Again, let's check the head of the DataFrame to confirm that the index structure has changed.  "
   ]
  },
  {
   "cell_type": "code",
   "execution_count": 116,
   "metadata": {},
   "outputs": [
    {
     "data": {
      "text/html": [
       "<div>\n",
       "<style scoped>\n",
       "    .dataframe tbody tr th:only-of-type {\n",
       "        vertical-align: middle;\n",
       "    }\n",
       "\n",
       "    .dataframe tbody tr th {\n",
       "        vertical-align: top;\n",
       "    }\n",
       "\n",
       "    .dataframe thead th {\n",
       "        text-align: right;\n",
       "    }\n",
       "</style>\n",
       "<table border=\"1\" class=\"dataframe\">\n",
       "  <thead>\n",
       "    <tr style=\"text-align: right;\">\n",
       "      <th>Gender</th>\n",
       "      <th>State</th>\n",
       "      <th>Female</th>\n",
       "      <th>Male</th>\n",
       "    </tr>\n",
       "  </thead>\n",
       "  <tbody>\n",
       "    <tr>\n",
       "      <th>0</th>\n",
       "      <td>Alabama</td>\n",
       "      <td>10753.325000</td>\n",
       "      <td>10765.850000</td>\n",
       "    </tr>\n",
       "    <tr>\n",
       "      <th>1</th>\n",
       "      <td>Alaska</td>\n",
       "      <td>679.975000</td>\n",
       "      <td>860.357143</td>\n",
       "    </tr>\n",
       "    <tr>\n",
       "      <th>2</th>\n",
       "      <td>Arizona</td>\n",
       "      <td>8998.386364</td>\n",
       "      <td>10036.204545</td>\n",
       "    </tr>\n",
       "    <tr>\n",
       "      <th>3</th>\n",
       "      <td>Arkansas</td>\n",
       "      <td>6621.615385</td>\n",
       "      <td>6301.690476</td>\n",
       "    </tr>\n",
       "    <tr>\n",
       "      <th>4</th>\n",
       "      <td>California</td>\n",
       "      <td>48312.840909</td>\n",
       "      <td>49555.522727</td>\n",
       "    </tr>\n",
       "  </tbody>\n",
       "</table>\n",
       "</div>"
      ],
      "text/plain": [
       "Gender       State        Female          Male\n",
       "0          Alabama  10753.325000  10765.850000\n",
       "1           Alaska    679.975000    860.357143\n",
       "2          Arizona   8998.386364  10036.204545\n",
       "3         Arkansas   6621.615385   6301.690476\n",
       "4       California  48312.840909  49555.522727"
      ]
     },
     "execution_count": 116,
     "metadata": {},
     "output_type": "execute_result"
    }
   ],
   "source": [
    "pivot.head()"
   ]
  },
  {
   "cell_type": "markdown",
   "metadata": {},
   "source": [
    "Finally, let's stack these bar charts to see how that looks. \n",
    "\n",
    "In the cell below, recreate the visualization we did in the cell above, but this time, also pass in `stacked=True` as a parameter. "
   ]
  },
  {
   "cell_type": "code",
   "execution_count": 118,
   "metadata": {
    "scrolled": true
   },
   "outputs": [
    {
     "data": {
      "image/png": "iVBORw0KGgoAAAANSUhEUgAABO0AAAN6CAYAAADSH71rAAAABHNCSVQICAgIfAhkiAAAAAlwSFlzAAALEgAACxIB0t1+/AAAADl0RVh0U29mdHdhcmUAbWF0cGxvdGxpYiB2ZXJzaW9uIDIuMi4yLCBodHRwOi8vbWF0cGxvdGxpYi5vcmcvhp/UCwAAIABJREFUeJzs3XmYHVWd//H3h7CENawyCEJQQBDCsDQgiwiIRAW3QQWVEVREHUTREYfRHxicUVBxQRQwKouoMAISWVwQITjsJAYSFgWFCAgiyxgBCSTh+/ujquHSdGfpdLo75P16nvvcqlOnTp2qe29IvnzPOakqJEmSJEmSJA0fSw11ByRJkiRJkiQ9l0E7SZIkSZIkaZgxaCdJkiRJkiQNMwbtJEmSJEmSpGHGoJ0kSZIkSZI0zBi0kyRJkiRJkoYZg3aSJGmhJJmepDpeTyf5e5J7klya5NgkWw51P+dXknHtfYwbwDYP6ng+TyRZdS51N+7xPHcbqH4MB0lOb+/roGHQl+WT/HuSq5L8X5JZSf6a5OYkZyb5UJIVh7qfS4qOP0tGL+B56yU5Psm0JI8lmZnk3iQ3JPlWkrctmh5LkrRoGbSTJEkD5ZfAGcD3gV8AfwC6gCOBm5JckOSfhrB/AHQHw4awCyOB/edy/KBB6scSLck6wG+B44FtganAucBVwNLAAcDJwIY9zhvwoG7bbndg9/SBbPeFLsmuwK3AvwPrAFcD59F8nusC/wacMmQdlCRpISw91B2QJEkvGMdV1cTOgiRLAW8Evtq+X5Fkp6p6eAj6NxxMAbakCcw9L5DQPq/3AP8HPAxsNJidW8J8E9gUuBzYr6oe7DyYZH3gQOCxIeib5kOS5YCzgJWBrwD/r6pm9qizLWCmnSRpsWSmnSRJWmSq6umq+ilNxt0fgE1o/nG9pLoP+BWwQ5JNezm+J7AecDbw5GB2bEmSZHngTe3uh3oG7ACq6u6q+q+qmj6ondOCeBXwYuC+qvpkz4AdQFVNrqr/HPyuSZK08AzaSZKkRa6q/g84vN09oLdhsknWSPLfHfNSPZ7kt0k+nmSZXuqvleRjSX6R5K52HqsZSa5NcmiSET3qj+scFttj3rheh8smWTvJt9v5sZ5sr3NckpEL8ThOa98P6uXYe3vU6VOSse2Q4weSPJXk/iRnJRnTR/092/m9bkrycHs/f0pyRpLN+jjnmfnnkmyU5Eft9Z5M8rsk/9FmB/ZLkq2STEjyUJJ/JJmc5L291Lus7Uefw4qTfLWt86X5uPRqPDvi5K8L0N8CPtvufrbHd2hcR70dknw5yaSOz+e+JOcmeWUv7U7n2c/8wB7tnt6j7jLtXHv/m2YevplJ7mjvf635vZeOtv61/d78Psmj7edwa5IvJlm9j/OemXsuyWuT/Lr97f2j/f29qbfz2nM3SPL99rk80V7rU0n6MwLoRe3784Ku82NBnmWSNds/ByrJu3ppa+0kf2mPm9knSRoQBu0kSdJg+RnwCDAC2L3zQBtomgp8BlgVmAhcAWxAM7T250mW7dHeWODrwObAdGACzRxlW9EMfTwvSTrq30gz5163M3q8enoJMBnYB7im7dOLgP8Afjyf99ybn9IMf/3XzsBimsUp3gLcUlU3zK2BJCfQzBv4euCPNPd+P81cedcneUMvp50CvB+YDfwvzefxFM1w3ElJdpnLJbeieRY70AwnvRp4GXAccMI87rcvO9A81y1osg+vAf4ZODXJN3rU7d7/t94aSpM5dxDwNPM3f9lDwBPt9scWoM9nADe12zfx3O/PjR31Pg98HFgGuB64gGa4877AlUne3qPd7rn0oPk8O9u9srtSklWAy2jm2htD832/mCYA+XGaz3H0AtzP2jRzUI5t+/czmt/dWsCngBuSrDmX899PM5flSu25v6P5XCf0FrhK8gpgEvCvNJmkPwXuAf4L+J8F6He3u9v3LZK8ZkFOXNBnWVUP0fy+5gDfTrJJR1tLAT+keZ4nVdW5/bgXSZKer6p8+fLly5cvX776/aIJmBWw23zUvbSt+98dZcsDd7bl/wks3XFsdZqATgHjerS1GbBDL9dYh2buuKKZq6zn8Wr+CtRnH8d11wG+Ayzb45qPtsd2XoBndFB7zkXt/rfa/dd31PlQW/bJdv/m3p5rR72bgU17HHsLMIsmKLhaL8dW7VEW4INte7cC6XH89I5nMQ5YquPYrjQBjDnASxbgWXS2eQIwouPYDsDf22Nv6Cgf0fE926KXNt/X+Xznsx/f6OjHLcCXgXcAL5vHed3fj3FzqfM6YO1eyt9IEyh9GFihj+/I6XNp9+y2zjmdn2/7fL7YHpu4AM9g5bZPy/QoXx44tW3v5F7O6/4sngRe1+PY/2uP3dHLeZPbY9/nub+rzWkyHrs/j9Hz2f+lePa3/jRNQPn/AW8A1prHuf16ljR/RhVNkHa5tuyzbdmU7jJfvnz58uVrIF5m2kmSpMHUPYxtjY6yg2hW6PxxVR1bVbO7D1TVIzSLAcwCDu3MnKuq26rqup4XqKr7abKEYOEmoL8H+GhVPdV5TeDMdneBMnt66G2I7HtpsuB+0NdJbWbe0e3uO6rqd53Hq2oC8G2abMUDeh6rqr/1KKuq+jZN5txmwCv6uPQNwDFV9XTHub+hybJaih6Zk/PpPuBTVTWno83rgK+1ux/vKJ8DnNTu9pZt1112Ui/H+vJJ4ESaZ/6Kdv9/gD8kuSfJF5KstgDtPaOqflFVD/RSfiFNkGh1FvCZtVlq+wF/At5TzZDz7nbn0ASTpgKvTh9DpHvpz6NVdWFVzepR/gTwEZpns+9cmjixqn7Ro+xLwAxgozSLeXT3/1XANu2xw3r8rm6hybZbIO33cW+awH6A3dp2Lgb+mmRKO/y151D5hXmWx9F87/8Z+FqS3Wl+k4/S/Cadi1KSNGBcPVaSJA2m7v9h+HRHWfdQznN6O6Gq7ktyB01gZWPg9u5j7TxYewA7Av8EjKT5x/vKbZVN6L/L2uBFT92Bshf3t+GqmpTkZuDNbWDon4DtaTLF/jKXU7eiySS8papu7aPOFcChNM/kxM4DSdajCXJsCqxCk1VEe31ontctvbT5s6rqbd6/39EM0e3PszinjwDHmTRBkF2SLN0RxP0uTZbbAUn+o6oehWb+OGBbmmzNngGkPrVBo48mOQ74F2CXtp2NaBYD+U/g3UleXf1YjKIdVroPzfDfVXn2791btO+b0ASX5tfr2/eLevteVtXTSa6kWZ14R2DaAvR1a5og9GhgRZrfEDRZgWslWa0zsNXhol768VSSO4Gtab4X3UNYX93R/xm9tHUmzw6Dnm9VdR+wV5ItaRYX2ZHmc1yb5vdyMrBvkr07AoX9fpZVVUn+lSar7sPAu2n+XDukqu5Y0P5LkjQ3Bu0kSdJg6p4f65GOspe27+c8dwq6Xq1FG7Rr55SaQJMh1pdV+tHHbnf3Uf739n1hFqOAZpjo8cA7aYIlMO8FKLqf1ebpY/GMDj0n0j8G+DRz//tfX89rUTyLu+ZyrafbNtcAHoAm6zLJD4GDaeZE65l5d3JnJuD8aoM+32xfJHkJzVxtRwLr0wxl3ntB2kzyQZq5GFeYS7UF/W52f/aHJjl0HnXna0GKJCvRzMXW58IRrVVohlz3tCDfi/Xa914/96r6W5IZwKh59KVXVTWVJjsOgCT/TJNx+y6aVZk/RjMEGhbyWVbVg0k+QDOP3yrAaVV1dn/6LUnS3Bi0kyRJg6Id2rp1u9uZBdSd7XUxzQIBc/Nwx/a5NAG7C2iG5N0GzKiqOW1A7/c8mzHUHwscAFpAP6AZavc+moykh+glc6mH7mf1Z5r5AefmmaGzSfbl2SF8n6CZgP/+7iyjJD+iCR729bwW9bPoS8/A5Ik0QbsPAyclWYNmHrqZNHOwLfwFq+4BxrUBpK/SZHEt30fW5fMk6aLJ7poNHAFcCNwL/KPN0voCTRbfgn43uz/7yTTzGc5Nb9mSvTmWJmB3K02QchLwUPdw2ST30WR2DrfvxTxV1U00mZIr0dzjW3g2aDcQz/LdHdv/nGQ5h8ZKkgaaQTtJkjRY9gZWowlmTOwovwd4OU2m1HwNF0yyKc2Kj38F/qVzXrTWRgvd20Wsqh5I8nOahQAAvtE5z1cf7mnf76+qgxbgct2rlX66qr7by/GheF6j+yhfn2a44Uyem5FJVU1N8htg1yS7Aq+kyeY6vZ3/cCBd0r4vTfO9na+gHc08iqH5PI/v5Xh/n3X3Z395VR3RzzZ66v5e7FdVzwleJVmRZ4dND4Q/t++jezuYZBT9zLKbh0tognadGXML9SyTvJ8maHcXzbx4u9FkzR62UD2VJKkHF6KQJEmLXDtvW/cCA2dU1V87Dv+8fX8782/19v2+XgJ28NwsmJ66s4iGw/+8/C5N9uDDzHtoLMD1bd2tkyxI8Kf7ed3T80CSzXg2A3IwvT3Jsr2Ud392V3UuStKhe56+j9CsfAsLtgBFd9bnvHQvovAkz80A7Q6s9vX9mduzXgt4bR/nzavd7t/JWwbwu9tnX2mGlS5MpmpPV7Tvb0zS29DgA3opm6sF/Bzv7Sjr97NMsjnNd3AWsD9NhuoDwEeSvHVB2pIkaV4M2kmSpEUmyVJJ3kSz+uhGNEM2e2a2jKcJGhyY5Jgkz5sHLMkWSd7bUXQHzdC8LdqMq86676X5h3RfujN+5jYX3qCoqguqas32deN81J9FszrmCGBCku171kmyYpJ3tsG4bt1DZT/QGShL8iLgDIZm9MW6wHFJnvn7aJLtaIbvApzQx3kTaL4vb6eZm+yGqrphAa89KsnkJO/q4/s2Bvh6u3t+jwzIeX1/up/1e9qhmd1trkwzhHfVPs6ba7tV9Vuae98I+HG7qEjPfq+T5PAFCER19/U587q1Q3yPnc825tf/AjfSZNOdkGSZjuttBhzVjzbfmOQnSfbo/B61bSbJW2iCu9CsDAz0/1m235UfA8sDR1bV9e3CMQfQ/Hl0apLR/bgPSZJ6NRz+D7MkSXphODLJQe32SJrhaNvwbJBiAvDBnqtQVtVjSfammc/taJqMlanAX2hWgNyQZkjddbTZaO1E8CfR/IP88iRXtPXH0KzOeSzNvGG9OR/4OPDrJJcBj7VtHrwwNz9YquqEJBvQ3MN17bP6I83/jH0JzcqwK9CskHlbe9rXgffQDFH+Q5LraAIPr6YJgE2gmfNrMJ1Cs4jEG5NMovm+vJrm76cnVdWFvZ1UVbOTnAx8oS36Vj+vvw3NIgwzk0yhWVRhGZrvW+fci4f3OO+XwD+Af2mH6v4RmANcUFUX0HxHD2/bv7NdhTTArjTZdKfSzGPY07U03+Ft2udxC00211VV1Z2FeSDNHI5vBV6f5Caa4Zmr0Hz2m9F8D06hGYY+L5+jWbX580neQfN9eTHNSrpnAzsDG8xHO/PUserqFcBBwB5JrqH582F3mjktt1nA6y1F8yzeCjzSfo5/pXker6D5LAHOAr7T49z+PMtvte1exLOZw1TVpe0qxJ8Gzk7yqu55ASVJWhhm2kmSpIEyluYfwt3BoU1oJno/FhhTVW/tMSz2GVU1DdiS5h+9d9D84/1f2jb+QpNddkiP0z7Wlt0EbE8TpHqgfR8/l35+hmaBgcfaa7y/fS02quoTNAGus2nmW9ubZl6tFWgWPng3TWZTd/07aZ7p2TQBpDfSBCXGAzsCMwav98+4DtiJJttrLE2AaBrwAZ7NjurLr9r3h+nIoFoAM2jmw/t/wJU0AcN9aJ7LOm37Hwa6quqBzhPbzKp9aOZl3JLmO/9+mudLG5Tuonm2j9F8Nl3AT9o6vQ1FpV3E4HU0wasNabK33k/zOXfX+TvwGprf2G+Al9F8h7elCSydAoytqpnz8xCq6lyagNnlNIGqN9IErQ6nWaF3QLXz5nXRLMKyPE2geDRwDM2CIgvqFzS/96/QLDyzMc3zeE17/Bxgn6p6V8+VhRf0WSY5gCbYeC9wUFX1XCTlaJrv0g4MfJaiJGkJlef/90aSJEkavpJ8jSaw9KWq+o+h7o8kSdKiYNBOkiRJi40kL6EZxrkMsFFV9Zq5JkmStLhzTjtJkiQNe+2cYevRrL66IvBlA3aSJOmFzEw7SZIkDXtJpgPrA/cDZwJHOdm/JEl6ITNoJ0mSJEmSJA0zDo9Vn9Zcc80aPXr0UHdDkiRJkiTpBWPy5MkPVdVa86pn0E59Gj16NJMmTRrqbkiSJEmSJL1gJPnT/NRbalF3RJIkSZIkSdKCMWgnSZIkSZIkDTMOj1Xf7psC40Yt2muMm7Fo25ckSZIkSVoMGbQbIEm+Bvypqr7e7v8SuKeqDm73vwL8uaq+ugiu/TngN1V16UC3LUmSJEmS1JdZs2Zx7733MnPmzKHuyrAzcuRI1ltvPZZZZpl+nW/QbuBcDbwd+HqSpYA1gVU6ju8EHL4oLlxVRy+KdiVJkiRJkubm3nvvZeWVV2b06NEkGeruDBtVxcMPP8y9997Lhhtu2K82nNNu4FxFE5gD2By4GXg0yWpJlgM2Aw5P8ubuE5L8MMmbkoxMclqSaUmmJNm9PX5QkglJLkxyV5KPJPlEW+faJKu39U5P8rZ2e3qSY5L8tm1v07Z8rSS/asu/neRPSdYcvMcjSZIkSZJeaGbOnMkaa6xhwK6HJKyxxhoLlYFopt0Aqar7ksxOsj5N8O4aYF1gR2AGMBU4Bfg48NMko9p6BwIfa9sY0wbZLkmySdv0FsDWwEjgD8B/VNXW7XDc9wBf76U7D1XVNkn+DfgkcDDwWeCyqjo2yeuAQ3q7jySHdB8bscpajJ552kI9l3mZvkhblyRJkiRJi5oBu94t7HMx025gdWfbdQftrunYv7qqrgA2SvIi4J3AeVU1G9gFOBOgqn4H/AnoDtpdXlWPVtWDNMG/C9vyacDoPvrxk/Z9ckedXYCz22v8Avi/3k6sqvFV1VVVXSNWWMSLUEiSJEmSJKlXBu0G1tU0AboxNMNjr6XJtNuJJqAHTXDu3cB7ge40trmFXp/s2H66Y/9p+s6U7K4zp6OOYW9JkiRJkjRsPfDAA7zrXe/ipS99Kdtuuy077rgj559//kK3O3HiRPbZZ58B6OHgMmg3sK4C9gEeqao5VfUIsCpN4O6ats7ptAtSVNUtbdlvaAJ5tMNi1wd+P8B9uxJ4R3uNvYDVBrh9SZIkSZKkfqkq3vKWt7Drrrty5513MnnyZM4++2zuvffeQe/L7NmzB/2avXFOu4E1jWbV2B/1KFupqh4CqKoHktwGTOiocxJwSpJpwGzgoKp6coDHhB8DnJVkP+AK4H7g0bmdMGbdUUw6bu+B7IMkSZIkSdLzXHbZZSy77LJ86EMfeqZsgw024LDDDmPOnDkceeSRTJw4kSeffJJDDz2UD37wg0ycOJFx48ax5pprcvPNN7Ptttvygx/8gCT84he/4PDDD2fNNddkm222eabNxx9/nMMOO4xp06Yxe/Zsxo0bx5vf/GZOP/10Lr74YmbOnMnjjz/OZZddNhSP4TkM2g2gqpoDrNKj7KDO/SQrABsDZ3XUmQk8p15bfjpNZl73/ujejnVeo0edScBu7e4MYGxVzU6yI7B7VXUOvZUkSZIkSRoSt9xyy3OCa52+973vMWrUKG644QaefPJJdt55Z/baay8ApkyZwi233MKLX/xidt55Z6666iq6urr4wAc+wGWXXcZGG23Efvvt90xbn//859ljjz049dRT+dvf/sb222/PnnvuCcA111zD1KlTWX311Rf9Dc8Hg3aDKMmewKnAV6tqxiBffn3gx0mWAp4CPjDI15ckSZIkSZovhx56KFdeeSXLLrssG2ywAVOnTuXcc88FYMaMGdxxxx0su+yybL/99qy33noAbLXVVkyfPp2VVlqJDTfckI033hiAAw44gPHjxwNwySWXcMEFF3D88ccDMHPmTO6++24AXvva1w6bgB0YtBtUVXUpTfBsKK59B7D1UFxbkiRJkiRpbjbffHPOO++8Z/a/9a1v8dBDD9HV1cX666/PiSeeyNixY59zzsSJE1luueWe2R8xYsQz89H1NeVYVXHeeefx8pe//Dnl1113HSuuuOJA3c6AcCEKSZIkSZIkDak99tiDmTNncvLJJz9T9o9//AOAsWPHcvLJJzNr1iwAbr/9dh5//PE+29p000256667+OMf/wjAWWc9M0MZY8eO5cQTT6SqgGZ47XBl0E6SJEmSJElDKgkTJkzgiiuuYMMNN2T77bfnwAMP5Itf/CIHH3wwr3jFK9hmm23YYost+OAHPzjXFV5HjhzJ+PHj2Xvvvdlll13YYIMNnjl21FFHMWvWLLbccku22GILjjrqqMG4vX5Jd2RR6qmrq6smTZo01N2QJEmSJEnD1G233cZmm2021N0Ytnp7PkkmV1XXvM41006SJEmSJEkaZlyIQn27bwqMGzXUvZAWL+MGe2FoSZIkSdILkZl2/ZTka0kO79j/ZZLvdux/Jcmnk5w7ND2EJD9LsupQXV+SJEmSJEn9Y9Cu/64GdgJIshSwJrB5x/GdgF9X1duGoG8AVNUbqupvQ3V9SZIkSZIk9Y9Bu/67ijZoRxOsuxl4NMlqSZYDNgP+L8nNAEk2T3J9khuTTE2ycVv+nnb/piRntmUbJPl1W/7rJOu35acn+UaSq5PcmeRtbfk6SX7Ttn1zkle15dOTrJlkdJLbknwnyS1JLkmy/GA+LEmSJEmSJM0/57Trp6q6L8nsNqC2E3ANsC6wIzADmAo81XHKh4ATquqHSZYFRiTZHPgMsHNVPZRk9bbuN4HvV9UZSd4HfAN4S3tsHWAXYFPgAuBc4F3AL6vq80lGACv00uWNgXdW1QeS/BjYF/hBz0pJDgEOARixylqMnnlav56PtMQ68uI+D00/bu9B7IgkSZIkaXFm0G7hdGfb7QR8lSZotxNN0O7qHnWvAT6TZD3gJ1V1R5I9gHOr6iGAqnqkrbsj8C/t9pnAlzramVBVTwO3Jlm7LbsBODXJMu3xG3vp610d5ZOB0b3dUFWNB8YDLLfOxjWP+5ckSZIkSXrG6LkkMvTH/CQ/jBgxgjFjxjyzP2HCBEaPHj2g/eh2+umnM2nSJL75zW8ukvY7GbRbON3z2o2hGR57D/DvwN+BUzsrVtWPklwH7A38MsnBQID5CYx11nmyYztt279Jsmvb9plJvlxV3+/RRud5cwCHx0qSJEmSpMXe8ssvz4039pa/tHhzTruFcxWwD/BIVc1pM+VWpcmUu6azYpKXAndW1TdohrVuCfwaeEeSNdo63cNjrwb2b7ffDVw5t04k2QD4a1V9B/gesM0A3JskSZIkSdJiac6cORxxxBFst912bLnllnz7298GYOLEibz61a/mHe94B5tssglHHnkkP/zhD9l+++0ZM2YMf/zjHwG48MIL2WGHHdh6663Zc889eeCBB553jQcffJB9992X7bbbju22246rrrpqQO/BTLuFM41m1dgf9ShbqZ2jbqWO8v2AA5LMAv4CfK6qHknyeeCKJHOAKcBBwEdphrseATwIvHce/dgNOKJt+zHgPQt9Z8CYdUcxyTm4JEmSJEnSMPbEE0+w1VZbAbDhhhty/vnn873vfY9Ro0Zxww038OSTT7Lzzjuz1157AXDTTTdx2223sfrqq/PSl76Ugw8+mOuvv54TTjiBE088ka9//evssssuXHvttSThu9/9Ll/60pf4yle+8pzrfuxjH+PjH/84u+yyC3fffTdjx47ltttuG7D7Mmi3EKpqDrBKj7KDOranA1u028cCx/bSxhnAGT3KpgN79FL3oB77K/XVRls+ut18qLsfbfnxfd6UJEmSJEnSYqS34bGXXHIJU6dO5dxzzwVgxowZ3HHHHSy77LJst912rLPOOgC87GUveyaYN2bMGC6//HIA7r33Xvbbbz/uv/9+nnrqKTbccMPnXffSSy/l1ltvfWb/73//O48++igrr7zygNyXQTtJkiRJkiS9oFQVJ554ImPHjn1O+cSJE1luueWe2V9qqaWe2V9qqaWYPXs2AIcddhif+MQneNOb3sTEiRMZN27c867x9NNPc80117D88otm2QDntJMkSZIkSdILytixYzn55JOZNWsWALfffjuPP/74fJ8/Y8YM1l13XQDOOON5gxsB2GuvvZ6ziuxAL4Zhpp0kSZIkSZIGxPRhMjf+wQcfzPTp09lmm22oKtZaay0mTJgw3+ePGzeOt7/97ay77rq88pWv5K677npenW984xsceuihbLnllsyePZtdd92VU045ZcDuIVU1YI3phaWrq6smTZo01N2QJEmSJEnD1G233cZmm2021N0Ytnp7PkkmV1XXvM51eKwkSZIkSZI0zBi0kyRJkiRJkoYZ57RT3+6bAuNGDXUvNJyMmzHUPZAkSZIkaYmwRGbaJflaksM79n+Z5Lsd+19J8ol+tHt4khV6KR+X5NgeZVslua3d/lmSVRfwWh9K8p551OlK8o0FaVeSJEmSJElDb4kM2gFXAzsBJFkKWBPYvOP4TsBV/Wj3cOB5QTvgLGC/HmX7Az8CqKo3VNXfOg+m0efnU1WnVNX359aZqppUVR+dr55LkiRJkiRp2FhSg3ZX0QbtaIJ1NwOPJlktyXLAZsAUgCRHJLkhydQkx7RlKya5OMlNSW5Osl+SjwIvBi5Pcnnnxarq98DfkuzQUfwO4Oy2velJ1kwyOsltSU4Cfgu8JMn7k9yeZGKS7yT5ZnvOuCSfbLcnJvlikuvbuq9qy3dLclG7vX2Sq5NMad9fPuBPVZIkSZIkSQNiiZzTrqruSzI7yfo0wbtrgHWBHYEZwNSqeirJXsDGwPZAgAuS7AqsBdxXVXsDJBlVVTPaIbW7V9VDvVz2LJrsuuuSvBJ4uKru6KXey4H3VtW/JXkxcBSwDfAocBlwUx+3tXRVbZ/kDcBngT17HP8dsGtVzU6yJ/AFYN+ejSQ5BDgEYMQqazF65ml9XE5LpCMvZvpxew91LyRJkiRJw9VAz40/H3OrJ+GAAw7gzDPPBGD27Nmss8467LDDDlx00UV9njdx4kSOP/74udYZSktqph08m23XHbS7pmP/6rbOXu1rCk3m26Y0QbyUWQO3AAAgAElEQVRpwJ5tdturqmp+Zuc/G3hbO+R1f5ogXm/+VFXXttvbA1dU1SNVNQs4Zy7t/6R9nwyM7uX4KOCcJDcDX+O5w4GfUVXjq6qrqrpGrOAiFJIkSZIkaXhbccUVufnmm3niiScA+NWvfsW66647xL1aeEty0K57XrsxNMNjr6XJtOuczy7AsVW1VfvaqKq+V1W3A9vSBO+OTXL0vC5WVfcA04FX02S4/biPqo93bGcB7ufJ9n0OvWdQ/hdweVVtAbwRGLkAbUuSJEmSJA1br3/967n44osBOOuss3jnO9/5zLHrr7+enXbaia233pqddtqJ3//+9887//HHH+d973sf2223HVtvvTU//elPB63vfVmSg3ZXAfsAj1TVnKp6BFiVJnB3TVvnl8D7kqwEkGTdJC9qh63+o6p+ABxPM3wVmiGsK8/lmmfRZLn9sarunY8+Xg+8up1rb2l6Gc66AEYBf263D1qIdiRJkiRJkoaV/fffn7PPPpuZM2cydepUdtjh2WUFNt10U37zm98wZcoUPve5z/HpT3/6eed//vOfZ4899uCGG27g8ssv54gjjuDxxx9/Xr3BtETOadeaRrNq7I96lK3UPSddVV2SZDPgmiQAjwEHABsBX07yNDAL+HB7/njg50nur6rde7nmOcAJwGHz08Gq+nOSLwDXAfcBt9LMudcfXwLOaOfdu2x+Thiz7igmOX+ZJEmSJEka5rbcckumT5/OWWedxRve8IbnHJsxYwYHHnggd9xxB0mYNWvW886/5JJLuOCCCzj++OMBmDlzJnfffTebbbbZoPS/N0ts0K6q5gCr9Cg7qJd6J9AE2jr9kSYLr2fdE4ET53LNB4Fleikf3W4+BGzR4/CPqmp8m2l3PnBJe864jvN369h+iHZOu6qaCExst68BNulo96i++ilJkiRJkrS4edOb3sQnP/lJJk6cyMMPP/xM+VFHHcXuu+/O+eefz/Tp09ltt92ed25Vcd555/Hyl798EHs8d0vy8NjFxbgkN9LMu3cXMGGI+yNJkiRJkjTsvO997+Poo49mzJgxzymfMWPGMwtTnH766b2eO3bsWE488USqCoApU6Ys0r7OjyU2025xUVWfHOo+SJIkSZIkzZdx/Z3Va+Gtt956fOxjH3te+ac+9SkOPPBAvvrVr7LHHnv0eu5RRx3F4YcfzpZbbklVMXr0aC666KJF3eW5SncEUeqpq6urJk2aNNTdkCRJkiRJw9Rtt902pPO+DXe9PZ8kk6uqa17nOjxWkiRJkiRJGmYM2kmSJEmSJEnDjEE7SZIkSZIk9ZtTr/VuYZ+LC1Gob/dNgXGjhroX0gvDEE7GKkmSJEmLysiRI3n44YdZY401SDLU3Rk2qoqHH36YkSNH9rsNg3a9SPI14E9V9fV2/5fAPVV1cLv/FeDPVfXVBWhzOtBVVQ/1KH8T8IqqOq6ffT0cGF9V/+jP+ZIkSZIkSf213nrrce+99/Lggw8OdVeGnZEjR7Leeuv1+3yDdr27Gng78PUkSwFrAqt0HN8JOHwgLlRVFwAXLEQThwM/AAzaSZIkSZKkQbXMMsuw4YYbDnU3XpCc0653V9EE5gA2B24GHk2yWpLlgM2A25L8Oslvk0xL8maAJCsmuTjJTUluTrJfR7uHddTftK1/UJJvttunJ/lGkquT3JnkbW35UklOSnJLkouS/CzJ25J8FHgxcHmSy9u672zbvznJF7svnOSxJJ9v+3VtkrUX6ROUJEmSJElSv5lp14uqui/J7CTr0wTvrgHWBXYEZgBTaTLb3lpVf0+yJnBtkguA1wH3VdXeAEk6J4V7qKq2SfJvwCeBg3u5/DrALsCmNBl45wL/AowGxgAvAm4DTq2qbyT5BLB7VT2U5MXAF4Ftgf8DLknylqqaAKwIXFtVn0nyJeADwH/3vHiSQ4BDAEasshajZ57Wn0coqTX9uL2HuguSJEmSpMWQmXZ968626w7aXdOxfzUQ4AtJpgKX0gT11gamAXsm+WKSV1VV5+zzP2nfJ9ME4Xozoaqerqpb2/agCeKd05b/Bbi8j3O3AyZW1YNVNRv4IbBre+wp4KJ5Xb+qxldVV1V1jVjBRSgkSZIkSZKGgkG7vl1NE6AbQzM89lqaTLudaAJ67wbWAratqq2AB4CRVXU7TabbNODYJEd3tPlk+z6HvrMcn+zYTo/3eZlbvVn17FrDc7u+JEmSJEmShphBu75dBewDPFJVc6rqEWBVmsDdNcAo4K9VNSvJ7sAGAO0Q1X9U1Q+A44FtBqAvVwL7tnPbrQ3s1nHsUWDldvs64NVJ1kwyAngncMUAXF+SJEmSJEmDyGyrvk2jWTX2Rz3KVmrnj/shcGGSScCNwO/aOmOALyd5GpgFfHgA+nIe8BqajL/baYJz3cNuxwM/T3J/Ve2e5D9phs8G+FlV/bS/Fx2z7igmOR+XJEmSJEnSoMuzIyY1nCVZqaoeS7IGcD2wczu/3SLT1dVVkyZNWpSXkCRJkiRJWqIkmVxVXfOqZ6bd4uOiJKsCywL/tagDdpIkSZIkSRo6Bu0WE1W121D3QZIkSZIkSYPDhSgkSZIkSZKkYcagnSRJkiRJkjTMGLSTJEmSJEmShhmDdpIkSZIkSdIw40IU6tt9U2DcqKHuhaTFybgZQ90DSZIkSXpBMNNukCSZmGRsj7LDk5ya5Nx+tPfdJK+YR50PJXnPgrYtSZIkSZKkoWWm3eA5C9gf+GVH2f7AEVX1vz0rJ1m6qmb31VhVHTyvC1bVKf3pqCRJkiRJkoaWmXaD51xgnyTLASQZDbwYuDfJzW3ZQUnOSXIhcEmSpZKclOSWJBcl+VmSt7V1JybparcfS/L5JDcluTbJ2m35uCSfbLc/kOSGts55SVYY7AcgSZIkSZKk+WOm3SCpqoeTXA+8DvgpTZbd/wDVo+qOwJZV9UgboBsNjAFeBNwGnNpL8ysC11bVZ5J8CfgA8N896vykqr4DkOS/gfcDJ/ZsKMkhwCEAI1ZZi9EzT+vH3UpaYh15cb9Om37c3gPcEUmSJElavJlpN7i6h8jSvp/VS51fVdUj7fYuwDlV9XRV/QW4vI92nwIuarcn0wT6etoiyf8mmQa8G9i8t4aqanxVdVVV14gVXIRCkiRJkiRpKBi0G1wTgNck2QZYvqp+20udxzu2M5/tzqqq7oy9OfSeQXk68JGqGgMcA4ycz7YlSZIkSZI0yAzaDaKqegyYSDPEtbcsu56uBPZt57ZbG9htIS6/MnB/kmVoMu0kSZIkSZI0TDmn3eA7C/gJzw6TnZvzgNcANwO3A9cBM/p53aPa8/8ETKMJ4s3VmHVHMcl5piRJkiRJkgZdnh1VqeEoyUpV9ViSNYDrgZ3b+e0Wua6urpo0adJgXEqSJEmSJGmJkGRyVXXNq56ZdsPfRUlWBZYF/muwAnaSJEmSJEkaOgbthrmq2m2o+yBJkiRJkqTB5UIUkiRJkiRJ0jBj0E6SJEmSJEkaZgzaSZIkSZIkScOMQTtJkiRJkiRpmHEhCvXtvikwbtRQ96J342YMdQ8kSZIkSZIWGTPtFoEkE5OM7VF2eJKThqpPHf349FD3QZIkSZIkSXNn0G7ROAvYv0fZ/m35XKWxKD8Xg3aSJEmSJEnDnEG7ReNcYJ8kywEkGQ28GLgyyRFJbkgyNckx3ceT3NZm4v0WeEmSx5J8McnkJJcm2b7N4LszyZva80YmOS3JtCRTkuzelh+U5CdJfpHkjiRfasuPA5ZPcmOSHw72Q5EkSZIkSdL8SVUNdR9ekJJcDIyvqp8mORJYA/gV8Dbgg0CAC4AvAXcDdwI7VdW17fkFvKGqfp7kfGBFYG/gFcAZVbVVkn8Htqiq9ybZFLgE2IQmq+9oYGvgSeD3wC5VdU+Sx6pqpbn0+xDgEIARq6y17XofPm1gH8wgmH7c3kPdBUmSJEmSpF4lmVxVXfOqZ6bdotM5RLZ7aOxe7WsKTUbdpsDGbZ0/dQfsWk8Bv2i3pwFXVNWsdnt0W74LcCZAVf0O+BNN0A7g11U1o6pmArcCG8xPp6tqfFV1VVXXiBWG6SIUkiRJkiRJL3AG7RadCcBrkmwDLF9Vv6XJrju2qrZqXxtV1ffa+o/3OH9WPZsG+TRNxhxV9TTPrvqbuVz/yY7tObhSsCRJkiRJ0mLDoN0iUlWPAROBU3l2AYpfAu9LshJAknWTvGghLvMb4N1tW5sA69MMhZ2bWUmWWYhrSpIkSZIkaREz+2rROgv4Ce0w2aq6JMlmwDVJAB4DDqDJhOuPk4BTkkwDZgMHVdWTbdt9GQ9MTfLbqnr33CqOWXcUk5wfTpIkSZIkadC5EIX61NXVVZMmTRrqbkiSJEmSJL1guBCFJEmSJEmStJgyaCdJkiRJkiQNMwbtJEmSJEmSpGHGoJ0kSZIkSZI0zBi0kyRJkiRJkoYZg3aSJEmSJEnSMLP0UHdAw9h9U2DcqKHuxdAbN2OoeyBJkiRJkpYwZtotBpKMTnJzj7JxST6Z5KAkL56PNiYm6Vp0vZQkSZIkSdJAMWi3+DsImGfQTpIkSZIkSYsPg3aLvy7gh0luTLJ8kqOT3JDk5iTjk6Sj7tuTXJ/k9iSvGqoOS5IkSZIkae6c027xNwn4ZFVNAkjyzar6XLt9JrAPcGFbd+mq2j7JG4DPAnv2bCzJIcAhACNWWYvRM08bhFsY3qYPdQckSZIkSdISx0y7xUMtQPnuSa5LMg3YA9i849hP2vfJwOheG6waX1VdVdU1YgUXoZAkSZIkSRoKZtotHh4GVutRtjpwV2dBkpHASUBXVd2TZBwwsqPKk+37HPzsJUmSJEmShi0z7RYDVfUYcH+S1wAkWR14HXAl8Ciwclu1O0D3UJKVgLcNdl8lSZIkSZK08My2Wny8B/hWkq+0+8dU1R+TnA6ckuQJYEfgO8A0mqnYbliYC45ZdxSTjtt7YZqQJEmSJElSP6Sqr+nStKTr6uqqSZMmDXU3JEmSJEmSXjCSTK6qrnnVc3isJEmSJEmSNMwYtJMkSZIkSZKGGYN2kiRJkiRJ0jBj0E6SJEmSJEkaZgzaSZIkSZIkScOMQTtJkiRJkiRpmFl6qDugYey+KTBu1FD3QpIkSVpyjJsx1D2QJA0TBu2GkSRrAL9ud/8JmAM82O5vX1VPDUnHJEmSJEmSNKgM2g0jVfUwsBVAknHAY1V1/JB2SpIkSZIkSYPOOe0WE0kOTHJ9khuTnJRkqSQvTXJHktWTjEhydZI92voXJpmc5JYkB7dlSyc5M8m0JDcn+ejQ3pUkSZIkSZJ6Y6bdYiDJFsBbgZ2qanaS8cD+VfWjJF8BTgJuAqZU1WXtaQdW1SNJVgAmJTkP2ARYs6rGtO2u2su1DgEOARixylqMnnnaIr8/SZIk6YVu+nF7D3UXJEmLGYN2i4c9ge1ogm8AywP3AFTVKUneDrwX2LrjnI8neVO7vR7wMuAPwMuTnAD8DLik54WqajwwHmC5dTauRXI3kiRJkiRJmiuDdouHAKdW1VHPO5CsBKwDjABWAh5PsiewK/DKqnoiyZXAyKp6OMmWwOuBjwL70mbVSZIkSZIkafhwTrvFw6XAO5KsCc0qs0nWb499GTgd+Bzw7bZsFPBIG7DbnCZLjyRrAamqc4DPAtsM3i1IkiRJkiRpfplptxioqmlJjgEuTbIUMAv4UJKNgX8GPlJVc5Lsm+RfgXOAQ5LcBPwOuK5t6iXA99KMsS3gP+Z23THrjmKSc29IkiRJkiQNulQ5bZl619XVVZMmTRrqbkiSJEmSJL1gJJlcVV3zqufwWEmSJEmSJGmYMWgnSZIkSZIkDTMG7SRJkiRJkqRhxqCdJEmSJEmSNMwYtJMkSZIkSZKGGYN2kiRJkiRJ0jCz9FB3QMPYfVNg3Kih7oWkJcm4GUPdA0mSJEkaFgzazackawC/bnf/CZgDPNjub19VTw1JxyRJkiRJkvSCY9BuPlXVw8BWAEnGAY9V1fFD2ilJkiRJkiS9IDmn3QBIcmCS65PcmOSkJEslWTrJ35Icl+SmJNckeVFb/wdJTkhydZI7k7y1o60j27amJjm6LVs5yc/bdm5O8ra2/MtJbm3rfrEtWzvJT5JMatt5ZVu+UpLT27IpSd44+E9KkiRJkiRJ88NMu4WUZAvgrcBOVTU7yXhgf+DHwCjgiqo6MslXgfcBx7WnvgjYGRjT1j0/yRuA9YEdgAA/S7IT8BJgelW9vr3mqCRrA28ANq+qSrJq2+43gC9V1bVJRgMXAVsARwO/qKqDkqwGXJfkV1U1s8f9HAIcAjBilbUYPfO0AX1ekjQ304e6A5IkSZI0TBi0W3h7AtsBk5IALA/c0x57oqp+3m5PBl7Vcd6EqipgapJ127K9gNcDU9r9lYBNgOuA45IcB1xYVVcl+QfwNPCdJBfTBOe6+/Pyti8AqyVZvrvtJEe25SNpAoS3d95MVY0HxgMst87G1Y/nIUmSJEmSpIVk0G7hBTi1qo56TmGyNNC5OMUcnvu8n+zRRvf7f1fV9553kaSLJrPuy0kuqqovtGWvpcns+zBNYC70sjBGmijeW6rqj/24R0mSJEmSJA0i57RbeJcC70iyJjSrzCZZv59t/RJ4f5IV27bWS7Jmm4n3WFWdCXwV2CbJysAqVXUR8HFg647+HNrdYJKtOtr+aEd5d31JkiRJkiQNM2baLaSqmpbkGODSJEsBs4APAff1o62fJdkUuLYd3voo8C7gFTTDY5+myd77EM18eT9JshxN8PUTbTOHAicneS/N53t5W3YM8PUk09r6fwDePLf+jFl3FJOO23tBb0OSJEmSJEkLKc20atLzdXV11aRJk4a6G5IkSZIkSS8YSSZXVde86jk8VpIkSZIkSRpmDNpJkiRJkiRJw4xBO0mSJEmSJGmYMWgnSZIkSZIkDTMG7SRJkiRJkqRhxqCdJEmSJEmSNMwsPdQd0DB23xQYN2qoe9G7cTOGugeSJEmSJEmLzBKbaZfkM0luSTI1yY1JduhnO7sl2alj//Qkb5uP8+a0170lyU1JPpFkrp9He62L+ts3SZIkSZIkLR6WyEy7JDsC+wDbVNWTSdYElu1nc7sBjwFXL+B5T1TVVm1/XgT8CBgFfLaf/RjIvkmSJEmSJGkILamZdusAD1XVkwBV9VBV3QeQ5DVJpiSZluTUJMu15dPb4B5JupJMTDIa+BDw8TZr7lVt+7smuTrJnfOTdVdVfwUOAT6Sxugk/5vkt+3redlySbZr+/nSJKsnmdBmDV6bZMve+pbkjUmua8+7NMnaC/cYJUmSJEmStCgskZl2wCXA0UluBy4F/qeqrkgyEjgdeE1V3Z7k+8CHga/31khVTU9yCvBYVR0PkOT9NEHBXYBNgQuAc+fVoaq6sx0e+yLgr8Brq2pmko2Bs4Cu7rptEO9E4M1VdXeSE4EpVfWWJHsA36+qrXrp22rAK6uqkhwMfAr4985+JDmEJoDIiFXWYvTM0+bV9aFx5MXPbE4/bu8h7IgkSZIkSdLAWyIz7arqMWBbmuDUg8D/JDkIeDlwV1Xd3lY9A9i1H5eYUFVPV9WtwIJks6V9Xwb4TpJpwDnAKzrqbAaMB95YVXe3ZbsAZwJU1WXAGkl6W0FiPeCXbbtHAJv3rFBV46uqq6q6RqwwTBehkCRJkiRJeoFbIoN2AFU1p6omVtVngY8A+/Js0Kw3s3n2eY2cR/NPdmzPrc1nKyUvBebQZNl9HHgA+GeaDLvO+fbuB2YCW8/jGtVL2YnAN6tqDPBB5n0fkiRJkiRJGgJLZNAuycvbYafdtgL+BPwOGJ1ko7b8X4Er2u3pNNl50AT4uj0KrLyQ/VkLOIUmoFY0C1LcX1VPt30Y0VH9b8DewBeS7NaW/QZ4d9vWbjTz9f29l76NAv7cbh+4MH2WJEmSJEnSorOkzmm3EnBiklVpMuj+ABzSziH3XuCcJEsDN9AE0wCOAb6X5NPAdR1tXQicm+TNwGEL0Iflk9xIMxR2Ns3w1q+2x/4/e/ceZldZ3/3//SERkEOGtqQUoxirsRw1ltGKHAxIfZ4aLQdplVKpQIlYlZ9YalEfdbRaqYqCHKTxEAxFBUEQxAoVgRARyISEBBC1QvAQCioYBEmE8P39sdfUzTCTSYbJ7J3k/bqufc1a97rXfX/3mv8+132vfRZwUZK/Aq4GHm6/saruTfIa4D+THA30AXOSLAF+w+8CucG19TXf7WfADcBz1lTgHlN66Pd9cZIkSZIkSeMurYVd0pP19vZWf39/p8uQJEmSJEnaaCRZWFW9I/XbJLfHSpIkSZIkSd3M0E6SJEmSJEnqMoZ2kiRJkiRJUpcxtJMkSZIkSZK6jKGdJEmSJEmS1GUM7SRJkiRJkqQuM7HTBaiLLV8EfT2drkLqvL4Vna5AkiRJkrSJ2ehX2iV5T5LbkixJsjjJn41ynBlJXtZ2fk6Sw9bivj9K8uUkP0pye5JvJHn+aGoYYuxlSbZvjq8fizElSZIkSZLUeRv1SrskewGvBv60qlY1AdfmoxxuBvAQsNbhWJIAFwNfqKrXN23TgR2AH6zl/amqx0fqW1UvG6mPJEmSJEmSNgwb+0q7HYFfVNUqgKr6RVUtB0jyiiSLkixN8vkkWzTt7avXepNck2QqcBxwQrNab99m/P2SXJ/kzmFW3e0PPFpVZw80VNXiqrouyTZJrkpyc1PDQc2cU5N8L8lZwM3As5Ic3vS5Ncm/DfVFkzzU/J3R1HxhkjuSnNeEfyR5X5IFzTizB9olSZIkSZLUXTbqlXbAlcD7kvwA+BZwflVdm2RL4BzgFVX1gyRzgTcDpw41SFUtS3I28FBVfRwgyTG0QsF9gJ2BS4ELB926O7BwmNpWAodU1YNNSHhDkkuba38CHFVV/5DkGcC/AXsCDwBXJjm4qi5Zw/d+EbAbsBz4DrA3MB84o6o+2NR/Lq1ViJe135hkFjALYMKkyUxdOWcN00ibiJMuH9Vty06eOcaFSJIkSZI2FRv1SruqeohW2DUL+DlwfpI30grF7qqqgS2qXwD2G8UUl1TV41V1O60tr+siwL8mWUIrUJzSNsbdVXVDc/xi4Jqq+nlVPQactxa13lRVP2221S4Gpjbt+ye5MclS4ABawd4TVNXsquqtqt4JW/kjFJIkSZIkSZ2wsa+0o6pWA9cA1zRh1d/RCrKG8xi/CzO3HGH4VW3HQ201vQ0Y7scqjgAmA3tW1aNJlrXN9/AI446kva7VwMRmdeFZQG9V/SRJHyN/P0mSJEmSJHXARr3SLsmfJJnW1jQduBu4A5ia5HlN+xuAa5vjZbRW5wG8tu3eXwPbrmMJ3wa2SHJsW00vTvJyoAe4rwns9geePcwYNwIvT7J9kgnA4W21rouBgO4XSbZh+DBRkiRJkiRJHbaxr7TbBjg9yXa0VtD9NzCrqlYmOQr4SpKJwAJg4MciPgB8Lsm7aQVmAy4DLmx+MOJtazN5VVWSQ4BTk5xE6z12y4C301qFd1mSflor/+4YZox7krwLuJrWqrtvVNXX1voJ/G6cXyX5DLC0qWHBSPfsMaWHft/JJUmSJEmSNO5SVZ2uQV2qt7e3+vv7O12GJEmSJEnSRiPJwqrqHanfRr09VpIkSZIkSdoQGdpJkiRJkiRJXcbQTpIkSZIkSeoyhnaSJEmSJElSlzG0kyRJkiRJkrqMoZ0kSZIkSZLUZSZ2ugB1seWLoK+n01WMXt+KTlcgSZIkSZI0Kpv8Srskq5MsTnJrksuSbNe0z0jy9acw7jrdn2RqkltH6PPQaOtZ17kkSZIkSZLUOZt8aAc8UlXTq2p34H7gLZ0uSJIkSZIkSZs2Q7sn+i4wpe18myQXJrkjyXlJApDkFUkWJVma5PNJtmja/2/Tdz5w6MAgSbZu+i1o7jtoTUUk2S3JTc0KwCVJpg26vk2Sq5Lc3NRwUNM+Ncn3knwmyW1Jrkzy9ObankluSfJdDCYlSZIkSZK6mu+0aySZALwC+Fxb84uA3YDlwHeAvZP0A+cAr6iqHySZC7w5ydnAZ4ADgP8Gzm8b5z3At6vq6Gb77U1JvlVVDw9TznHAaVV1XpLNgQmDrq8EDqmqB5NsD9yQ5NLm2jTg8Ko6NskFwGuB/wDmAG+rqmuTfGwNz2EWMAtgwqTJTF05Z7iu3e+ky9e667KTZ67HQiRJkiRJktaNK+3g6UkWA78Efh/4r7ZrN1XVT6vqcWAxMBX4E+CuqvpB0+cLwH7Azk37D6uqaAVlA14JnNTMcw2wJbDTGmr6LvDuJP8MPLuqHhl0PcC/JlkCfIvW6sAdmmt3VdXi5nghMDVJD7BdVV3btJ873MRVNbuqequqd8JWG/CPUEiSJEmSJG3ADO2ad9oBzwY254lbR1e1Ha+mtTIxaxirhmkP8Nrm3XnTq2qnqvresINUfRH4S+AR4IokBwzqcgQwGdizqf1eWkHgmmoerjZJkiRJkiR1GUO7RlWtAI4HTkzytDV0vYPW6rXnNedvAK5t2p+T5LlN++Ft91wBvK3tnXgvWlMtSf4YuLOqPgVcCrxgUJce4L6qejTJ/rQCxzV9t18BK5Ls0zQdsab+kiRJkiRJ6izfademqhYluQV4PfCTYfqsTHIU8JUkE4EFwNlVtap5H9zlSX4BzAd2b277F+BUYEkT3C0DXr2GUl4H/G2SR4H/AT446Pp5wGXN+/UW0woMR3IU8Pkkv6EVIo5ojyk99PuuN0mSJEmSpHGX1uvXpCfr7e2t/v7+TpchSZIkSZK00UiysKp6R+rn9lhJkiRJkiSpyxjaSZIkSZIkSV3G0E6SJEmSJEnqMoZ2kiRJkiRJUpcxtJMkSZIkSZK6jKGdJEmSJEmS1GUmdroAdbHli6Cvp9NVSJIkdYe+FZ2uQJIkbUI26ZV2SVYnWZzk1iRfSbJVh+t5aD2M+dkku471uJIkSZIkSVp/NunQDnikqqZX1e7Ab2xovx4AACAASURBVIHjOl3QWKuqv6+q2ztdhyRJkiRJktbeph7atbsOeB5Akr9NclOzCu/fk0xo2h9K8uEktyS5IckOTfs5ST6V5PokdyY5rGnfMcm8ttV8+yY5JsknByZNcmyST7QXkuT8JK9qOz8nyWuTTE1yXZKbm8/LmuszklyT5MIkdyQ5L0maa9ck6W2OP52kP8ltST6wXp+mJEmSJEmSRs132gFJJgJ/AXwzyS7A64C9q+rRJGcBRwBzga2BG6rqPUk+ChwLfKgZZkdgH2Bn4FLgQuBvgCuq6sNN8LcVcDOwJMk7q+pR4CjgTYNK+nJTwzeSbA68AngzEODPq2plkmnAl4De5p4XAbsBy4HvAHsD8weN+56qur+p5aokL6iqJYOexSxgFsCESZOZunLOuj1MSZKkjdVJl3e6gnG17OSZnS5BkqRN2qYe2j09yeLm+Drgc7QCqz2BBc1itacD9zV9fgt8vTleCPx521iXVNXjwO0DK/CABcDnkzytub4YIMm3gVcn+R7wtKpaOqiu/wQ+lWQL4P8C86rqkSQ9wBlJpgOrgee33XNTVf20GX8xMJUnh3Z/3YRyE2mFjLsCTwjtqmo2MBtgix2n1dCPTZIkSZIkSevTph7aPVJV09sbmm2lX6iqdw3R/9GqGgiyVvPE57eqfRiAqpqXZD9gJnBuko9V1Vzgs8C7gTuAJy1la1bSXQP8H1or7r7UXDoBuBd4Ia2tzSuHmX9wbSR5DnAi8OKqeiDJOcCWQ3xHSZIkSZIkdZjvtHuyq4DDkvwhQJLfT/Ls0QzU3HdfVX2G1iq+PwWoqhuBZ9HaPvulYW7/Mq2ts/sCVzRtPcA9zYq+NwAT1qGcScDDwIpmJeBfrNu3kSRJkiRJ0njZ1FfaPUlV3Z7k/wFXJtkMeBR4C3D3KIabAfxTkkeBh4Aj265dAEyvqgeGufdKWu/Ru7Sqftu0nQVclOSvgKtphXBrpapuSbIIuA24k9Z779Zojyk99PsuE0mSJEmSpHGX3+321HhK8nXgk1V1VadrGU5vb2/19/d3ugxJkiRJkqSNRpKFVdU7Uj+3x46zJNsl+QGt9+l1bWAnSZIkSZKkznF77Dirql/xxF99lSRJkiRJkp7AlXaSJEmSJElSlzG0kyRJkiRJkrqMoZ0kSZIkSZLUZQztJEmSJEmSpC7jD1FoeMsXQV9Pp6vQhqJvRacrkCRJkiRpo+FKuw5I8swkX0vywyQ/SnJaks07XZckSZIkSZK6g6HdOEsS4KvAJVU1DXg+sA3w4UH9XAUpSZIkSZK0iTIYGn8HACurag5AVa1OcgJwV5K7gP2BLYGtgQOS/BPw18AWwMVV9X6AJO8FjgB+AvwCWFhVH08yHTgb2Ar4EXB0VT2Q5Brgxmb87YBjquq68frSkiRJkiRJWnuGduNvN2Bhe0NVPZjkx7T+H3sBL6iq+5O8EpgGvAQIcGmS/YDfAK8FXtTcc3PbmHOBt1XVtUk+CLwfeHtzbWJVvSTJq5r2AwcXl2QWMAtgwqTJTF05Z+y+uTZuJ13OspNndroKSZIkSZI2CoZ24y9AraH9v6rq/qbtlc1nUXO+Da0Qb1vga1X1CECSy5q/PcB2VXVt0/8LwFfa5vhq83chMHWo4qpqNjAbYIsdpw1VpyRJkiRJktYz32k3/m4DetsbkkwCngWsBh5uvwR8pKqmN5/nVdXnmvbRWNX8XY2BrSRJkiRJUtcytBt/VwFbJTkSIMkE4BTgHFrbXttdARydZJum75QkfwjMB16TZMvm2kyAqloBPJBk3+b+NwDXIkmSJEmSpA2Kq63GWVVVkkOAs5ofk9gM+AbwbuDwQX2vTLIL8N3Wj87yEPC3VbUgyaXALcDdQD+wornt74Czk2wF3AkcNdpa95jSQ7/vKJMkSZIkSRp3qfK1ZRuiJNtU1UNNODcPmFVVN4/lHL29vdXf3z+WQ0qSJEmSJG3Skiysqt6R+rnSbsM1O8muwJbAF8Y6sJMkSZIkSVLnGNptoKrqbzpdgyRJkiRJktYPf4hCkiRJkiRJ6jKGdpIkSZIkSVKXMbSTJEmSJEmSuoyhnSRJkiRJktRl/CEKDW/5Iujr6XQV2lT1reh0BZIkSZIkdYwr7Z6CJM9M8rUkP0zyoySnJdk8yRuTnDFE/74kJ44w5jlJDlt/VUuSJEmSJKnbGdqNUpIAXwUuqappwPOBbYAPd7QwSZIkSZIkbfAM7UbvAGBlVc0BqKrVwAnA0cBWA52SzEzy3STbt9+c5NgkC5LckuSiJFu1Xd4vyfVJ7hxYdZeWjyW5NcnSJK9r2mckuTbJBUl+kOTkJEckuanp99ym32uS3JhkUZJvJdlhvT4dSZIkSZIkjZrvtBu93YCF7Q1V9WCSH9M81ySHAO8AXlVVD7QW5/2vr1bVZ5p+HwKOAU5vru0I7APsDFwKXAgcCkwHXghsDyxIMq/p/0JgF+B+4E7gs1X1kiT/H/A24O3AfOClVVVJ/h54J/CPg79UklnALIAJkyYzdeWc0T0d6Sla1ukCJEmSJEnqIEO70QtQa2jfH+gFXllVDw7Rb/cmrNuO1rbaK9quXVJVjwO3t62I2wf4UrOi794k1wIvBh4EFlTVPQBJfgRc2dyztKkD4JnA+Ul2BDYH7hrqS1XVbGA2wBY7Thvq+0mSJEmSJGk9c3vs6N1GK5T7X0kmAc8CVtNa8bYtrXfdDeUc4K1VtQfwAWDLtmur2ocd9Hco7f0fbzt/nN8Fs6cDZzTzvWnQfJIkSZIkSeoihnajdxWwVZIjAZJMAE6hFcb9Brib1pbWuUl2G+L+bYF7kjwNOGIt5psHvC7JhCSTgf2Am9ah3h7gZ83x363DfZIkSZIkSRpnbo8dpebdcIcAZyV5L60A9BvAu4HDmz7fT3IE8JUkrxk0xHuBG2mFe0tphXhrcjGwF3ALre2376yq/0my81qW3NfU8TPgBuA5I92wx5Qe+k+euZbDS5IkSZIkaaykyteWaWi9vb3V39/f6TIkSZIkSZI2GkkWVlXvSP3cHitJkiRJkiR1GUM7SZIkSZIkqcsY2kmSJEmSJEldxtBOkiRJkiRJ6jKGdpIkSZIkSVKXMbSTJEmSJEmSuszEThegLrZ8EfT1dLoKSZI01vpWdLoCSZIkjcCVdhuQJM9M8rUkP0zyoySnJdk8yRuTnDHMPd9Ist141ypJkiRJkqTRM7TbQCQJ8FXgkqqaBjwf2Ab48Jruq6pXVdWvxqFESZIkSZIkjRFDuw3HAcDKqpoDUFWrgROAo4GtgGck+WazCu+jAzclWZZk++b4HUlubT5v78B3kCRJkiRJ0lrwnXYbjt2Ahe0NVfVgkh/T+j9OB14ErAK+n+T0qvrJQN8kewJHAX8GBLgxybVVtah9zCSzgFkAEyZNZurKOevxK0mSpI446fJOV7DWlp08s9MlSJIkdYQr7TYcAWoN7VdV1YqqWgncDjx7UL99gIur6uGqeojWVtt9Bw9WVbOrqreqeids5Y9QSJIkSZIkdYKh3YbjNqC3vSHJJOBZwGpaK+wGrObJqyizXquTJEmSJEnSmDG023BcBWyV5EiAJBOAU4BzgN+sxf3zgIOTbJVka+AQ4Lr1VKskSZIkSZKeAt9pt4GoqkpyCHBWkvfSCly/AbwbOHwt7r85yTnATU3TZwe/z26wPab00O97ZCRJkiRJksZdqoZ6TZoEvb291d/f3+kyJEmSJEmSNhpJFlZV70j93B4rSZIkSZIkdRlDO0mSJEmSJKnLGNpJkiRJkiRJXcbQTpIkSZIkSeoyhnaSJEmSJElSlzG0kyRJkiRJkrrMxE4XoC62fBH09XS6Cuhb0ekKJEmSJEmSxtUmvdIuSSU5pe38xCR96zjGjCQvazs/J8lha3Hf6iSLk9yW5JYk70iyxv9HM9fXR1ubJEmSJEmSNgybdGgHrAIOTbL9aG5OMhGYAYwmGHukqqZX1W7AnwOvAt4/mjrWYAajq02SJEmSJEkdtKmHdo8Bs4ETBl9I8uwkVyVZ0vzdqWk/J8knklwNnA8cB5zQrJrbt7l9vyTXJ7lzbVbdVdV9wCzgrWmZmuS6JDc3nycFb0lenGRRkj9O8vtJLmlqvSHJC5JMHVxbktckubG571tJdhjdY5MkSZIkSdL65Dvt4ExgSZKPDmo/A5hbVV9IcjTwKeDg5trzgQOranWznfahqvo4QJJjgB2BfYCdgUuBC0cqoqrubLbH/iFwH/DnVbUyyTTgS0DvQN8mxDsdOKiqfpzkdGBRVR2c5ICm7ulJzh5U2+8BL62qSvL3wDuBf2yvI8ksWgEiEyZNZurKOSM/wfXtpMv/93DZyTM7WIgkSZIkSdL42ORDu6p6MMlc4HjgkbZLewGHNsfnAu2h3leqavUahr2kqh4Hbl/H1Wxp/j4NOCPJdGA1rZBwwC60Vge+sqqWN237AK9tvs+3k/xBkqF+QeKZwPlJdgQ2B+4a3KGqZjfjs8WO02odapckSZIkSdIY2dS3xw44FTgG2HoNfdoDrIdHGG9V23GG7dXeKfljWgHdfbS2694LvJDWCrvN27reA6wEXjTCHEMFbqcDZ1TVHsCbgC3XpjZJkiRJkiSNL0M7oKruBy6gFdwNuB54fXN8BDB/mNt/DWz7VOZPMhk4m1agVkAPcE+zWu8NwIS27r8CZgL/mmRG0zavqZGm7RdV9eAQtfUAP2uO/+6p1CxJkiRJkqT1Z5PfHtvmFOCtbefHA59P8k/Az4GjhrnvMuDCJAcBb1uH+Z6eZDGtrbCP0dqC+4nm2lnARUn+CriaQSv7qureJK8B/rN5314fMCfJEuA3/C6QG1xbH/CVJD8DbgCes6YC95jSQ7/vkJMkSZIkSRp3aS3skp6st7e3+vv7O12GJEmSJEnSRiPJwqrqHamf22MlSZIkSZKkLmNoJ0mSJEmSJHUZQztJkiRJkiSpyxjaSZIkSZIkSV3G0E6SJEmSJEnqMoZ2kiRJkiRJUpeZ2OkC1MWWL4K+nk5XIUkbrr4Vna5AkiRJ0gZqk1hpl6SSnNJ2fmKSvnUcY0aSl7Wdn5PksLW474+SfDnJj5LcnuQbSZ6/Tl9g+LGXJdm+Ob5+LMaUJEmSJElS520SoR2wCjh0IOBaV0kmAjOAl43QdfB9AS4Grqmq51bVrsC7gR3W9v4ka/U/qqp1qk2SJEmSJEnda1MJ7R4DZgMnDL6Q5NlJrkqypPm7U9N+TpJPJLkaOB84DjghyeIk+za375fk+iR3DrPqbn/g0ao6e6ChqhZX1XVJtmnmuznJ0iQHNfNOTfK9JGcBNwPPSnJ40+fWJP821BdM8lDzd0aSa5JcmOSOJOc14SFJ3pdkQTPO7IF2SZIkSZIkdZdN6Z12ZwJLknx0UPsZwNyq+kKSo4FPAQc3154PHFhVq5vttA9V1ccBkhwD7AjsA+wMXApcOGjs3YGFw9SzEjikqh5sVgDekOTS5tqfAEdV1T8keQbwb8CewAPAlUkOrqpL1vBdXwTsBiwHvgPsDcwHzqiqDzb1nwu8Gris/cYks4BZABMmTWbqyjlrmEaStEYnXT5k87KTZ45zIZIkSZI2NJvKSjuq6kFgLnD8oEt7AV9sjs+lFcIN+EpVrV7DsJdU1eNVdTtrueW1TYB/TbIE+BYwpW2Mu6vqhub4xbS21/68qh4DzgP2G2Hsm6rqp1X1OLAYmNq075/kxiRLgQNoBXtPUFWzq6q3qnonbOWPUEiSJEmSJHXCJhPaNU4FjgG2XkOfajt+eITxVrUdD7XV9DZaK+SGcgQwGdizqqYD9wJbDjHvaLawtte1GpiYZEvgLOCwqtoD+EzbfJIkSZIkSeoim1RoV1X3AxfQCu4GXA+8vjk+gtY20qH8Gth2Haf8NrBFkmMHGpK8OMnLgR7gvqp6NMn+wLOHGeNG4OVJtk8yATgcuHYd64DfBXS/SLINMOIv30qSJEmSJKkzNqV32g04BXhr2/nxwOeT/BPwc+CoYe67DLiw+cGIt63NRFVVSQ4BTk1yEq332C0D3k5rFd5lSfppbWG9Y5gx7knyLuBqWqvuvlFVX1ub+QeN86sknwGWNjUsGOmePab00O97lyRJkiRJksZdqmrkXtok9fb2Vn9/f6fLkCRJkiRJ2mgkWVhVvSP126S2x0qSJEmSJEkbAkM7SZIkSZIkqcsY2kmSJEmSJEldxtBOkiRJkiRJ6jKGdpIkSZIkSVKXMbSTJEmSJEmSuszEThegLrZ8EfT1dLoKSZIkjae+FZ2uQJIk4Uq7MZOkkpzSdn5ikr4xGnvLJHck2aOt7Z1Jzl6HMZ6XZPFY1CNJkiRJkqT1y9Bu7KwCDk2y/VgPXFUrgbcDZ6VlCvAm4F1rc38SV1RKkiRJkiRtQAztxs5jwGzghMEXkkxOclGSBc1n76Z9aZLtmiDul0mObNrPTXJg+xhV9U3gHuBI4JNAX1U9kGSzJJ9Icmsz3mHNGAcm+VaSLwOLBtXzvCSLkvzpengOkiRJkiRJeopcgTW2zgSWJPnooPbTgE9W1fwkOwFXALsA3wH2Bu4G7gT2BeYCLwXePMT4bwduAn5YVec2bX8F7Aq8EJgMLEgyr7n2UmDXqvpxkucBJNkF+CJwZFUtHTxBklnALIAJkyYzdeWcdX8KkiRJ2nCddHmnK1hvlp08s9MlSJK01gztxlBVPZhkLnA88EjbpQOBXZMMnE9Ksi1wHbAfrdDu08CsZuvr/VX10BDjL0/ybeDrbc37AF+sqtXA/ySZD/QCvwW+W1U/buu7A3AxcHBV3THMd5hNa8UgW+w4rdbpAUiSJEmSJGlMuD127J0KHANs3da2GbBXVU1vPlOq6tfAPFqr6/YFrgF+DhxGK8wbzuPNZ0CG6wg8POj8V8DPaK3ukyRJkiRJUpcytBtjVXU/cAGt4G7AlcBbB06STG/6/gTYHphWVXcC84ETWXNoN9g84PVJJiTZgVYg1z9M31XAQcAxSf56HeaQJEmSJEnSOHJ77PpxCm0hHa3tsmcmWULrmc8Djmuu3QhMaI6vAz5CK7xbWxfSenfdLUAB76iq+9q24j5BVT2U5NXAfyV5uKqGfWnJHlN66Pe9H5IkSZIkSeMuVb62TEPr7e2t/v7hFu1JkiRJkiRpXSVZWFW9I/Vze6wkSZIkSZLUZQztJEmSJEmSpC5jaCdJkiRJkiR1GUM7SZIkSZIkqcsY2kmSJEmSJEldxtBOkiRJkiRJ6jITO12AutjyRdDX0+kqNhx9KzpdgSRJkiRJ2ki40m4ISSrJKW3nJybpG8PxpzZz/Etb2/ZJHk1yxijHPC7JkWNVoyRJkiRJkjrH0G5oq4BDk2y/Hue4E3h12/lfAbeNdrCqOruq5j7lqiRJkiRJktRxhnZDewyYDZww+EKSyUkuSrKg+ezdtC9Nsl1afjmw6i3JuUkOHGKOR4DvJeltzl8HXLAW83wqyfua4/+TZF6SzZL0JTmxaX9ekm8luSXJzUme29T1sSS3NrW+buwelyRJkiRJksaS77Qb3pnAkiQfHdR+GvDJqpqfZCfgCmAX4DvA3sDdtFbR7QvMBV4KvHmYOb4MvD7J/wCrgeXAM0aY5yRgQZLrgE8Br6qqx5O0j3secHJVXZxkS1rh7KHAdOCFwPbNGPOq6p72G5PMAmYBTJg0makr56zd09oELDt5ZqdLkCRJkiRJmwhDu2FU1YNJ5gLH01oVN+BAYNe2kGxSkm2B64D9aIV2nwZmJZkC3F9VDw0zzTeBfwHuBc4fdG3Iearq10mOBeYBJ1TVj9pvamqZUlUXN99jZdO+D/ClqloN3JvkWuDFwKWDvvdsWqsM2WLHabWmZyRJkiRJkqT1w9BuzU4Fbgbal5ttBuxVVe1BHknmAW8BdgLeAxwCHEYrzBtSVf02yULgH4HdgNeMNE9jD+CX/G5V3hNKGWa64dolSZIkSZLUZXyn3RpU1f203jN3TFvzlcBbB06STG/6/oTWttNpVXUnMB84kTWEdo1TgH+uql8Oah9yniTPphXyvQj4iyR/NqjmB4GfJjm46b9Fkq1orcx7XZIJSSbTWhV404gPQZIkSZIkSePOlXYjO4W28IzWdtkzkyyh9fzmAcc1124EJjTH1wEfoRXeDauqbmPoX4190jxJ3gx8DjixqpYnOQY4J8mLB937BuDfk3wQeJTWL9NeDOwF3AIU8M6q+p811bbHlB76fY+bJEmSJEnSuEuVry3T0Hp7e6u/v7/TZUiSJEmSJG00kiysqt6R+rk9VpIkSZIkSeoyhnaSJEmSJElSlzG0kyRJkiRJkrqMoZ0kSZIkSZLUZQztJEmSJEmSpC5jaCdJkiRJkiR1mYmdLkBdbPki6OvpdBWS1Hl9KzpdgSRJkqRNjCvt1lKSSnJK2/mJSfrGcPypSW4dq/EkSZIkSZK04TK0W3urgEOTbN/pQgCSTOh0DZIkSZIkSVo/DO3W3mPAbOCEwReSTE5yUZIFzWfvpn1pku3S8sskRzbt5yY5cLiJkkxI8rFmrCVJ3tS0z0hydZIvAkuTbJ3k8iS3JLk1yeuafnsmuTbJwiRXJNkxyXOT3Nw2x7QkC8f0CUmSJEmSJGlM+E67dXMmsCTJRwe1nwZ8sqrmJ9kJuALYBfgOsDdwN3AnsC8wF3gp8OY1zHMMsKKqXpxkC+A7Sa5srr0E2L2q7kryWmB5Vc0ESNKT5GnA6cBBVfXzJsj7cFUdnWRFkulVtRg4Cjhn8MRJZgGzACZMmszUlXPW7QlJ0sbopMs7XcGoLDt5ZqdLkCRJkjRKhnbroKoeTDIXOB54pO3SgcCuSQbOJyXZFrgO2I9WaPdpYFaSKcD9VfXQGqZ6JfCCJIc15z3ANOC3wE1VdVfTvhT4eJJ/A75eVdcl2R3YHfivpp4JwD1N/88CRyV5B/A6WgHg4O84m9aKQrbYcVqtxWORJEmSJEnSGDO0W3enAjcD7UvQNgP2qqr2II8k84C3ADsB7wEOAQ6jFeatSYC3VdUVg8abATw8cF5VP0iyJ/Aq4CPNaryLgduqaq8hxr0IeD/wbWBhVf1yhDokSZIkSZLUAb7Tbh1V1f3ABbS2sA64EnjrwEmS6U3fnwDbA9Oq6k5gPnAiI4d2VwBvbra6kuT5SbYe3CnJM4DfVNV/AB8H/hT4PjA5yV5Nn6cl2a2pZ2Uz9qd5YugoSZIkSZKkLuJKu9E5hbaQjtZ22TOTLKH1TOcBxzXXbqS1RRVaYd1HaIV3g02k9Qu10NrGOhW4Oa09rj8HDh7inj2AjyV5HHgUeHNV/bbZVvupJD3NuKcCtzX3nAccSitoXKM9pvTQ7/uQJEmSJEmSxl2qfG1ZN0hyEHBEVf31ep7nRKCnqt47Ut/e3t7q7+9fn+VIkiRJkiRtUpIsrKrekfq50q4LJPkgcBDwxvU8z8XAc4ED1uc8kiRJkiRJemoM7bpAVb0PeN84zHPI+p5DkiRJkiRJT50/RCFJkiRJkiR1GUM7SZIkSZIkqcsY2kmSJEmSJEldxtBOkiRJkiRJ6jL+EIWGt3wR9PV0uorx07ei0xVIkiRJkiQBG9FKuySV5JS28xOT9I3h+FOT3DqorS/JiWM1xzrUMuy8Sa4f73okSZIkSZI0tjaa0A5YBRyaZPtOF9JJVfWywW1JJnSiFkmSJEmSJI3OxhTaPQbMBk4YfCHJ5CQXJVnQfPZu2pcm2S4tv0xyZNN+bpID12XyJMc2Y9/SzLVV035Okk8nuTrJnUlenuTzSb6X5Jy2+x9KckqSm5NclWRy0358ktuTLEny5bYpd01yTTPm8e3jNH9nNHN+EVjatP1tkpuSLE7y74Z5kiRJkiRJ3Wlje6fdmcCSJB8d1H4a8Mmqmp9kJ+AKYBfgO8DewN3AncC+wFzgpcCbhxj/uUkWt53/EfDx5virVfUZgCQfAo4BTm+u/R5wAPCXwGXNnH8PLEgyvaoWA1sDN1fVPyZ5H/B+4K3AScBzqmpVku3a5t4Z2B/YFvh+kk9X1aOD6n0JsHtV3ZVkF+B1wN5V9WiSs4Ajmu/7v5LMAmYBTJg0makr5wzxGDZSJ12+1l2XnTxzPRYiSZIkSZI2dRtVaFdVDyaZCxwPPNJ26UBaK9MGzicl2Ra4DtiPVmj3aWBWkinA/VX10BBT/Kiqpg+cDHpn3u5NWLcdsA2tYHDAZVVVSZYC91bVwMq324CpwGLgceD8pv9/AF9tjpcA5yW5BLikbczLq2oVsCrJfcAOwE8H1XtTVd3VHL8C2JNWUAjwdOC+wV+wqmbTWrHIFjtOqyGegSRJkiRJktazjSq0a5wK3Ay0LxHbDNirqtqDPJLMA94C7AS8BzgEOIxWmLeuzgEOrqpbkrwRmNF2bVXz9/G244Hz4f4HA4HZTFrB4l8C702y26AxAVYPM87DbccBvlBV71rjt5AkSZIkSVLHbUzvtAOgqu4HLqC1PXXAlbS2mgKQZHrT9yfA9sC0qroTmA+cyOhCu22Be5I8jda203W1Ga3AEOBvgPlJNgOeVVVXA+/kd6v4RuMq4LAkfwiQ5PeTPHuUY0mSJEmSJGk92hhX2gGcQltIR2u77JlJltD6zvOA45prNwIDP8hwHfARWuHdunpvM9bdtH74Ydt1vP9hYLckC4EVtN4/NwH4jyQ9tFbKfbKqftW2zXetVdXtSf4fcGUTBj5Ka5Xh3cPds8eUHvp9d5skSZIkSdK4S5WvLesGSR6qqtGuolsvent7q7+/v9NlSJIkSZIkbTSSLKyq3pH6bXTbYyVJkiRJkqQNnaFdl+i2VXaSJEmSJEnqHEM7SZIkSZIkqcsY2kmSJEmSJEldxtBOkiRJkiRJ6jKGdpIkSZIkSVKXmdjpAtTFli+Cvp5OV7Hp6lvR6QokSZIkSVKHuNJuHCWpJKe0nZ+YpG89z7ksyfbrcw5JkiRJkiSNLUO78bUKONQQTZIkSZIkSWtiU3ZR/wAAIABJREFUaDe+HgNmAycMvpBkcpKLkixoPnsn2axZKbddW7//TrJDktckuTHJoiTfSrJDc/0PklzZtP87kLZ7L0myMMltSWaNw/eVJEmSJEnSKPhOu/F3JrAkyUcHtZ8GfLKq5ifZCbiiqnZJ8jXgEGBOkj8DllXVvUnmAy+tqkry98A7gX8E3g/Mr6oPJpkJtIdzR1fV/UmeDixIclFV/bK9iCbMmwUwYdJkpq6cM/ZPYBOx7OSZnS5BkiRJkiRtoAztxllVPZhkLnA88EjbpQOBXZP/XRg3Kcm2wPnA+4A5wOubc4BnAucn2RHYHLirad8POLSZ6/IkD7TNcXySQ5rjZwHTgCeEdlU1m9ZqQLbYcVo9tW8rSZIkSZKk0XB7bGecChwDbN3WthmwV1VNbz5TqurXwHeB5yWZDBwMfLXpfzpwRlXtAbwJ2LJtrCeFbUlm0AoG96qqFwKLBt0jSZIkSZKkLmFo1wFVdT9wAa3gbsCVwFsHTpJMb/oWcDHwCeB7bdtZe4CfNcd/1zbOPOCIZoy/AH6vrf8DVfWbJDsDLx3L7yRJkiRJkqSx4/bYzjmFtpCO1nbZM5MsofV/mQcc11w7H1gAvLGtfx/wlSQ/A24AntO0fwD4UpKbgWuBHzft3wSOa8b/fnPPGu0xpYd+38smSZIkSZI07tJayCU9WW9vb/X393e6DEmSJEmSpI1GkoVV1TtSP7fHSpIkSZIkSV3G0E6SJEmSJEnqMoZ2kiRJkiRJUpcxtJMkSZIkSZK6jKGdJEmSJEmS1GUM7SRJkiRJkqQuM7HTBaiLLV8EfT2drqI79a3odAWSJEmSJGkj5kq7MZKkkpzSdn5ikr4R7ulLcuJ6qOWaJL1jPa4kSZIkSZLGh6Hd2FkFHJpk+7EcNMmEsRxPkiRJkiRJ3c/Qbuw8BswGThh8IcnkJBclWdB89m67/MIk307ywyTHNv1nJLk6yReBpU3bJUkWJrktyaymbUKSc5LcmmRpkhMGzbtZki8k+VBz/ukk/c0YH1g/j0GSJEmSJElPle+0G1tnAkuSfHRQ+2nAJ6tqfpKdgCuAXZprLwBeCmwNLEpyedP+EmD3qrqrOT+6qu5P8nRgQZKLgKnAlKraHSDJdm1zTgTOA26tqg83be9pxpgAXJXkBVW1pL3QJhCcBTBh0mSmrpwz+qexMTvp8jVeXnbyzHEqRJIkSZIkbYwM7cZQVT2YZC5wPPBI26UDgV2TDJxPSrJtc/y1qnoEeCTJ1bTCul8BN7UFdgDHJzmkOX4WMA34PvDHSU4HLgeubOv/78AFbYEdwF83odxEYEdgV+AJoV1Vzaa1YpAtdpxW6/oMJEmSJEmS9NS5PXbsnQocQ2vl3IDNgL2qanrzmVJVv26uDQ7GBs4fHmhIMoNW8LdXVb0QWARsWVUPAC8ErgHeAny2bZzrgf2TbNmM8RzgROAVVfUCWiHflk/xu0qSJEmSJGk9MLQbY1V1P3ABreBuwJXAWwdOkkxvu3ZQki2T/AEwA1gwxLA9wANV9ZskO9PaTkvzoxebVdVFwHuBP22753PAN4CvJJkITKIVBK5IsgPwF0/pi0qSJEmSJGm9cXvs+nEKbSEdre2yZyZZQuuZzwOOa67dRGvV207Av1TV8iTPHzTeN4Hjmvu/D9zQtE8B5iQZCF/f1X5TVX0iSQ9wLnAErRV6twF3At8Z6UvsMaWHft/NJkmSJEmSNO5S5WvLNLTe3t7q7+/vdBmSJEmSJEkbjSQLq6p3pH5uj5UkSZIkSZK6jKGdJEmSJEmS1GUM7SRJkiRJkqQuY2gnSZIkSZIkdRlDO0mSJEmSJKnLGNpJkiRJkiRJXWZipwtQF1u+CPp6Ol3Fuulb0ekKJEmSJEmSnrJRrbRLsl+SDyX5TJKdm7ZtmvbtxrbEDVOSSnJu2/nEJD9P8vVRjrddkn8YuwolSZIkSZLUrdYptEsyIcn5wNXAu4GjgWc0lx8DLgEMlloeBnZP8vTm/M+Bnz2F8bbDZytJkiRJkrRJWNeVdv8MvBZ4B7ALkIELVbUSuBh41ZhVt+H7T2Bmc3w48KWBC0l+P8klSZYkuSHJC5r2viSfT3JNkjuTHN/ccjLw3CSLk3ysWdl4VZKbkyxNclBz/9Qk32tWQd6W5MqB4DDJsUkWJLklyUVJthq3JyFJkiRJkqS1tq7vtDsSmFtVpyX5gyGufw9Du3ZfBt7XbIl9AfB5YN/m2geARVV1cJIDgLnA9ObazsD+wLbA95N8GjgJ2L2qpkNruy1wSFU9mGR74IYklzb3TwMOr6pjk1xAK2j9D+CrVfWZ5v4PAccAp7cXnGQWMAtgwqTJTF05Z2yfyPp20uVPalp28swhOkqSJEmSJHWvdV1pNxX47hqu/wr4vVFXs5Gpqv+fvbsPs7Ms773//TkRAgKDLykbUyVKo7QQRFm4fQEMFN0+BlErllKsYtWItaVqrabulmdMW02VZ7t50dbQBhQRrVhtBClW5R0EJiYkwAZtIShEBbRGAiRCOJ8/1j2bxTDJzCQzs1aS7+c45lj3fb2t817z33mc13WvpP2bHQ98Y1j3ocC5zbjvAE9PMvTWh4uqakNV3QfcA+w1wvIBPppkJfAtYGbHuDuqakVzvayJAdrbda9Msgo4Adh/hJgXV1Wrqlp9u25jL6GQJEmSJEnaToy30u5+4Gmb6f8N4N4tD2e7tBQ4FZgLdFYnZoSx1Xxu6GjbyMj/pxOAGcDBVfVwktXA9E3MHzpX7xzg9VV1Y5ITm5gkSZIkSZLUY8ZbaXcV8OYkT0g4JXkq7RdTXDoRgW1HlgALq2rVsPYraCfeSDIXuK+qfrmZde6nvV12SD9wT5OwOwLYZwyx7A78OMmTh75bkiRJkiRJvWe8lXZ/Sztx9x3aVVsAL0gym/aZa0+h/cIENarqLuC0EboGgLOb7a0PAm8dZZ2fJbk6yU20X3Dxd8DXkwwCK4BbxxDOXwHXAXcCq3h8EvAJ5szsZ9Dz4CRJkiRJkqZcqmr0UZ0TktcA/8Rj56cV7a2e9wBvqapvTmiE6ppWq1WDg4PdDkOSJEmSJGm7kWRZVbVGGzfeSjuq6htJZgGvBH6TdsLuB8AlVfXgeNeTJEmSJEmS9HjjStoleTZwb1U9BFzY/HX27wLMqKofTlyIkiRJkiRJ0o5lvC+iuAN4w2b6j2nGSJIkSZIkSdpC403aPeGtsSOsN75D8iRJkiRJkiQ9zniTdrD5pNxvAr/YwlgkSZIkSZIkMYYz7ZK8FXhrR9NfJnnnCEOfBhwAfHWCYpMkSZIkSZJ2SGN5EcWewHOa6wJmALsOG1PAOmAJ8D8nLDp115rlMNDf7SgkTaWBtd2OQJIkSZLEGJJ2VXUacBpAkkeB91bVFyY7sO1FkgI+X1V/0NxPA34MXFdVRyc5Bvitqlo0xXGdBDxYVZ+byu+VJEmSJEnS6MZSafd/VdWWnIG3o3sAOCDJLlX1EPBK4O6hzqpaCiydyoCSTKuqf5jK75QkSZIkSdLYmYSbGhcD85rr44HzhzqSnJjkzOb6TUluSnJjkiuatv2TXJ9kRZKVSWY37e9vxt6U5L1N26wkN3Ws/YEkA831ZUk+muRy4E+TDCT5wBQ8uyRJkiRJksZpXJV2AEn2Bd4H/HfgqTwx8VdVte8ExLY9+SJwSpILgQNpn/132AjjTgH+R1XdnWTPpu0k4LSqOi/JTkBfkoOBt9H+HwS4rknG/dcocexZVa8AGErmDZdkPjAfoG+PGcxaf/Y4HlPSNm/BRVs0bfWieaMPkiRJkiSN2bgq7ZLMAb4HvAPYCXgu7e2f04FZwEbghxMb4ravqlbS/n2OB76xmaFXA+c0b+fta9quBT6c5EPAPs0W20OBr1bVA1W1DvgXRk4CDvelMcS6uKpaVdXq29WXUEiSJEmSJHXDeLfHLgR+BbwA+O2m7U+r6pnAu2i/afY9ExfedmUpcCodW2OHq6qTgL8EngWsSPL05qUfxwAPAZckOZJ2dd1IHuHx/9Ppw/of2MLYJUmSJEmSNIXGm7Q7FFhcVbcB1bQFoKrOon1225S+BXUbsgRYWFWrNjUgyb5VdV1VnQLcBzwryXOB26vqdNqJvwOBK4DXJ9k1yVOANwBXAj8Ffi3J05PsDBw9yc8kSZIkSZKkSTDeM+12B/6zuf5V8/mUjv6rgY9tbVDbo6q6CzhtlGGfaF40EeDbwI3AAuDNSR4GfkI78ffzJOcA1zfz/rGqlgMkWQhcB9wB3Lo1Mc+Z2c+g51RJkiRJkiRNuVTV6KOGBid3Ap+pqo829/cDH6mqU5v7BcBfVJWHoW0HWq1WDQ4OdjsMSZIkSZKk7UaSZVXVGm3ceCvtVgCHdNxfDvxpkutpb7X9Y9rVYZIkSZIkSZK20HjPtPsC8PQkuzT3fwX0A5fS3s65J/DhiQtPkiRJkiRJ2vGMq9Kuqr4EfKnjfnmS/Wm/CGEjcHFV3T6xIUqSJEmSJEk7lvFuj32CqvoRcPoExCJJkiRJkiSJcW6PTbIxye9vpv+4JBu3PixJkiRJkiRpxzXeM+2ylf2SJEmSJEmSRrHV22OHeTZw/wSvqW5ZsxwG+rsdhbYFA2u7HYEkSZIkSduVUZN2SV4HvK6jaX6So0YY+jTgKOCqCYqtJyUp4PNV9QfN/TTgx8B1VXV0kmOA36qqReNc95qqetk45ywErqiqb41nXjO3Bbylqk4e71xJkiRJkiRNrrFU2h0EnNhcF3B48zfcOuAa4I8nJLLe9QBwQJJdquoh4JXA3UOdVbUUWDreRcebsGvmnDLeOR1zB4HBLZ0vSZIkSZKkyTPqmXZV9ZGqelJVPYn2mXVvHrof9rdHVb2qqv5j8sPuuouBec318cD5Qx1JTkxyZnP9piQ3JbkxyRVN2/5Jrk+yIsnKJLOb9nXN595Jrmj6b0pyWJK+JOc096uSvK8Ze06SY5vr1Un+rln7+iS/0THmH5JcmeT7SY5u2ucmuXBKfi1JkiRJkiSNy3jPtHsOcO/QTbM19MXATODmqrplAmPrZV8ETmmSXgcCS4DDRhh3CvA/quruJHs2bScBp1XVeUl2AvqGzfl94JKq+tskfcCutKsdZ1bVAQAdaw33y6p6cZK3AP8bOLppnwW8AtgXuHQooTeSJPOB+QB9e8xg1vqzN/kjaMe2etG80QdJkiRJkqQtMmqlXVORdXqS/1ZVd1bVg037c4BlwJW0k1irkiyZ3HB7Q1WtpJ0IOx74xmaGXg2ck+SdPJacuxb4cJIPAfs0W2w73QC8LckAMKeq7gduB56b5IwkrwZ+uYnvO7/j86Ud7f9cVY9W1Q+atfbbzLMtrqpWVbX6dvUlFJIkSZIkSd0watKO9nl2r6uqnwxr/ywwh/Y5dp8EbgHemuStExph71oKnErH1tjhquok4C+BZwErkjy9qr4AHAM8BFyS5Mhhc66gfWbg3cC5Sd5SVf8FvAC4DHgP8I+b+soxXI90L0mSJEmSpB4ylqTdIcDXOxuS7AccSvvNpYdV1Qdob5P9AfCWCY+yNy0BFlbVqk0NSLJvVV3XvDDiPuBZSZ4L3F5Vp9NO/B04bM4+wD1VdRbwT8CLkjwDeFJVfQX4K+BFm/jK4zo+r+1of1OSJyXZF3gucNt4H1aSJEmSJElTZyxn2u0NfH9Y21za1Vr/t+Krqh5K8gXgTyYsuh5WVXcBp40y7BPNiyYCfBu4EVgAvDnJw8BPgIXD5swF/rzpX0c7CToTODvJUJL1LzbxfTsnuY52Mvb4jvbbgMuBvYCTqmp9klGfcc7MfgY9t0ySJEmSJGnKpWrzOyWTPAC8t6n8Gmr7J9rbZmdV1Y862t8GfKaqdpqccLUpSVYDraq6b1j7OcCFVXXBeNdstVo1ODg4MQFKkiRJkiSJJMuqqjXauLFsj/0hsP+wtkNpb+H80bD2XYFfjC1ESZIkSZIkSSMZS9LuSuAtSeYAJHkDMBu4eISxc2i/QEFTrKpmDa+ya9pP3JIqO0mSJEmSJHXPWJJ2HwN2pv3203uAC4BfAf9f56AkfbTfinrVRAcpSZIkSZIk7UhGTdpV1R3AK4BvAD+jXWE3t6puHjb0iKb/Xyc6SEmSJEmSJGlHMpa3x1JVg8BrRxnzLdrbYyVJkiRJkiRthbFsj5UkSZIkSZI0hcZUaacd1JrlMNDf7SikJxpY2+0IJEmSJEmaVFbabaEkleTcjvtpSe5NcmFzf0ySBd2LEJLMTfKybsYgSZIkSZKk8bPSbss9AByQZJeqegh4JXD3UGdVLQWWdiu4xlxgHXBNl+OQJEmSJEnSOFhpt3UuBuY118cD5w91JDkxyZnN9TlJTk9yTZLbkxzbtM9NclmSC5LcmuS8JGn6Dk5yeZJlSS5JsnfTfnKSW5KsTPLFpu1pSb7WtH03yYFJZgEnAe9LsiLJYUlem+S6JMuTfCvJXlP0O0mSJEmSJGkcrLTbOl8ETmm2xB4ILAEO28TYvYFDgf1oV+Bd0LS/ENgfWANcDbw8yXXAGcDrqureJMcBfwv8IbAAeE5VbUiyZ7PGR4DlVfX6JEcCn6uqg5L8A7Cuqk4FSPJU4CVVVUneAXwQ+LPOIJPMB+YD9O0xg1nrz96a30eaHAsu2mz36kXzNtsvSZIkSVKvM2m3FapqZVPRdjzwjVGGf62qHgVuGVbhdn1V3QWQZAUwC/gFcADw703hXR/w42b8SuC8JF8Dvta0HQq8sYnpO0menmSkN0j8OvClpmpvJ+COEZ5pMbAYYOe9Z9cozyRJkiRJkqRJ4PbYrbcUOJWOrbGbsKHjOpto30g7kRrg5qo6qPmbU1WvasbMAz4FHAwsSzJt2HpDRkq4nQGcWVVzgHcB00eJWZIkSZIkSV1g0m7rLQEWVtWqCVzzNmBGkpcCJHlykv2TPAl4VlVdSntr657AbsAVwAnN2LnAfVX1S+B+YPeOdft57GUZb53AeCVJkiRJkjSB3B67lZqtradN8Jq/al5WcXqzzXUa8L+B7wOfb9oCfLKqfpFkADg7yUrgQR5LyH0duCDJ64A/AQaALye5G/gu8JzNxTFnZj+Dng0mSZIkSZI05VLlsWUaWavVqsHBwW6HIUmSJEmStN1IsqyqWqONc3usJEmSJEmS1GNM2kmSJEmSJEk9xqSdJEmSJEmS1GNM2kmSJEmSJEk9xqSdJEmSJEmS1GNM2kmSJEmSJEk9Zlq3A1APW7McBvq7HYUkqRsG1nY7AkmSJGmHZqXdBEtSSc7tuJ+W5N4kFzb3xyRZsJn5s5LctIm+hUmOmvioJUmSJEmS1EustJt4DwAHJNmlqh4CXgncPdRZVUuBpVuycFWdMjEhSpIkSZIkqZdZaTc5LgbmNdfHA+cPdSQ5McmZzfVeSb6a5Mbm72XNsL4kZyW5Ock3k+zSjD8nybHN9WuS3JrkqiSnd1TyvTjJNUmWN5/P7/jef0nyb0l+kOTjU/NTSJIkSZIkabystJscXwROaRJpBwJLgMNGGHc6cHlVvSFJH7Ab8FRgNnB8Vb0zyT8DbwQ+PzQpyXTgM8DhVXVHkvM71ry1aX+k2Ur70WY+wEHAC4ENwG1JzqiqH3UGlGQ+MB+gb48ZzFp/9lb9EJKkbdSCi8Y0bPWieaMPkiRJkjRuVtpNgqpaCcyiXWX3jc0MPRL4+2bOxqoaOvX7jqpa0Vwva9bqtB9we1Xd0dx3Ju36gS835+J9Eti/o+/bVbW2qtYDtwD7jBD74qpqVVWrb1dfQiFJkiRJktQNJu0mz1LgVB6fUBurDR3XG3liRWQ2M/evgUur6gDgtcD0cawrSZIkSZKkHmDSbvIsARZW1arNjPk28G6AJH1J9hjj2rcCz00yq7k/rqOvn8defHHiWIOVJEmSJElS77DSapJU1V3AaaMM+1NgcZK30658ezfw4zGs/VCSPwL+Lcl9wPUd3R8HPpvk/cB3tij4xpyZ/Qx6VpEkSZIkSdKUS1V1OwZtgSS7VdW6JAE+Bfygqj45kd/RarVqcHBwIpeUJEmSJEnaoSVZVlWt0ca5PXbb9c4kK4CbaW+J/UyX45EkSZIkSdIEcXvsNqqpqpvQyjpJkiRJkiT1BivtJEmSJEmSpB5j0k6SJEmSJEnqMSbtJEmSJEmSpB5j0k6SJEmSJEnqMb6IQpu2ZjkM9Hc7CkkTYWBttyOQJEmSJI3Ddl1pl6SSnNtxPy3JvUku7FI8cyfzu5PsmeSPOu5nJfn9yfo+SZIkSZIkTY7tOmkHPAAckGSX5v6VwN1djGey7Qn8Ucf9LMCknSRJkiRJ0jZme0/aAVwMzGuujwfOH+pI8uIk1yRZ3nw+v2nfP8n1SVYkWZlkdpKnJLkoyY1JbkpyXDP2lCQ3NG2Lk6Rp/40k32rGfy/Jvs3X7pbkgiS3JjmvY/zqJM9orltJLmuuX9HEsaKJc/em/c+b712Z5CPN2ouAfZuxn2juD2vu3zfSc03ary5JkiRJkqQttiOcafdF4JRmW+qBwBLgsKbvVuDwqnokyVHAR4E3AicBp1XVeUl2AvqA1wBrqmoeQJKhw97OrKqFTdu5wNHA14HzgEVV9dUk02knSJ8FvBDYH1gDXA28HLhqM/F/AHhPVV2dZDdgfZJXAbOBFwMBliY5HFgAHFBVBzXxzAU+UFVHN/dnjPBcj5NkPjAfoG+PGcxaf/bov7Ck3rfgom5HMGarF80bfZAkSZIkbee2+0q7qlpJe5vo8cA3hnX3A19OchPwSdrJNIBrgQ8n+RCwT1U9BKwCjkryd0kOq6qhU92PSHJdklXAkcD+TTXczKr6ahPD+qp6sBl/fVXdVVWPAiua2DbnauB/JTkZ2LOqHgFe1fwtB74H7Ec7iTeakZ7rcapqcVW1qqrVt6svoZAkSZIkSeqG7T5p11gKnErH1tjGXwOXVtUBwGuB6QBV9QXgGOAh4JIkR1bV94GDaSfvPtZsi50OfBo4tqrmAGc1a2QzsWzouN7IY9WOj/DY/2P60ICqWgS8A9gF+G6S/Zr1P1ZVBzV/v1FV/zTajzDSc402R5IkSZIkSVNvR0naLQEWVtWqYe39PPZiihOHGpM8F7i9qk6nnfA7MMkzgQer6vO0E4Av4rHk2n3N1tVjAarql8BdSV7frLdzkl1HiXE17aQgtLfoDsWyb1Wtqqq/AwZpV9VdAvxh850kmZnk14D7gd071nzc/UjPNUpMkiRJkiRJ6oId4Uw7quou4LQRuj4OfDbJ+4HvdLQfB7w5ycPAT4CFwCHAJ5I8CjwMvLuqfpHkLNrVd6uBGzrW+APgM0kWNuPfNEqYHwH+KcmHges62t+b5AjaVXm3ABdX1YYkvwlc27zHYh3w5qr6zyRXN9t9LwY+DDyS5EbgHNpJxuHPtUlzZvYz6NlSkiRJkiRJUy5V1e0Y1KNarVYNDg52OwxJkiRJkqTtRpJlVdUabdyOsj1WkiRJkiRJ2maYtJMkSZIkSZJ6jEk7SZIkSZIkqceYtJMkSZIkSZJ6jEk7SZIkSZIkqceYtJMkSZIkSZJ6zLRuB6AetmY5DPR3Owqptw2s7XYEkiRJkqTtkJV2EyhJJTm3435aknuTXDhB68+dwLVOTHLmRKwlSZIkSZKkiWXSbmI9AByQZJfm/pXA3eNZIInVj5IkSZIkSTs4k3YT72JgXnN9PHD+UEeSFye5Jsny5vP5TfuJSb6c5OvAN5Ocm+R1HfPOS3JM55eMsta/JPm3JD9I8vGOOW9L8v0klwMvn7RfQJIkSZIkSVvFqq6J90XglGYb64HAEuCwpu9W4PCqeiTJUcBHgTc2fS8FDqyqnyd5BfA+4F+T9AMvA94KHNrxPZtb6yDghcAG4LYkZwCPAB8BDgbWApcCy4cHn2Q+MB+gb48ZzFp/9tb+HtL2bcFFYxq2etG80QdJkiRJktQwaTfBqmplklm0q+y+May7H/hsktlAAU/u6Pv3qvp5s8blST6V5NeA3wG+0iTnxrrWt6tqLUCSW4B9gGcAl1XVvU37l4DnjRD/YmAxwM57z67x/wKSJEmSJEnaWm6PnRxLgVPp2Brb+Gvg0qo6AHgtML2j74FhY88FTgDeBoxU7ra5tTZ0XG/kseSsSThJkiRJkqRtgEm7ybEEWFhVq4a19/PYiylOHGWNc4D3AlTVzSP0j2ctgOuAuUmenuTJwJvGMEeSJEmSJEld4PbYSVBVdwGnjdD1cdpbWt8PfGeUNX6a5P8AX9vEkDGv1az34yQDwLXAj4HvAX2bmzNnZj+DnsMlSZIkSZI05VLljslelGRXYBXwoqHz6aZaq9WqwcHBbny1JEmSJEnSdinJsqpqjTbO7bE9qHkb7K3AGd1K2EmSJEmSJKl73B7bg6rqW8Czux2HJEmSJEmSusNKO0mSJEmSJKnHmLSTJEmSJEmSeoxJO0mSJEmSJKnHmLSTJEmSJEmSeowvotCmrVkOA/3djqJ3DPgiX0mSJEmSNDWstOshSSrJuR3305Lcm+TCUea1kpw++RFKkiRJkiRpKlhp11seAA5IsktVPQS8Erh7tElVNQgMTnZwkiRJkiRJmhpW2vWei4F5zfXxwPlDHUlenOSaJMubz+c37XOHqvGSDCRZkuSyJLcnOblj/puTXJ9kRZLPJOmbwueSJEmSJEnSGFlp13u+CJzSJOEOBJYAhzV9twKHV9UjSY4CPgq8cYQ19gOOAHYHbkvy98BvAMcBL6+qh5N8GjgB+FznxCTzgfkAfXvMYNb6syf6+bZdCy7aZNfqRfM22SdJkiRJkjReJu16TFWtTDKLdpXdN4Z19wOfTTIbKODJm1jmoqraAGxIcg+wF/DbwMHADUkAdgHuGeH7FwOLAXbee3Zt7fNIkiRJkiRp/Eza9aalwKnAXODpHe1/DVxaVW9oEnuXbWL+ho7rjbT/zwE+W1V/McGxSpIkSZIkaYJ5pl1vWgIsrKpVw9r7eezFFCeOc80ls0q6AAAgAElEQVRvA8cm+TWAJE9Lss9WRSlJkiRJkqRJYaVdD6qqu4DTRuj6OO3tse8HvjPONW9J8pfAN5M8CXgYeA9w56bmzJnZz6BntUmSJEmSJE25VHlsmUbWarVqcHCw22FIkiRJkiRtN5Isq6rWaOPcHitJkiRJkiT1GJN2kiRJkiRJUo8xaSdJkiRJkiT1GJN2kiRJkiRJUo8xaSdJkiRJkiT1GJN2kiRJkiRJUo+Z1u0A1MPWLIeB/m5HIfWugbXdjkCSJEmStJ2y0m6CJFk3AWs8M8kFo4y5Zmu/R5IkSZIkSb3NSrseUlVrgGNHGfOyKQpHkiRJkiRJXWKl3SRKsk+SbydZ2Xw+u2k/J8mxHePWNZ+zktzUXO+f5PokK5r5s4eN3a1Z83tJViV5Xcca/yfJWUluTvLNJLs0fe9MckOSG5N8JcmuU/uLSJIkSZIkaSystJtcZwKfq6rPJvlD4HTg9WOcexJwWlWdl2QnoG9Y/3rgDVX1yyTPAL6bZGnTNxs4vqremeSfgTcCnwf+parOAkjyN8DbgTM6F00yH5gP0LfHDGatP3ucjyxtf1YvmtftECRJkiRJOxgr7SbXS4EvNNfnAoeOY+61wIeTfAjYp6oeGtYf4KNJVgLfAmYCezV9d1TViuZ6GTCruT4gyZVJVgEnAPsP/9KqWlxVrapq9e3qSygkSZIkSZK6waTd1Krm8xGa3z5JgJ2eMLDqC8AxwEPAJUmOHDbkBGAGcHBVHQT8FJje9G3oGLeRxyoqzwH+uKrmAB/pGC9JkiRJkqQeYtJucl0D/F5zfQJwVXO9Gji4uX4d8OThE5M8F7i9qk4HlgIHDhvSD9xTVQ8nOQLYZwzx7A78OMmTm3gkSZIkSZLUgzzTbuLsmuSujvv/BZwMLEny58C9wNuavrOAf01yPfBt4IER1jsOeHOSh4GfAAuH9Z8HfD3JILACuHUMMf4VcB1wJ7CKdhJvk+bM7GfQs7wkSZIkSZKmXKpq9FHaIbVarRocHOx2GJIkSZIkSduNJMuqqjXaOLfHSpIkSZIkST3GpJ0kSZIkSZLUY0zaSZIkSZIkST3GpJ0kSZIkSZLUY0zaSZIkSZIkST3GpJ0kSZIkSZLUY6Z1OwD1sDXLYaC/21FI26aBtd2OQJIkSZK0DbPSbgIlWddx/ZokP0jy7C1YZ88kf7QVcZyY5MwtnS9JkiRJkqTuMmk3CZL8NnAG8Oqq+uEWLLEnsMVJO0mSJEmSJG3bTNpNsCSHAWcB86rqP5u2GUm+kuSG5u/lTftAkiVJLktye5KTm2UWAfsmWZHkE0nmJrmw4zvOTHJic31IkmuS3Jjk+iS7D4tnXpJrkzwryR1Jnty075Fk9dC9JEmSJEmSeodn2k2snYF/BeZW1a0d7acBn6yqq5rtspcAv9n07QccAewO3Jbk74EFwAFVdRBAkrkjfVmSnYAvAcdV1Q1J9gAe6uh/A/B+4DVV9V9JLgPmAV8Dfg/4SlU9PGzN+cB8gL49ZjBr/dlb+ltIO7YFF23V9NWL5k1QIJIkSZKkbZFJu4n1MHAN8HbgTzvajwJ+K8nQ/R4dFXEXVdUGYEOSe4C9xvF9zwd+XFU3AFTVLwGa7zkCaAGvGmoH/hH4IO2k3duAdw5fsKoWA4sBdt57do0jFkmSJEmSJE0Qt8dOrEeB3wUOSfLhjvYnAS+tqoOav5lVdX/Tt6Fj3EZGTqQ+wuP/V9ObzwCbSqzdTrt673lDDVV1NTArySuAvqq6aYzPJUmSJEmSpClk0m6CVdWDwNHACUne3jR/E/jjoTFJDhplmftpJ9yG3Em7Um/nJP3AbzfttwLPTHJIs+7uSaZ1zPkd4HNJ9u9Y63PA+YD7XiVJkiRJknqU22MnQVX9PMmrgSuS3AecDHwqyUrav/kVwEmbmf+zJFcnuQm4uKr+PMk/AyuBHwDLm3G/SnIccEaSXWifZ3dUxzq3JTkB+HKS1zYvxjgP+BvaibvNmjOzn0HP1ZIkSZIkSZpyqfLYsh1JkmOB11XVH4w2ttVq1eDg4BREJUmSJEmStGNIsqyqWqONs9JuB5LkDOD/AV7T7VgkSZIkSZK0aSbtdiBV9SfdjkGSJEmSJEmj80UUkiRJkiRJUo8xaSdJkiRJkiT1GJN2kiRJkiRJUo8xaSdJkiRJkiT1GF9EoU1bsxwG+rsdhbbWwNpuRyBJkiRJksbJSrsuSbKu4/o1SX6Q5NndjEmSJEmSJEm9wUq7Lkvy28AZwKuq6ofdjkeSJEmSJEndZ6VdFyU5DDgLmFdV/9m0vTbJdUmWJ/lWkr2a9oEkS5JcluT2JCc37U9JclGSG5PclOS4pv2UJDc0bYuTpGk/OcktSVYm+WJ3nlySJEmSJEmbk6rqdgw7pCQPA/cDc6tqZUf7U4FfVFUleQfwm1X1Z0kGgFcBRwC7A7cB/w04Bnh1Vb2zmd9fVWuTPK2qft60nQv8c1V9Pcka4DlVtSHJnlX1i2FxzQfmA/TtMePgX3/32ZP6O2jqrV40r9shSJIkSZK0w0qyrKpao42z0q57HgauAd4+rP3XgUuSrAL+HNi/o++iqtpQVfcB9wB7AauAo5L8XZLDqmrorQNHNBV7q4AjO9ZZCZyX5M3AI8ODqqrFVdWqqlbfrr6EQpIkSZIkqRtM2nXPo8DvAock+XBH+xnAmVU1B3gXML2jb0PH9UZgWlV9HziYdvLuY8222OnAp4Fjm3XO6lhnHvCpZs6yJJ5rKEmSJEmS1GNM2nVRVT0IHA2ckGSo4q4fuLu5futoayR5JvBgVX0eOBV4EY8l6O5LshtwbDP2ScCzqupS4IPAnsBuE/Q4kiRJkiRJmiBWWXVZVf08yauBK5LcBwwAX05yN/Bd4DmjLDEH+ESSR2lvuX13Vf0iyVm0q+9WAzc0Y/uAzyfpBwJ8cviZdo9beGY/g55/JkmSJEmSNOV8EYU2qdVq1eDgYLfDkCRJkiRJ2m74IgpJkiRJkiRpG2XSTpIkSZIkSeoxJu0kSZIkSZKkHmPSTpIkSZIkSeoxJu0kSZIkSZKkHmPSTpIkSZIkSeox07odgHrYmuUw0N/tKNQtA2u7HYEkSZIkSTssK+22EUnWdTsGSZIkSZIkTQ2TdpIkSZIkSVKPMWm3jUnbJ5LclGRVkuOa9k8nOaa5/mqSJc3125P8TXP9tSTLktycZH73nkKSJEmSJEmb45l2257fAQ4CXgA8A7ghyRXAFcBhwFJgJrB3M/5Q4IvN9R9W1c+T7NLM+0pV/axz8SaZNx+gb48ZzFp/9mQ/j3rVgovGNGz1onmTHIgkSZIkSTseK+22PYcC51fVxqr6KXA5cAhwJXBYkt8CbgF+mmRv4KXANc3ck5PcCHwXeBYwe/jiVbW4qlpV1erb1ZdQSJIkSZIkdYOVdtuejNRYVXcneSrwatpVd08DfhdYV1X3J5kLHAW8tKoeTHIZMH1qQpYkSZIkSdJ4WGm37bkCOC5JX5IZwOHA9U3ftcB7mzFXAh9oPgH6gf9qEnb7AS+Z2rAlSZIkSZI0VlbabXu+SnvL641AAR+sqp80fVcCr6qq/0hyJ+1qu6Gk3b8BJyVZCdxGe4vsZs2Z2c+g55VJkiRJkiRNuVRVt2NQj2q1WjU4ONjtMCRJkiRJkrYbSZZVVWu0cW6PlSRJkiRJknqMSTtJkiRJkiSpx5i0kyRJkiRJknqMSTtJkiRJkiSpx5i0kyRJkiRJknqMSTtJkiRJkiSpx0zrdgDqYWuWw0B/t6OQtK0aWNvtCCRJkiRpm2Wl3RRLsm6c4+cmubC5PibJgsmJTJIkSZIkSb3CSrttSFUtBZZ2Ow5JkiRJkiRNLivtuqSpoLssyQVJbk1yXpI0fa9u2q4CfqdjzolJzmyuX5vkuiTLk3wryV5N+0CSJc3atyc5uWP+15IsS3JzkvlT/MiSJEmSJEkaIyvtuuuFwP7AGuBq4OVJBoGzgCOB/wC+tIm5VwEvqapK8g7gg8CfNX37AUcAuwO3Jfn7qnoY+MOq+nmSXYAbknylqn7WuWiTzJsP0LfHDGatP3sCH1fSDmXBRVs8dfWieRMYiCRJkiRte0zaddf1VXUXQJIVwCxgHXBHVf2gaf88TRJtmF8HvpRkb2An4I6OvouqagOwIck9wF7AXcDJSd7QjHkWMBt4XNKuqhYDiwF23nt2TcRDSpIkSZIkaXzcHttdGzquN/JYEnUsybIzgDOrag7wLmD65tZNMhc4CnhpVb0AWD5sjiRJkiRJknqESbvecyvwnCT7NvfHb2JcP3B3c/3WMazbD/xXVT2YZD/gJVsXpiRJkiRJkiaL22N7TFWtb86VuyjJfbTPrjtghKEDwJeT3A18F3jOKEv/G3BSkpXAbc2czZozs59Bz5WSJEmSJEmacqny2DKNrNVq1eDgYLfDkCRJkiRJ2m4kWVZVrdHGuT1WkiRJkiRJ6jEm7SRJkiRJkqQeY9JOkiRJkiRJ6jEm7SRJkiRJkqQeY9JOkiRJkiRJ6jEm7SRJkiRJkqQeM63bAaiHrVkOA/3djkKSpG3TwNpuRyBJkqRtmJV2PSDJuuZzVpKbmuu5SS5sro9JsmAL135mkgsmLlpJkiRJkiRNNivttgFVtRRYuoVz1wDHTmxEkiRJkiRJmkxW2m0DkpyY5Mzm+pwkpye5JsntSY5t2pPkE0luSrIqyXFNe2f13v5Jrk+yIsnKJLO791SSJEmSJEnaFCvttk17A4cC+9GuwLsA+B3gIOAFwDOAG5JcMWzeScBpVXVekp2AvuELJ5kPzAfo22MGs9afPWkPIUnSdm3BRd2O4AlWL5rX7RAkSZI0RlbabZu+VlWPVtUtwF5N26HA+VW1sap+ClwOHDJs3rXAh5N8CNinqh4avnBVLa6qVlW1+nb1JRSSJEmSJEndYNJu27Sh4zrDPjepqr4AHAM8BFyS5MhJiE2SJEmSJElbyaTd9uMK4LgkfUlmAIcD13cOSPJc4PaqOp32ttoDpz5MSZIkSZIkjcYz7bYfXwVeCtwIFPDBqvpJklkdY44D3pzkYeAnwMLNLThnZj+Dnn0jSZIkSZI05VJV3Y5BParVatXg4GC3w5AkSZIkSdpuJFlWVa3Rxrk9VpIkSZIkSeoxJu0kSZIkSZKkHmPSTpIkSZIkSeoxJu0kSZIkSZKkHmPSTpIkSZIkSeoxJu0kSZIkSZKkHjOt2wGoh61ZDgP93Y5i8g2s7XYEkiRJkiRJj2OlXQ9Ksm4T7eckOXaUuZclaU1OZJIkSZIkSZoKJu0kSZIkSZKkHmPSroel7cwktyS5CPi1jr5TktyQ5KYki5OkY+qbklyf5PtJDmvGT09ydpJVSZYnOWKqn0eSJEmSJElj45l2ve0NwPOBOcBewC3AkqbvzKpaCJDkXOBo4OtN37SqenGS1wD/L3AU8B6AqpqTZD/gm0meV1XrO78wyXxgPkDfHjOYtf7syXy+3rDgosfdrl40r0uBSJIkSZIktVlp19sOB86vqo1VtQb4TkffEUmuS7IKOBLYv6PvX5rPZcCs5vpQ4FyAqroVuBN43vAvrKrFVdWqqlbfrjvASygkSZIkSZJ6kJV2va+GNySZDnwaaFXVj5IMANM7hmxoPjfy2P+4c/usJEmSJEmSepiVdr3tCuD3kvQl2RsYOoduKEF3X5LdgM2+UbZjrRMAkjwPeDZw2wTHK0mSJEmSpAlgpV1v+yrtra+rgO8DlwNU1S+SnNW0rwZuGMNanwb+odlO+whwYlVt2NyEOTP7GfR8N0mSJEmSpCmXqifsvpQAaLVaNTg42O0wJEmSJEmSthtJllVVa7Rxbo+VJEmSJEmSeoxJO0mSJEmSJKnHmLSTJEmSJEmSeoxJO0mSJEmSJKnHmLSTJEmSJEmSeoxJO0mSJEmSJKnHTOt2AOpha5bDQH+3o9h6A2u7HYEkSZIkSdK4WGnXZUnWDbs/McmZk/Rdz0xyQXPdSnL6ZHyPJEmSJEmSto6VdjuQqloDHNtcDwKD3Y1IkiRJkiRJI7HSrocleW2S65IsT/KtJHs17auS7Jm2nyV5S9N+bpKjksxKcmWS7zV/L2v6ZyW5qbmem+TC7j2dJEmSJEmSNsVKu+7bJcmKjvunAUub66uAl1RVJXkH8EHgz4CrgZcDdwK3A4cBnwNeArwbeBR4ZVWtTzIbOB9ojSWYJPOB+QB9e8xg1vqzt/LxumP1onndDkGSJEmSJGmLmbTrvoeq6qChmyQn8liC7deBLyXZG9gJuKNpvxI4nHbS7u+B+UlmAj+vqnVJ+oEzkxwEbASeN9ZgqmoxsBhg571n19Y8mCRJkiRJkraM22N72xnAmVU1B3gXML1pv4J2dd1hwGXAvbTPqruy6X8f8FPgBbQTgDtNXciSJEmSJEnaWibtels/cHdz/dahxqr6EfAMYHZV3U57G+0HeCxp1w/8uKoeBf4A6JuyiCVJkiRJkrTV3B7b2waALye5G/gu8JyOvut4LBl3JfAx2sk7gE8DX0nyJuBS4IEt+fI5M/sZ9Gw4SZIkSZKkKZcqjy3TyFqtVg0ODnY7DEmSJEmSpO1GkmVVNeoLQ90eK0mSJEmSJPUYk3aSJEmSJElSjzFpJ0mSJEmSJPUYk3aSJEmSJElSjzFpJ0mSJEmSJPUYk3aSJEmSJElSj5nW7QDUw9Ysh4H+bkchSZNnYG23I5AkSZKkEVlpN0WS7JXkC0luT7IsybVJ3jDJ37kwyVGT+R2SJEmSJEmaeFbaTYEkAb4GfLaqfr9p2wc4ZivX7auqjZvqr6pTtmZ9SZIkSZIkdYeVdlPjSOBXVfUPQw1VdWdVnZGkL8knktyQZGWSd0E70de035RkVZLjmva5SS5N8gVgVdP2V0luTfLvSc5P8oGm/ZwkxzbXpzTfcVOSxU0iUZIkSZIkST3ISrupsT/wvU30vR1YW1WHJNkZuDrJN4EXAQcBLwCeAdyQ5IpmzouBA6rqjiQt4I3AC2n/P78HLBvhe86sqoUASc4Fjga+PnxQkvnAfIC+PWYwa/3ZW/K8krRtWHDRVk1fvWjeBAUiSZIkSY9n0q4LknwKOBT4FXAncOBQRRzQD8xu+s9vtr/+NMnlwCHAL4Hrq+qOZvyhwL9W1UPN2k9IxDWOSPJBYFfgacDNjJC0q6rFwGKAnfeeXVv7rJIkSZIkSRo/k3ZT42ba1XAAVNV7kjwDGAR+CPxJVV3SOSHJazaz3gOdQ0f78iTTgU8Drar6UZIBYPrYw5ckSZIkSdJU8ky7qfEdYHqSd3e07dp8XgK8O8mTAZI8L8lTgCuA45oz72YAhwPXj7D2VcBrk0xPshsw0l6toQTdfc2YY0cYI0mSJEmSpB5hpd0UqKpK8nrgk80W1XtpV8t9CPgyMAv4XvNyiHuB1wNfBV4K3AgU8MGq+kmS/YatfUOSpc24O2lX760dNuYXSc6i/eKK1cANY4l7zsx+Bj2vSZIkSZIkacqlymPLtnVJdquqdUl2pV2hN7+qNvXiizFrtVo1ODi49QFKkiRJkiQJgCTLqqo12jgr7bYPi5P8Fu1tsJ+diISdJEmSJEmSusek3Xagqn6/2zFIkiRJkiRp4vgiCkmSJEmSJKnHmLSTJEmSJEmSeoxJO0mSJEnS/9/evcfZVdb3Hv98TZCLwIAQEZEyakGKoCgDBwSUULG1eIRYVBARFU29CxYVta3Rqideqkgp5USPIIrgBVHECyJ3VIQJCQQQKJdoESQiGC4ShPA7f6w1dDPMJJlkZvYm+bxfr/3aaz/reZ71W3tYLzY/noskqceYtJMkSZIkSZJ6jBtRaHS3zoNZfd2OQpIkSdLj1azF3Y5Akh63HGnXRUmWJpnf8epPsleSM8fYz0CSY0Y5tzDJpuMTsSRJkiRJkiaDI+266/6q2rGzIEn/WDpIMrWqBoHBcYxLkiRJkiRJXWTSrocleTLwZeCZwJ+AmVV1ZZJZwNOAfuCOJHOAI6vq5Uk2AU4BpgGXAuno77vAlsA6wBeqas4k3o4kSZIkSZJWkEm77lo3yfz2+OaqmjHs/EeBeVW1f5K9gZOAoZF5OwF7VNX9SfbqaPMR4OKq+liSfYGZHefeVFV3JlkXuCzJaVX1h84LJpk51GbKhtPoX3LCeNynJEmSpMehhbP37XYIkrTGMmnXXY+ZHjvMHsDfA1TVuUk2STK0M8QZVXX/CG1eBLyybfODJHd1nHt3kqHE4JbA1sCjknbt6Ls5AGtvvnWN9YYkSZIkSZK06kza9baMUDaUSLtvGe0ek2xrR+O9BNitqv6U5HyaabKSJEmSJEnqMe4e29suBA6GR5Jud1TV3WNo8zJg47a8D7irTdhtC+w6IRFLkiRJkiRplTnSrrfNAk5IciXNRhSHrkCbjwKnJLkcuAD4TVv+Y+CtbV/XAZcsr6Mdtuhj0DUsJEmSJEmSJl2qXLZMIxsYGKjBwcFuhyFJkiRJkrTaSDK3qgaWV8/psZIkSZIkSVKPMWknSZIkSZIk9RiTdpIkSZIkSVKPMWknSZIkSZIk9RiTdpIkSZIkSVKPMWknSZIkSZIk9Zip3Q5APezWeTCrr7sxzFrc3etLkiRJkiR1QddG2iVZmmR+kquTXJHkvUme0J4bSHLMMtr2J3ntMs4/Lcm3l3P9w5OsN8aY92zjnZ9k3WHnnprk1CQ3JrkmyQ+TbLOce7hqLNdfRl9vSHLsKOd+Ph7XkCRJkiRJ0uTp5vTY+6tqx6p6DrAP8HfARwCqarCq3r2Mtv3AiEm7JFOr6taqOmA51z8cGFPSDjgY+Gwb9/0d1wxwOnB+VT2rqrYDPgRsNsb+x11VvbDbMUiSJEmSJGlsemJNu6paBMwE3pnGXknOBEjy4nZk2/wk85JsAMwG9mzLjmhHmn0ryfeBn3SOYksyJclnkyxIcmWSdyV5N/A04Lwk5w2PJ8lft9dakOTLSdZO8mbg1cC/JDl5WJPpwINVdXzHPc2vqova+/lMkqva/l4zwvUeNVIuyZlJ9mqP703yqSRzk/w0yS5Jzk9yU5JXdHSzZZIfJ7kuyUc6+rq3fV8/yTlJLm/j2G8MfyJJkiRJkiRNop5Z066qbmqnxz5l2KkjgXdU1c+SrA8sAY4Cjqyql0OT9AJ2A55bVXcm6e9oPxN4BvD8qnooyZPbOu8FplfVHZ0XS7IOcCLw11V1fZKTgLdV1dFJ9gDOrKrhU2+3B+aOcmuvBHYEngdsClyW5MIV/FoAnkQzgu8DSU4HPk4zMnE74CvAGW29Xdo4/tRe4wdVNdjRzxJgRlXdnWRT4JIkZ1RVDbv/mTTfGVM2nEb/khPGEOr4Wjh7365dW5IkSZIkqZt6YqRdh4xQ9jPgc+3ouI2q6qFR2p5dVXeOUP4S4PihdqPU6fRs4Oaqur79/BXgRcsPfVR7AKdU1dKquh24ANh5DO3/DPy4PV4AXFBVD7bH/R31zq6qP7TTdr/TXrdTgE8muRL4KbAFI0zfrao5VTVQVQNT1uvyJhSSJEmSJElrqJ5J2iV5JrAUWNRZXlWzgTcD69KMDtt2lC7uG61roEY5N1r9sboa2GkV+nuIR/8t1uk4frBjNNzDwAMAVfUwjx4pOfweh38+GJgG7FRVOwK3D7uOJEmSJEmSekRPJO2STAOOB44dYbrms6pqQVV9ChgEtgXuATZYwe5/Arw1ydS2vye35aP1cS3Qn+Qv28+H0IyOW5ZzgbWTvKUj7p2TvBi4EHhNu7beNJpRe5cOa78Q2DHJE5JsSTPVdaz2SfLkdlfb/WlGKHbqAxZV1YNJpgNbrcQ1JEmSJEmSNAm6uabduknmA2vRjDT7KvC5Eeod3iaZlgLXAD+iGXH2UJIraNafu2sZ1/kSsA1wZZIHgS8CxwJzgB8lua2qpg9VrqolSd4IfKtN9F1Gk1AcVVVVkhnA0UmOolk/biHNDrUX0qy3dwXN6Lf3V9Xvhq279zPgZpopr1cBly/reqO4mOY7/Evg68PWswM4Gfh+kkFgPk1ycpl22KKPQdeVkyRJkiRJmnQZNrBNesTAwEANDg7P/UmSJEmSJGllJZlbVQPLq9cT02MlSZIkSZIk/Q+TdpIkSZIkSVKPMWknSZIkSZIk9RiTdpIkSZIkSVKPMWknSZIkSZIk9RiTdpIkSZIkSVKPmdrtANTDbp0Hs/q6HcXyzVrc7QgkSZIkSZLGlSPtxkmSpUnmJ7k6yRVJ3ptkmd9vkv4kV01WjJIkSZIkSXp8cKTd+Lm/qnYESPIU4OtAH/CRrkbVSjKlqpZ2Ow5JkiRJkiQtnyPtJkBVLQJmAu9MY0qSzyS5LMmVSf5heJt21N1FSS5vXy9sy49L8or2+PQkX26PD0vy8fb4u0nmtqP8Znb0eW+SjyX5JbBbkp2SXNDWPSvJ5pPwdUiSJEmSJGmMHGk3QarqpnZ67FOA/YDFVbVzkrWBnyX5CVAdTRYB+1TVkiRbA6cAA8CFwJ7AGcAWwFCibQ/g1Pb4TVV1Z5J1gcuSnFZVfwCeBFxVVf+SZC3gAmC/qvp9ktcAnwDe1Bl3m/SbCTBlw2n0LzlhXL+XCXHUD1g4e99uRyFJkiRJkjRuTNpNrLTvLwWem+SA9nMfsDVwfUfdtYBjk+wILAW2acsvAg5Psh1wDbBxO0JuN+DdbZ13J5nRHm/Z9v2Htp/T2vJnA9sDZycBmALcNjzgqpoDzAFYe/Ota/h5SZIkSZIkTTyTdhMkyTNpkmaLaJJ376qqs4bV6e/4eARwO/A8mmnLSwCq6rdJNgb+lmbU3ZOBVwP3VtU9SfYCXgLsVlV/SnI+sE7b55KOdewCXF1Vu43vnUqSJEmSJGm8uabdBEgyDTgeOLaqCjgLeFs7RZUk2yR50rBmfcBtVfUwcAjNSLghvwAOp0naXQQc2b4PtburTdhtC+w6SljXAdOS7NbGsFaS56zirUqSJEmSJGkCONJu/KybZD7NNNeHgHK5jxcAACAASURBVK8Cn2vPfQnoBy5PMzf198D+w9ofB5yW5FXAecB9HecuAl5aVTck+TXNaLuhpN2PgbcmuZImMXfJSMFV1Z/b6bnHJOmj+dsfDVw92g3tsEUfg64VJ0mSJEmSNOnSDASTHmtgYKAGBwe7HYYkSZIkSdJqI8ncqhpYXj2nx0qSJEmSJEk9xqSdJEmSJEmS1GNM2kmSJEmSJEk9xqSdJEmSJEmS1GNM2kmSJEmSJEk9xqSdJEmSJEmS1GOmdjsA9bBb58Gsvm5HoV41a3G3I5AkSZIkabXlSLtRJHlqklOT3JjkmiQ/TLJNF+M5PMl6HZ9/mGSjleinP8lrxzc6SZIkSZIkjSeTdiNIEuB04PyqelZVbQd8CNisi2EdDjyStKuqv6uqP65EP/2ASTtJkiRJkqQeZtJuZNOBB6vq+KGCqpoPXJzkM0muSrIgyWsAkuyV5Pwk305ybZKT28QfSRYm+WiSy9s227blT0ry5SSXJZmXZL+2fEqSz7Z1r0zyriTvBp4GnJfkvI5+N22PX9/WvSLJV9uyE5McMBR/knvbw9nAnknmJzliYr9GSZIkSZIkrQzXtBvZ9sDcEcpfCewIPA/YFLgsyYXtuecDzwFuBX4G7A5c3J67o6pekOTtwJHAm4EPA+dW1Zvaaa6XJvkp8HrgGcDzq+qhJE+uqjuTvBeYXlV3dAaU5DltX7tX1R1JnrycezsKOLKqXj7SySQzgZkAUzacRv+SE5bTndZYR/1glbtYOHvfcQhEkiRJkqTVjyPtxmYP4JSqWlpVtwMXADu35y6tqluq6mFgPs001CHfad/ndpS/FDgqyXzgfGAd4C+AlwDHV9VDAFV153Ji2hv49lAybwXqL1NVzamqgaoamLKem1BIkiRJkiR1gyPtRnY1cMAI5VlGmwc6jpfy6O/2gRHKA/x9VV33qAs002prDLGOVv8h2qRs2+cTx9CnJEmSJEmSusiRdiM7F1g7yVuGCpLsDNwFvKZdd24a8CLg0pW8xlnAuzrWvnt+W/4T4K1JprblQ9Nd7wE2GKGfc4BXJ9lkWP2FwE7t8X7AWsvpR5IkSZIkST3CkXYjqKpKMgM4OslRwBKaJNjhwPrAFTSj295fVb8b2lxijP4VOBq4sk3cLQReDnwJ2KYtfxD4InAsMAf4UZLbqmp6R6xXJ/kEcEGSpcA84A1tu+8luZQmsXdf2+RK4KEkVwAnVtXnRwtwhy36GHTNMUmSJEmSpEmXqrHMxNSaZGBgoAYHB7sdhiRJkiRJ0mojydyqGlhePafHSpIkSZIkST3GpJ0kSZIkSZLUY0zaSZIkSZIkST3GpJ0kSZIkSZLUY0zaSZIkSZIkST3GpJ0kSZIkSZLUY6Z2OwD1sFvnway+bkehXjdrcbcjkCRJkiRpteNIuwmQ5KlJTk1yY5JrkvwwyTaj1O1PctUExTEryZET0bckSZIkSZImjkm7cZYkwOnA+VX1rKraDvgQsNk49e/oSEmSJEmSpNWcSbvxNx14sKqOHyqoqvnAxUk+k+SqJAuSvGZ4wyTrJDmhPT8vyfS2/A1JvpXk+8BPkqyf5Jwkl7d19+vo48NJrkvyU+DZHeU7JrkkyZVJTk+y8UR+CZIkSZIkSVp5jtoaf9sDc0cofyWwI/A8YFPgsiQXDqvzDoCq2iHJtjQJuqFptbsBz62qO9vRdjOq6u4kmwKXJDkDeAFwIPB8mr/t5R2xnAS8q6ouSPIx4CPA4cODTDITmAkwZcNp9C85YaW+BK1BjvoBC2fv2+0oJEmSJElarTjSbvLsAZxSVUur6nbgAmDnEep8FaCqrgV+DQwl7c6uqjvb4wCfTHIl8FNgC5rpt3sCp1fVn6rqbuAMgCR9wEZVdUHb/ivAi0YKsqrmVNVAVQ1MWc9NKCRJkiRJkrrBpN34uxrYaYTyrEDbZdW5r+P4YGAasFNV7QjcDqzTnqsVCVKSJEmSJEm9y6Td+DsXWDvJW4YKkuwM3AW8JsmUJNNoRrpdOqzthTQJOdppsX8BXDfCNfqARVX1YLvu3VYd7WckWTfJBsD/BqiqxcBdSfZs6x1CM9JPkiRJkiRJPcg17cZZVVWSGcDRSY4ClgALadaPWx+4gmY03Pur6ndJ+juaHwccn2QB8BDwhqp6oNmQ9lFOBr6fZBCYD1zbXvvyJN9oy34NXNTR5tC27/WAm4A3Lu9edtiij0HXKpMkSZIkSZp0qXI2pUY2MDBQg4OD3Q5DkiRJkiRptZFkblUNLK+e02MlSZIkSZKkHmPSTpIkSZIkSeoxJu0kSZIkSZKkHmPSTpIkSZIkSeoxJu0kSZIkSZKkHmPSTpIkSZIkSeoxU7sdgHrYrfNgVl+3o5AkSZIkSWuqWYu7HUHXONJunCR5apJTk9yY5JokP0yyzTLq39u+Py3JtzvKT0lyZZIjxiGmR/UtSZIkSZKkxwdH2o2DJAFOB75SVQe2ZTsCmwHXL6ttVd0KHNC2eSrwwqraagzXnlpVDy2vb0mSJEmSJD1+ONJufEwHHqyq44cKqmo+MC/JOUkuT7IgyX7DGybpT3JV+/EnwFOSzE+yZ5Idk1zSjrw7PcnGbZvzk3wyyQXAe5KcmOSYJD9PclOSA4b33R5f1MZyeZIXTvB3IkmSJEmSpJXkSLvxsT0wd4TyJcCMqro7yabAJUnOqKoapZ9XAGdW1Y4ASa4E3lVVFyT5GPAR4PC27kZV9eK23onA5sAewLbAGcDwabGLgH2qakmSrYFTgIHhASSZCcwEmLLhNPqXnLBCX4AkSZIkSVozLJy9b7dDWCOYtJtYAT6Z5EXAw8AWNFNmf7fchkkfTWLugrboK8C3Oqp8Y1iT71bVw8A1STYbocu1gGPbabtLgRHX26uqOcAcgLU333q05KIkSZIkSZImkEm78XE1I68ddzAwDdipqh5MshBYZ5yued+wzw90HGeE+kcAtwPPo5kWvWSc4pAkSZIkSdI4c0278XEusHaStwwVJNkZ2ApY1CbsprefV0hVLQbuSrJnW3QIcMEymixPH3BbOxrvEGDKKvQlSZIkSZKkCeRIu3FQVZVkBnB0kqNoRrEtBGYBxyQZBOYD146x60OB45OsB9wEvHEVwjwOOC3Jq4DzeOxIvcfYYYs+Bp2nLkmSJEmSNOky+p4IWtMNDAzU4OBgt8OQJEmSJElabSSZW1WP2Rx0OKfHSpIkSZIkST3GpJ0kSZIkSZLUY0zaSZIkSZIkST3GpJ0kSZIkSZLUY0zaSZIkSZIkST3GpJ0kSZIkSZLUY6Z2OwD1sFvnway+bkehXjRrcbcjkCRJkiRpteZIu3GWZEaSSrLtKOf7k1w12XFJkiRJkiTp8cOk3fg7CLgYOHD4iSRTJj8cSZIkSZIkPd6YtBtHSdYHdgcOo03aJdkryXlJvg4sGFb/mUnmJdm5HYF3UZLL29cLO9qfn+TbSa5NcnKStOdmJ7kmyZVJPtuW/e8kv2z7/WmSzdryFyeZ377mJdlg8r4ZSZIkSZIkjYVr2o2v/YEfV9X1Se5M8oK2fBdg+6q6OUk/QJJnA6cCb6yq+UnWA/apqiVJtgZOAQba9s8HngPcCvwM2D3JNcAMYNuqqiQbtXUvBnZty94MvB/4R+BI4B1V9bM2ubhkpBtIMhOYCTBlw2n0LzlhnL4arVaO+sGopxbO3ncSA5EkSZIkafXkSLvxdRBNIo72/aD2+NKqurmj3jTge8Drqmp+W7YW8MUkC4BvAdt11L+0qm6pqoeB+UA/cDdN4u1LSV4J/Kmt+3TgrLaf99Ek+6BJ9n0uybuBjarqoZFuoKrmVNVAVQ1MWc9NKCRJkiRJkrrBpN04SbIJsDdNEm0hTcLsNUCA+4ZVXwz8N81U2iFHALcDz6MZYffEjnMPdBwvBaa2SbddgNNoR/i15/8dOLaqdgD+AVgHoKpmA28G1gUuGW2jDEmSJEmSJHWf02PHzwHASVX1D0MFSS4A9hih7p9pEm1nJbm3qr4O9AG3VNXDSQ4FlrlpRTvFdb2q+mGSS4Ab2lN9wG/b40M76j+rqhYAC5LsBmwLXLsyNypJkiRJkqSJZdJu/BwEzB5WdhrwNuDG4ZWr6r4kLwfOTnIfcBxwWpJXAefx2NF5w20AfC/JOjSj+Y5oy2cB30ryW+AS4Blt+eFJptOM1LsG+NHybmiHLfoYdH0ySZIkSZKkSZeq6nYM6lEDAwM1ODjY7TAkSZIkSZJWG0nmVtXA8uq5pp0kSZIkSZLUY0zaSZIkSZIkST3GpJ0kSZIkSZLUY0zaSZIkSZIkST3GpJ0kSZIkSZLUY0zaSZIkSZIkST1marcDUA+7dR7M6ut2FNLqZ9bibkcgSZIkSepxjrTrgiQzklSSbZdR5+eTGZMkSZIkSZJ6h0m77jgIuBg4cPiJJFMAquqFkx2UJEmSJEmSeoNJu0mWZH1gd+Aw2qRdkr2SnJfk68CCtuze9v1jSea3r98mOaEtf2+Sq9rX4W1Zf5JfJflikquT/CTJuu25tyS5LMkVSU5Lst7k370kSZIkSZJWRKqq2zGsUZK8DpheVYe1U2DfCWwI/ADYvqpubuvdW1Xrd7TrAy4C3tgWnQjsCgT4JfA64C7gBmCgquYn+SZwRlV9LckmVfWHtq+PA7dX1b+PEN9MYCbAlA2n7fT0t50w7t+B9HixcPa+3Q5BkiRJkrSaSTK3qgaWV8+RdpPvIODU9vjU9jPApUMJu+GSBDgZ+HxVzQX2AE6vqvuq6l7gO8CebfWbq2p+ezwX6G+Pt09yUZIFwMHAc0a6VlXNqaqBqhqYsp6bUEiSJEmSJHWDu8dOoiSbAHvTJNAKmAIU8EPgvmU0nQXcUlVDw96yjLoPdBwvBdZtj08E9q+qK5K8AdhrjOFLkiRJkiRpkjjSbnIdAJxUVVtVVX9VbQncTDNybkRJXg7sA7y7o/hCYP8k6yV5EjCDZurssmwA3JZkLZqRdpIkSZIkSepRjrSbXAcBs4eVnQa8DbhxlDb/CDwNuLSZJcsZVfUvSU4ELm3rfKmq5iXpX8a1/5lm7btf02x2scHygt1hiz4GXdNLkiRJkiRp0rkRhUY1MDBQg4OD3Q5DkiRJkiRpteFGFJIkSZIkSdLjlEk7SZIkSZIkqceYtJMkSZIkSZJ6jEk7SZIkSZIkqceYtJMkSZIkSZJ6jEk7SZIkSZIkqcdM7XYA6mG3zoNZfePT16zF49OPJEmSJEnSGsCRdj0gyYwklWTb9nN/kqtWsq97xzc6SZIkSZIkTTaTdr3hIOBi4MBuByJJkiRJkqTuM2nXZUnWB3YHDmOEpF076u6iJJe3rxe25ZsnuTDJ/CRXJdlzWLtNk/wiyb5J1k9yTtt+QZL9JuXmJEmSJEmStFJc06779gd+XFXXJ7kzyQuAOzvOLwL2qaolSbYGTgEGgNcCZ1XVJ5JMAdYbapBkM+AM4J+q6uwkU4EZVXV3kk2BS5KcUVU1PJgkM4GZAFM2nEb/khNW6qYWzt53pdpJkiRJkiTJpF0vOAg4uj0+tf38Hx3n1wKOTbIjsBTYpi2/DPhykrWA71bV/I765wDvqKoL2rIAn0zyIuBhYAtgM+B3w4OpqjnAHIC1N9/6MUk9SZIkSZIkTTyTdl2UZBNgb2D7JAVMAQo4rqPaEcDtwPNopjMvAaiqC9sk3L7AV5N8pqpOAh4C5gJ/Awwl7Q4GpgE7VdWDSRYC60zw7UmSJEmSJGkluaZddx0AnFRVW1VVf1VtCdwMPL2jTh9wW1U9DBxCk9gjyVbAoqr6IvD/gBe09Qt4E7BtkqM6+ljUJuymA1tN9I1JkiRJkiRp5TnSrrsOAmYPKzsN+FDH5+OA05K8CjgPuK8t3wt4X5IHgXuB1w81qKqlSQ4Evp/kbuDk9ngQmA9cuyLB7bBFH4OuTSdJkiRJkjTpMsJeBBIAAwMDNTg42O0wJEmSJEmSVhtJ5lbVwPLqOT1WkiRJkiRJ6jEm7SRJkiRJkqQeY9JOkiRJkiRJ6jEm7SRJkiRJkqQeY9JOkiRJkiRJ6jEm7SRJkiRJkqQeM7XbAaiH3ToPZvV1OwpJw81a3O0IJEmSJEkTzJF2EyTJjCSVZNv2c3+Sq5bTZq8kZ05OhJIkSZIkSepVJu0mzkHAxcCB3Q5EkiRJkiRJjy8m7SZAkvWB3YHDGCFp1466uyjJ5e3rhR2nN0xyepJrkhyf5Altm/9MMpjk6iQf7ehrYZJPJvlFe/4FSc5KcmOStw7Fk+Sc9loLkuw3sd+AJEmSJEmSVoVr2k2M/YEfV9X1Se5M8gLgzo7zi4B9qmpJkq2BU4CB9twuwHbAr4EfA68Evg18uKruTDIFOCfJc6vqyrbNf1fVbkk+D5xIkzBcB7gaOB5YAsyoqruTbApckuSMqqrhgSeZCcwEmLLhNPqXnDBuX4qk8bGw2wFIkiRJkiacI+0mxkHAqe3xqe3nTmsBX0yyAPgWTZJuyKVVdVNVLaVJ5u3Rlr86yeXAPOA5w9qc0b4vAH5ZVfdU1e+BJUk2AgJ8MsmVwE+BLYDNRgq8quZU1UBVDUxZz00oJEmSJEmSusGRduMsySbA3sD2SQqYAhRwXEe1I4DbgefRJE6XdJwbPvqtkjwDOBLYuaruSnIizUi6IQ+07w93HA99ngocDEwDdqqqB5MsHNZekiRJkiRJPcSRduPvAOCkqtqqqvqrakvgZuDpHXX6gNuq6mHgEJrE3pBdkjyjXcvuNTSbWWwI3AcsTrIZ8LIxxtQHLGoTdtOBrVbqziRJkiRJkjQpHGk3/g4CZg8rOw34UMfn44DTkrwKOI8mITfkF237HYALgdOr6uEk82jWqLsJ+NkYYzoZ+H6SQWA+cO2KNNphiz4GZ+87xktJkiRJkiRpVWWEvQgkAAYGBmpwcLDbYUiSJEmSJK02ksytqoHl1XN6rCRJkiRJktRjTNpJkiRJkiRJPcbpsRpVknuA67odh7Qa2hS4o9tBSKsZnytpYvhsSePP50qaGI+nZ2urqpq2vEpuRKFluW5F5lhLGpskgz5b0vjyuZImhs+WNP58rqSJsTo+W06PlSRJkiRJknqMSTtJkiRJkiSpx5i007LM6XYA0mrKZ0safz5X0sTw2ZLGn8+VNDFWu2fLjSgkSZIkSZKkHuNIO0mSJEmSJKnHmLSTJEmSJEmSeoxJO40oyd8muS7JDUmO6nY8Uq9J8uUki5Jc1VH25CRnJ/mv9n3jtjxJjmmfpyuTvKCjzaFt/f9KcmhH+U5JFrRtjkmSyb1DafIl2TLJeUl+leTqJO9py322pFWQZJ0klya5on22PtqWPyPJL9vn5BtJntiWr91+vqE939/R1wfb8uuS/E1Hub8dtUZKMiXJvCRntp99rqRVlGRh+3ttfpLBtmyN/D1o0k6PkWQK8B/Ay4DtgIOSbNfdqKSecyLwt8PKjgLOqaqtgXPaz9A8S1u3r5nAf0LzLx7gI8D/AnYBPjL0L5+2zsyOdsOvJa2OHgL+sar+CtgVeEf77x+fLWnVPADsXVXPA3YE/jbJrsCngM+3z9ZdwGFt/cOAu6rqL4HPt/Von8cDgefQPDvHtQkLfztqTfYe4Fcdn32upPExvap2rKqB9vMa+XvQpJ1GsgtwQ1XdVFV/Bk4F9utyTFJPqaoLgTuHFe8HfKU9/gqwf0f5SdW4BNgoyebA3wBnV9WdVXUXcDbNf0htDmxYVb+oZregkzr6klZbVXVbVV3eHt9D8x9BW+CzJa2S9hm5t/24VvsqYG/g22358Gdr6Jn7NvDX7SiE/YBTq+qBqroZuIHmd6O/HbVGSvJ0YF/gS+3n4HMlTZQ18vegSTuNZAvgvzs+39KWSVq2zarqNmiSD8BT2vLRnqllld8yQrm0xminDT0f+CU+W9Iqa0fuzAcW0fyHy43AH6vqobZK5/PwyDPUnl8MbMLYnzlpdXc08H7g4fbzJvhcSeOhgJ8kmZtkZlu2Rv4enNrtANSTRprPXZMehbT6GO2ZGmu5tEZIsj5wGnB4Vd29jGVGfLakFVRVS4Edk2wEnA781UjV2vexPkMjDQTw2dJqLcnLgUVVNTfJXkPFI1T1uZLGbvequjXJU4Czk1y7jLqr9e9BR9ppJLcAW3Z8fjpwa5dikR5Pbm+HW9O+L2rLR3umllX+9BHKpdVekrVoEnYnV9V32mKfLWmcVNUfgfNp1o3cKMnQ/8TvfB4eeYba8300S0KM9ZmTVme7A69IspBm6ureNCPvfK6kVVRVt7bvi2j+R9MurKG/B03aaSSXAVu3Ox89kWZh1DO6HJP0eHAGMLQr0aHA9zrKX9/ubLQrsLgd0n0W8NIkG7eLor4UOKs9d0+SXdu1Tl7f0Ze02mr/ef9/wK+q6nMdp3y2pFWQZFo7wo4k6wIvoVkz8jzggLba8Gdr6Jk7ADi3XffnDODAdhfMZ9As3n0p/nbUGqiqPlhVT6+qfpp/5s+tqoPxuZJWSZInJdlg6Jjmd9xVrKG/B50eq8eoqoeSvJPmH/IpwJer6uouhyX1lCSnAHsBmya5hWZnotnAN5McBvwGeFVb/YfA39EsLPwn4I0AVXVnkn+l+VEG8LGqGtrc4m00O9SuC/yofUmru92BQ4AF7dpbAB/CZ0taVZsDX2l3o3wC8M2qOjPJNcCpST4OzKNJmtO+fzXJDTQjgQ4EqKqrk3wTuIZmt+d3tNNu8bej9IgP4HMlrYrNgNPb5VGmAl+vqh8nuYw18PdgmuS+JEmSJEmSpF7h9FhJkiRJkiSpx5i0kyRJkiRJknqMSTtJkiRJkiSpx5i0kyRJkiRJknqMSTtJkiRJkiSpx5i0kyRJ0gpLUklO7HYcKyPJekmOSfKbJEuTLOx2TOPl8fx3kSRJIzNpJ0mS1GVJ9mqTLpXkzaPUqSRnTnZsq5kPAO8CvgG8ATh8WZU7/iaV5OEk9yS5KcnpSd6YZN1JiLkznllJ9p/Ma0qSpO6Z2u0AJEmS9CgfTXJyVd3f7UBWQ/sAC6rqfWNoMx/4t/Z4PeAvgJcCXwY+nOTvq+qK8Q1zVB8BvgJ8d5KuJ0mSusiRdpIkSb1jEHgayxkBtqZIMiXJeuPY5VOBO8fY5rdV9bX2Naeq/qmqdgFeTZPA+1GSjccxRkmSJMCknSRJUi/5JjAX+ECSTZZXebR1zJK8oT23V0fZrLZsuyRHJ7ktyX1Jzkny7LbOK5NcnuT+JAuTzFzGtV+S5JIkf0ryuyRfSPKkEer1JflUkhuSPJDk90lOSfLMUWJ+SZJ/TnIjsIQmObas72Bqkg8kuSbJkiR/aKev7jC8b+AZwIs7przOWlbfy1JV3wI+DWwOvGNYTEnytiRz2+/nniTnJZk+QvxvT/KTJL9N8uf27/K1JP0ddfrb+AEO7Zy2O0J/uyW5oP3b3pHkS0nWH1ZnyyRfTvLr9m+yKMnPkxy6st+HJEkafybtJEmSekfRrLvWB3x4gq7xFeB5wCdppn3uCpyV5BDgP2imXr4PuAv4v0n2GKGPF7T1fgEcCVwEvBs4I8kjvy+T9AE/B94O/IBmPbljgb2BXybZaoS+PwscCHwReA9w3XLu52RgNnBLG/fxwHTgF0me39a5EDgEuAO4tj0+BPjOcvpeni+17/sOK/8qzX3eALwfmEXzNz07ySuG1T2yjesYmuTfN4EZwM87Ere/b+OF5rs+pOPVaUfgTOAy4L3A2cBhwOeGKiSZ2pa/CjiV5m8zG7ge2HNFb1ySJE0817STJEnqIVV1TpKzgbcn+UJV/XqcL/E74BVVVQBJ7gC+ABwHPKeqftOWfwP4b5pE0sXD+tgBmFFVQ2urHZfkCzSJu1fTJIMAPgY8E9i1c923dnTgAuCjNBtCdFoXeH5V/Wl5N5Jkn/Z63wQO7LinbwCX0yTC9qyqm4CbknwcuL2qvra8vldEVS1Mcg+wTUdMM4CDgX+oqjkd5V8ALgG+kOT7Q7ECO1TVfcPu6wzgpzQJt0+357+W5KvATcuI/7nAC6vqkvbz/02yIfDGJO+tqnuB7YBnAx+oqk+v2jcgSZImkiPtJEmSes8HgCcC/zoBfR/TkTCCZuQWwPeGEnYAVfV7mlFuW4/Qx3UdCbshs9v3GdBMEaVJXl0I/DbJpkMv4D6aBNZLR+j7P1ckYdd5LeATnfdUVVfSjDjbI8m0FexrZd0NbNjx+XXAPcB3h93zRsD3gX46vtOhhF2SJ7RTiTcFrgAWA/9rjLH8oiNhN+Rcmv9R399+Xty+T0/ylDH2L0mSJpFJO0mSpB5TVfOAU4CDkzx3nLu/adjnu9r3m0eoexcw0tp6vxpeUFW3AX+kGVkHMK1t+1Ka6Z3DX/sAm43Q9/XLDv9RngE8PFI8wFUddSbShjSJuyF/BWwA3M5j73lWW+eR+06yd5LzaRKZf+yo2weMdYOL4X9bgD+075sAtCM3P0Hzd7mtXXfv00l2HuO1JEnSBHN6rCRJUm/6J+AA4FPAy8bYdlm/8ZaOsTwjlD1mA4QR6g4d/5TmHlbUio6yG369SdduFrEBzdp+jxTTJN1eu4ymV7XtdwZ+QrP23VE0idP7ab7fUxn7/2Af7W84FBcAVfVPSb5MsxbfnsCbgfcl+XRVfWCM15QkSRPEpJ0kSVIPqqqbk/wn8J6Rdh1t3Qk8eYTyZ45QNp62G16QZHOa0WFDo71+TzNybMOq+ukExXEj8Dc0o9uuHCXGkUYQjpc3t+8/6Cj7L5o17i5p15BbltcCU4CXVdUjcba78I51lN2YtOv8/Tvw70nWAc4C3p/k36pq0UReW5IkrRinx0qSJPWuj9NMvRxtpNr1wG5J1hsqSLIx8MYJjuvZSfYfVjY0Quu7AFX1MM3OrrskOWCkTsZhTbWhdfU+2K6hN9Tv9sArgIvbtfnGXZJX0ewMeyvNrrtDTqL5jf1/RmnXOSV4aGTc8BGDH2Lk3+n3MnKSdoW16+at1VlWVUv4nynGkjZZfwAAAgNJREFUE5oslCRJK86RdpIkST2qqu5I8hlG35DiWOBrwLntzqIbAW8Bfg08dQJDW0Czm+kXaUaWTaeZynsB8I2Oeh8Gdge+meSbNJtP/BnYCvg7YC6P3T12hVXV2W2/BwIbJzmT5r7fASyh2c12VW2R5HXt8brAX9CsB7cLzbTWV1bVHzti+naSE4B3JnkBzYYYdwBPB3YD/pL/GQl5OnAE8MMkc2i+m31odoG9Y4RYLgFekuQDwG+ay9WpI9RblunAnCSn0Ww0ci+wE82owV9W1XVj7E+SJE0Qk3aSJEm97XPA24HNh5+oqpOTPA14Z1vvJuBjNJszjHXn0bG4HHgvzYYGb6UZDXgs8KF2hN1QfIuT7A78I/BqYD/gIeAW4GLgS+MQy8FtPG8A/o1mQ4cLgH+uqgXj0P+OwFfb4/topv1eARwGnFJV9w9vUFVvSnIeMBP4IM1OwL9r4/xgR72fJfl74J9pErP306wB+GKaXXeHezvNqL4P06ylB83ad2NxBfAdYC+a724KTQLwkzTfnyRJ6hGpGm0dYUmSJEmSJEnd4Jp2kiRJkiRJUo8xaSdJkiRJkiT1GJN2kiRJkiRJUo8xaSdJkiRJkiT1GJN2kiRJkiRJUo8xaSdJkiRJkiT1GJN2kiRJkiRJUo8xaSdJkiRJkiT1GJN2kiRJkiRJUo/5/82+APNxcVdHAAAAAElFTkSuQmCC\n",
      "text/plain": [
       "<Figure size 1440x1080 with 1 Axes>"
      ]
     },
     "metadata": {},
     "output_type": "display_data"
    }
   ],
   "source": [
    "# Lastly, let's stack each of these bars for each state.\n",
    "#Notice we don't have to worry about index here, because we've already set it above.\n",
    "pivot.set_index('State').plot(kind = 'barh', figsize = (20,15));\n",
    "plt.title('Death Mean by State and Sex', fontsize=22)\n",
    "plt.xlabel('Number of Deaths', fontsize=18)\n",
    "plt.ylabel('State', fontsize=18);"
   ]
  },
  {
   "cell_type": "markdown",
   "metadata": {},
   "source": [
    "## Stacking and Unstacking DataFrames\n",
    "\n",
    "Now, let's get some practice stacking and unstacking DataFrames. \n",
    "\n",
    "### Stacking\n",
    "\n",
    "In the cell below, let's display the head of `grouped` to remind ourselves of the format we left it in. "
   ]
  },
  {
   "cell_type": "code",
   "execution_count": 119,
   "metadata": {
    "scrolled": true
   },
   "outputs": [
    {
     "data": {
      "text/html": [
       "<div>\n",
       "<style scoped>\n",
       "    .dataframe tbody tr th:only-of-type {\n",
       "        vertical-align: middle;\n",
       "    }\n",
       "\n",
       "    .dataframe tbody tr th {\n",
       "        vertical-align: top;\n",
       "    }\n",
       "\n",
       "    .dataframe thead th {\n",
       "        text-align: right;\n",
       "    }\n",
       "</style>\n",
       "<table border=\"1\" class=\"dataframe\">\n",
       "  <thead>\n",
       "    <tr style=\"text-align: right;\">\n",
       "      <th></th>\n",
       "      <th>State</th>\n",
       "      <th>Gender</th>\n",
       "      <th>Deaths_mean</th>\n",
       "      <th>Deaths_min</th>\n",
       "      <th>Deaths_max</th>\n",
       "      <th>Deaths_std</th>\n",
       "      <th>Population_mean</th>\n",
       "      <th>Population_min</th>\n",
       "      <th>Population_max</th>\n",
       "      <th>Population_std</th>\n",
       "    </tr>\n",
       "  </thead>\n",
       "  <tbody>\n",
       "    <tr>\n",
       "      <th>0</th>\n",
       "      <td>Alabama</td>\n",
       "      <td>Female</td>\n",
       "      <td>10753.325000</td>\n",
       "      <td>10</td>\n",
       "      <td>116297</td>\n",
       "      <td>24612.250487</td>\n",
       "      <td>1.078713e+06</td>\n",
       "      <td>2087</td>\n",
       "      <td>4334752</td>\n",
       "      <td>1.400309e+06</td>\n",
       "    </tr>\n",
       "    <tr>\n",
       "      <th>1</th>\n",
       "      <td>Alabama</td>\n",
       "      <td>Male</td>\n",
       "      <td>10765.850000</td>\n",
       "      <td>10</td>\n",
       "      <td>88930</td>\n",
       "      <td>20813.538537</td>\n",
       "      <td>1.014946e+06</td>\n",
       "      <td>1129</td>\n",
       "      <td>4284775</td>\n",
       "      <td>1.397830e+06</td>\n",
       "    </tr>\n",
       "    <tr>\n",
       "      <th>2</th>\n",
       "      <td>Alaska</td>\n",
       "      <td>Female</td>\n",
       "      <td>679.975000</td>\n",
       "      <td>13</td>\n",
       "      <td>4727</td>\n",
       "      <td>1154.870455</td>\n",
       "      <td>1.440403e+05</td>\n",
       "      <td>1224</td>\n",
       "      <td>682855</td>\n",
       "      <td>2.015793e+05</td>\n",
       "    </tr>\n",
       "    <tr>\n",
       "      <th>3</th>\n",
       "      <td>Alaska</td>\n",
       "      <td>Male</td>\n",
       "      <td>860.357143</td>\n",
       "      <td>12</td>\n",
       "      <td>5185</td>\n",
       "      <td>1411.777392</td>\n",
       "      <td>1.518884e+05</td>\n",
       "      <td>578</td>\n",
       "      <td>770502</td>\n",
       "      <td>2.238843e+05</td>\n",
       "    </tr>\n",
       "    <tr>\n",
       "      <th>4</th>\n",
       "      <td>Arizona</td>\n",
       "      <td>Female</td>\n",
       "      <td>8998.386364</td>\n",
       "      <td>21</td>\n",
       "      <td>133923</td>\n",
       "      <td>26245.941003</td>\n",
       "      <td>1.246502e+06</td>\n",
       "      <td>12211</td>\n",
       "      <td>6265346</td>\n",
       "      <td>2.096632e+06</td>\n",
       "    </tr>\n",
       "  </tbody>\n",
       "</table>\n",
       "</div>"
      ],
      "text/plain": [
       "     State  Gender   Deaths_mean  Deaths_min  Deaths_max    Deaths_std  \\\n",
       "0  Alabama  Female  10753.325000          10      116297  24612.250487   \n",
       "1  Alabama    Male  10765.850000          10       88930  20813.538537   \n",
       "2   Alaska  Female    679.975000          13        4727   1154.870455   \n",
       "3   Alaska    Male    860.357143          12        5185   1411.777392   \n",
       "4  Arizona  Female   8998.386364          21      133923  26245.941003   \n",
       "\n",
       "   Population_mean  Population_min  Population_max  Population_std  \n",
       "0     1.078713e+06            2087         4334752    1.400309e+06  \n",
       "1     1.014946e+06            1129         4284775    1.397830e+06  \n",
       "2     1.440403e+05            1224          682855    2.015793e+05  \n",
       "3     1.518884e+05             578          770502    2.238843e+05  \n",
       "4     1.246502e+06           12211         6265346    2.096632e+06  "
      ]
     },
     "execution_count": 119,
     "metadata": {},
     "output_type": "execute_result"
    }
   ],
   "source": [
    "grouped.head()"
   ]
  },
  {
   "cell_type": "markdown",
   "metadata": {},
   "source": [
    "As we can see above, `grouped` is currently in a flattened format, with no hierarchical structure to it's indices.  \n",
    "\n",
    "In the cell below, call the `grouped` DataFrame's `.stack()` method. "
   ]
  },
  {
   "cell_type": "code",
   "execution_count": 120,
   "metadata": {
    "scrolled": true
   },
   "outputs": [
    {
     "data": {
      "text/plain": [
       "0    State                  Alabama\n",
       "     Gender                  Female\n",
       "     Deaths_mean            10753.3\n",
       "     Deaths_min                  10\n",
       "     Deaths_max              116297\n",
       "     Deaths_std             24612.3\n",
       "     Population_mean    1.07871e+06\n",
       "     Population_min            2087\n",
       "     Population_max         4334752\n",
       "     Population_std     1.40031e+06\n",
       "1    State                  Alabama\n",
       "     Gender                    Male\n",
       "     Deaths_mean            10765.9\n",
       "     Deaths_min                  10\n",
       "     Deaths_max               88930\n",
       "     Deaths_std             20813.5\n",
       "     Population_mean    1.01495e+06\n",
       "     Population_min            1129\n",
       "     Population_max         4284775\n",
       "     Population_std     1.39783e+06\n",
       "2    State                   Alaska\n",
       "     Gender                  Female\n",
       "     Deaths_mean            679.975\n",
       "     Deaths_min                  13\n",
       "     Deaths_max                4727\n",
       "     Deaths_std             1154.87\n",
       "     Population_mean         144040\n",
       "     Population_min            1224\n",
       "     Population_max          682855\n",
       "     Population_std          201579\n",
       "                           ...     \n",
       "99   State                Wisconsin\n",
       "     Gender                    Male\n",
       "     Deaths_mean            9573.45\n",
       "     Deaths_min                  13\n",
       "     Deaths_max              113692\n",
       "     Deaths_std             25681.4\n",
       "     Population_mean    1.13532e+06\n",
       "     Population_min            1286\n",
       "     Population_max         6860107\n",
       "     Population_std     2.08907e+06\n",
       "100  State                  Wyoming\n",
       "     Gender                  Female\n",
       "     Deaths_mean            1161.03\n",
       "     Deaths_min                  10\n",
       "     Deaths_max               13140\n",
       "     Deaths_std             2937.94\n",
       "     Population_mean         146757\n",
       "     Population_min             336\n",
       "     Population_max          672620\n",
       "     Population_std          235238\n",
       "101  State                  Wyoming\n",
       "     Gender                    Male\n",
       "     Deaths_mean            1149.51\n",
       "     Deaths_min                  10\n",
       "     Deaths_max               10113\n",
       "     Deaths_std             2569.28\n",
       "     Population_mean         139224\n",
       "     Population_min             244\n",
       "     Population_max          694760\n",
       "     Population_std          241360\n",
       "Length: 1020, dtype: object"
      ]
     },
     "execution_count": 120,
     "metadata": {},
     "output_type": "execute_result"
    }
   ],
   "source": [
    "grouped.stack()"
   ]
  },
  {
   "cell_type": "markdown",
   "metadata": {},
   "source": [
    "As we can see, the `stack()` method has stacked our DataFrame from a flattened format into one with a multi-hierarchical index! This is an easy, quick way to aggregate our data.\n",
    "\n",
    "### Unstacking \n",
    "\n",
    "Now, we'll explore unstacking with the `pivot` DataFrame, which is already stacked into a pivot table. \n",
    "\n",
    "In the cell below, set unstack `pivot` using the object's `.unstack()` method. Then, display the object to see how it has changed. "
   ]
  },
  {
   "cell_type": "code",
   "execution_count": 121,
   "metadata": {
    "scrolled": true
   },
   "outputs": [
    {
     "data": {
      "text/plain": [
       "State           0                   Alabama\n",
       "                1                   Alabama\n",
       "                2                    Alaska\n",
       "                3                    Alaska\n",
       "                4                   Arizona\n",
       "                5                   Arizona\n",
       "                6                  Arkansas\n",
       "                7                  Arkansas\n",
       "                8                California\n",
       "                9                California\n",
       "                10                 Colorado\n",
       "                11                 Colorado\n",
       "                12              Connecticut\n",
       "                13              Connecticut\n",
       "                14                 Delaware\n",
       "                15                 Delaware\n",
       "                16     District of Columbia\n",
       "                17     District of Columbia\n",
       "                18                  Florida\n",
       "                19                  Florida\n",
       "                20                  Georgia\n",
       "                21                  Georgia\n",
       "                22                   Hawaii\n",
       "                23                   Hawaii\n",
       "                24                    Idaho\n",
       "                25                    Idaho\n",
       "                26                 Illinois\n",
       "                27                 Illinois\n",
       "                28                  Indiana\n",
       "                29                  Indiana\n",
       "                               ...         \n",
       "Population_std  72              1.14777e+06\n",
       "                73              1.16172e+06\n",
       "                74              1.39221e+06\n",
       "                75              1.40328e+06\n",
       "                76              4.48163e+06\n",
       "                77              4.40076e+06\n",
       "                78                   425461\n",
       "                79                   399585\n",
       "                80              1.32236e+06\n",
       "                81              1.29671e+06\n",
       "                82                   308602\n",
       "                83                   310713\n",
       "                84              2.09256e+06\n",
       "                85              2.08821e+06\n",
       "                86              8.16367e+06\n",
       "                87              8.33241e+06\n",
       "                88              1.07027e+06\n",
       "                89              1.09292e+06\n",
       "                90                   317269\n",
       "                91                   307132\n",
       "                92              2.33318e+06\n",
       "                93              2.36053e+06\n",
       "                94              2.23938e+06\n",
       "                95              2.30074e+06\n",
       "                96                   820901\n",
       "                97                   811512\n",
       "                98              2.04754e+06\n",
       "                99              2.08907e+06\n",
       "                100                  235238\n",
       "                101                  241360\n",
       "Length: 1020, dtype: object"
      ]
     },
     "execution_count": 121,
     "metadata": {},
     "output_type": "execute_result"
    }
   ],
   "source": [
    "pivot = grouped.unstack()\n",
    "pivot"
   ]
  },
  {
   "cell_type": "markdown",
   "metadata": {},
   "source": [
    "Note that it has unstacked the multi-hierarchical structure of the `pivot` DataFrame by one level. Let's call it one more time and display the results!\n",
    "\n",
    "In the cell below, set pivot equal to `pivot.unstack()` again, and then display the `pivot` object to see how things have changed."
   ]
  },
  {
   "cell_type": "code",
   "execution_count": 122,
   "metadata": {},
   "outputs": [
    {
     "data": {
      "text/html": [
       "<div>\n",
       "<style scoped>\n",
       "    .dataframe tbody tr th:only-of-type {\n",
       "        vertical-align: middle;\n",
       "    }\n",
       "\n",
       "    .dataframe tbody tr th {\n",
       "        vertical-align: top;\n",
       "    }\n",
       "\n",
       "    .dataframe thead th {\n",
       "        text-align: right;\n",
       "    }\n",
       "</style>\n",
       "<table border=\"1\" class=\"dataframe\">\n",
       "  <thead>\n",
       "    <tr style=\"text-align: right;\">\n",
       "      <th></th>\n",
       "      <th>0</th>\n",
       "      <th>1</th>\n",
       "      <th>2</th>\n",
       "      <th>3</th>\n",
       "      <th>4</th>\n",
       "      <th>5</th>\n",
       "      <th>6</th>\n",
       "      <th>7</th>\n",
       "      <th>8</th>\n",
       "      <th>9</th>\n",
       "      <th>...</th>\n",
       "      <th>92</th>\n",
       "      <th>93</th>\n",
       "      <th>94</th>\n",
       "      <th>95</th>\n",
       "      <th>96</th>\n",
       "      <th>97</th>\n",
       "      <th>98</th>\n",
       "      <th>99</th>\n",
       "      <th>100</th>\n",
       "      <th>101</th>\n",
       "    </tr>\n",
       "  </thead>\n",
       "  <tbody>\n",
       "    <tr>\n",
       "      <th>State</th>\n",
       "      <td>Alabama</td>\n",
       "      <td>Alabama</td>\n",
       "      <td>Alaska</td>\n",
       "      <td>Alaska</td>\n",
       "      <td>Arizona</td>\n",
       "      <td>Arizona</td>\n",
       "      <td>Arkansas</td>\n",
       "      <td>Arkansas</td>\n",
       "      <td>California</td>\n",
       "      <td>California</td>\n",
       "      <td>...</td>\n",
       "      <td>Virginia</td>\n",
       "      <td>Virginia</td>\n",
       "      <td>Washington</td>\n",
       "      <td>Washington</td>\n",
       "      <td>West Virginia</td>\n",
       "      <td>West Virginia</td>\n",
       "      <td>Wisconsin</td>\n",
       "      <td>Wisconsin</td>\n",
       "      <td>Wyoming</td>\n",
       "      <td>Wyoming</td>\n",
       "    </tr>\n",
       "    <tr>\n",
       "      <th>Gender</th>\n",
       "      <td>Female</td>\n",
       "      <td>Male</td>\n",
       "      <td>Female</td>\n",
       "      <td>Male</td>\n",
       "      <td>Female</td>\n",
       "      <td>Male</td>\n",
       "      <td>Female</td>\n",
       "      <td>Male</td>\n",
       "      <td>Female</td>\n",
       "      <td>Male</td>\n",
       "      <td>...</td>\n",
       "      <td>Female</td>\n",
       "      <td>Male</td>\n",
       "      <td>Female</td>\n",
       "      <td>Male</td>\n",
       "      <td>Female</td>\n",
       "      <td>Male</td>\n",
       "      <td>Female</td>\n",
       "      <td>Male</td>\n",
       "      <td>Female</td>\n",
       "      <td>Male</td>\n",
       "    </tr>\n",
       "    <tr>\n",
       "      <th>Deaths_mean</th>\n",
       "      <td>10753.3</td>\n",
       "      <td>10765.9</td>\n",
       "      <td>679.975</td>\n",
       "      <td>860.357</td>\n",
       "      <td>8998.39</td>\n",
       "      <td>10036.2</td>\n",
       "      <td>6621.62</td>\n",
       "      <td>6301.69</td>\n",
       "      <td>48312.8</td>\n",
       "      <td>49555.5</td>\n",
       "      <td>...</td>\n",
       "      <td>13232.1</td>\n",
       "      <td>12585.8</td>\n",
       "      <td>9796.86</td>\n",
       "      <td>9877.43</td>\n",
       "      <td>6247.23</td>\n",
       "      <td>6211.61</td>\n",
       "      <td>9918.11</td>\n",
       "      <td>9573.45</td>\n",
       "      <td>1161.03</td>\n",
       "      <td>1149.51</td>\n",
       "    </tr>\n",
       "    <tr>\n",
       "      <th>Deaths_min</th>\n",
       "      <td>10</td>\n",
       "      <td>10</td>\n",
       "      <td>13</td>\n",
       "      <td>12</td>\n",
       "      <td>21</td>\n",
       "      <td>28</td>\n",
       "      <td>11</td>\n",
       "      <td>10</td>\n",
       "      <td>37</td>\n",
       "      <td>42</td>\n",
       "      <td>...</td>\n",
       "      <td>10</td>\n",
       "      <td>21</td>\n",
       "      <td>33</td>\n",
       "      <td>36</td>\n",
       "      <td>15</td>\n",
       "      <td>10</td>\n",
       "      <td>10</td>\n",
       "      <td>13</td>\n",
       "      <td>10</td>\n",
       "      <td>10</td>\n",
       "    </tr>\n",
       "    <tr>\n",
       "      <th>Deaths_max</th>\n",
       "      <td>116297</td>\n",
       "      <td>88930</td>\n",
       "      <td>4727</td>\n",
       "      <td>5185</td>\n",
       "      <td>133923</td>\n",
       "      <td>110347</td>\n",
       "      <td>81126</td>\n",
       "      <td>61671</td>\n",
       "      <td>720306</td>\n",
       "      <td>473226</td>\n",
       "      <td>...</td>\n",
       "      <td>166555</td>\n",
       "      <td>113238</td>\n",
       "      <td>164439</td>\n",
       "      <td>106742</td>\n",
       "      <td>65256</td>\n",
       "      <td>51167</td>\n",
       "      <td>189242</td>\n",
       "      <td>113692</td>\n",
       "      <td>13140</td>\n",
       "      <td>10113</td>\n",
       "    </tr>\n",
       "    <tr>\n",
       "      <th>Deaths_std</th>\n",
       "      <td>24612.3</td>\n",
       "      <td>20813.5</td>\n",
       "      <td>1154.87</td>\n",
       "      <td>1411.78</td>\n",
       "      <td>26245.9</td>\n",
       "      <td>24736.1</td>\n",
       "      <td>16794</td>\n",
       "      <td>14165.4</td>\n",
       "      <td>132121</td>\n",
       "      <td>108799</td>\n",
       "      <td>...</td>\n",
       "      <td>32699.7</td>\n",
       "      <td>25838.6</td>\n",
       "      <td>30095.6</td>\n",
       "      <td>24969.6</td>\n",
       "      <td>15665.7</td>\n",
       "      <td>13336.3</td>\n",
       "      <td>33167.2</td>\n",
       "      <td>25681.4</td>\n",
       "      <td>2937.94</td>\n",
       "      <td>2569.28</td>\n",
       "    </tr>\n",
       "    <tr>\n",
       "      <th>Population_mean</th>\n",
       "      <td>1.07871e+06</td>\n",
       "      <td>1.01495e+06</td>\n",
       "      <td>144040</td>\n",
       "      <td>151888</td>\n",
       "      <td>1.2465e+06</td>\n",
       "      <td>1.23512e+06</td>\n",
       "      <td>665084</td>\n",
       "      <td>595239</td>\n",
       "      <td>7.51187e+06</td>\n",
       "      <td>7.43659e+06</td>\n",
       "      <td>...</td>\n",
       "      <td>1.73336e+06</td>\n",
       "      <td>1.63244e+06</td>\n",
       "      <td>1.3373e+06</td>\n",
       "      <td>1.32906e+06</td>\n",
       "      <td>537591</td>\n",
       "      <td>518961</td>\n",
       "      <td>1.15472e+06</td>\n",
       "      <td>1.13532e+06</td>\n",
       "      <td>146757</td>\n",
       "      <td>139224</td>\n",
       "    </tr>\n",
       "    <tr>\n",
       "      <th>Population_min</th>\n",
       "      <td>2087</td>\n",
       "      <td>1129</td>\n",
       "      <td>1224</td>\n",
       "      <td>578</td>\n",
       "      <td>12211</td>\n",
       "      <td>6877</td>\n",
       "      <td>1766</td>\n",
       "      <td>818</td>\n",
       "      <td>40061</td>\n",
       "      <td>22096</td>\n",
       "      <td>...</td>\n",
       "      <td>2425</td>\n",
       "      <td>1197</td>\n",
       "      <td>6619</td>\n",
       "      <td>3297</td>\n",
       "      <td>416</td>\n",
       "      <td>446</td>\n",
       "      <td>3376</td>\n",
       "      <td>1286</td>\n",
       "      <td>336</td>\n",
       "      <td>244</td>\n",
       "    </tr>\n",
       "    <tr>\n",
       "      <th>Population_max</th>\n",
       "      <td>4334752</td>\n",
       "      <td>4284775</td>\n",
       "      <td>682855</td>\n",
       "      <td>770502</td>\n",
       "      <td>6265346</td>\n",
       "      <td>6692127</td>\n",
       "      <td>2878953</td>\n",
       "      <td>2844754</td>\n",
       "      <td>35338781</td>\n",
       "      <td>38013386</td>\n",
       "      <td>...</td>\n",
       "      <td>7705663</td>\n",
       "      <td>7581683</td>\n",
       "      <td>7333713</td>\n",
       "      <td>7352846</td>\n",
       "      <td>2356609</td>\n",
       "      <td>2307190</td>\n",
       "      <td>6778013</td>\n",
       "      <td>6860107</td>\n",
       "      <td>672620</td>\n",
       "      <td>694760</td>\n",
       "    </tr>\n",
       "    <tr>\n",
       "      <th>Population_std</th>\n",
       "      <td>1.40031e+06</td>\n",
       "      <td>1.39783e+06</td>\n",
       "      <td>201579</td>\n",
       "      <td>223884</td>\n",
       "      <td>2.09663e+06</td>\n",
       "      <td>2.12956e+06</td>\n",
       "      <td>962003</td>\n",
       "      <td>947975</td>\n",
       "      <td>1.10885e+07</td>\n",
       "      <td>1.16121e+07</td>\n",
       "      <td>...</td>\n",
       "      <td>2.33318e+06</td>\n",
       "      <td>2.36053e+06</td>\n",
       "      <td>2.23938e+06</td>\n",
       "      <td>2.30074e+06</td>\n",
       "      <td>820901</td>\n",
       "      <td>811512</td>\n",
       "      <td>2.04754e+06</td>\n",
       "      <td>2.08907e+06</td>\n",
       "      <td>235238</td>\n",
       "      <td>241360</td>\n",
       "    </tr>\n",
       "  </tbody>\n",
       "</table>\n",
       "<p>10 rows × 102 columns</p>\n",
       "</div>"
      ],
      "text/plain": [
       "                         0            1        2        3            4    \\\n",
       "State                Alabama      Alabama   Alaska   Alaska      Arizona   \n",
       "Gender                Female         Male   Female     Male       Female   \n",
       "Deaths_mean          10753.3      10765.9  679.975  860.357      8998.39   \n",
       "Deaths_min                10           10       13       12           21   \n",
       "Deaths_max            116297        88930     4727     5185       133923   \n",
       "Deaths_std           24612.3      20813.5  1154.87  1411.78      26245.9   \n",
       "Population_mean  1.07871e+06  1.01495e+06   144040   151888   1.2465e+06   \n",
       "Population_min          2087         1129     1224      578        12211   \n",
       "Population_max       4334752      4284775   682855   770502      6265346   \n",
       "Population_std   1.40031e+06  1.39783e+06   201579   223884  2.09663e+06   \n",
       "\n",
       "                         5         6         7            8            9    \\\n",
       "State                Arizona  Arkansas  Arkansas   California   California   \n",
       "Gender                  Male    Female      Male       Female         Male   \n",
       "Deaths_mean          10036.2   6621.62   6301.69      48312.8      49555.5   \n",
       "Deaths_min                28        11        10           37           42   \n",
       "Deaths_max            110347     81126     61671       720306       473226   \n",
       "Deaths_std           24736.1     16794   14165.4       132121       108799   \n",
       "Population_mean  1.23512e+06    665084    595239  7.51187e+06  7.43659e+06   \n",
       "Population_min          6877      1766       818        40061        22096   \n",
       "Population_max       6692127   2878953   2844754     35338781     38013386   \n",
       "Population_std   2.12956e+06    962003    947975  1.10885e+07  1.16121e+07   \n",
       "\n",
       "                  ...             92           93           94           95   \\\n",
       "State             ...        Virginia     Virginia   Washington   Washington   \n",
       "Gender            ...          Female         Male       Female         Male   \n",
       "Deaths_mean       ...         13232.1      12585.8      9796.86      9877.43   \n",
       "Deaths_min        ...              10           21           33           36   \n",
       "Deaths_max        ...          166555       113238       164439       106742   \n",
       "Deaths_std        ...         32699.7      25838.6      30095.6      24969.6   \n",
       "Population_mean   ...     1.73336e+06  1.63244e+06   1.3373e+06  1.32906e+06   \n",
       "Population_min    ...            2425         1197         6619         3297   \n",
       "Population_max    ...         7705663      7581683      7333713      7352846   \n",
       "Population_std    ...     2.33318e+06  2.36053e+06  2.23938e+06  2.30074e+06   \n",
       "\n",
       "                           96             97           98           99   \\\n",
       "State            West Virginia  West Virginia    Wisconsin    Wisconsin   \n",
       "Gender                  Female           Male       Female         Male   \n",
       "Deaths_mean            6247.23        6211.61      9918.11      9573.45   \n",
       "Deaths_min                  15             10           10           13   \n",
       "Deaths_max               65256          51167       189242       113692   \n",
       "Deaths_std             15665.7        13336.3      33167.2      25681.4   \n",
       "Population_mean         537591         518961  1.15472e+06  1.13532e+06   \n",
       "Population_min             416            446         3376         1286   \n",
       "Population_max         2356609        2307190      6778013      6860107   \n",
       "Population_std          820901         811512  2.04754e+06  2.08907e+06   \n",
       "\n",
       "                     100      101  \n",
       "State            Wyoming  Wyoming  \n",
       "Gender            Female     Male  \n",
       "Deaths_mean      1161.03  1149.51  \n",
       "Deaths_min            10       10  \n",
       "Deaths_max         13140    10113  \n",
       "Deaths_std       2937.94  2569.28  \n",
       "Population_mean   146757   139224  \n",
       "Population_min       336      244  \n",
       "Population_max    672620   694760  \n",
       "Population_std    235238   241360  \n",
       "\n",
       "[10 rows x 102 columns]"
      ]
     },
     "execution_count": 122,
     "metadata": {},
     "output_type": "execute_result"
    }
   ],
   "source": [
    "pivot = pivot.unstack()\n",
    "pivot"
   ]
  },
  {
   "cell_type": "markdown",
   "metadata": {},
   "source": [
    "After calling unstack a second time, we can see that `pivot` has a flattened structure, since it has been completely unstacked!\n",
    "\n",
    "## Summary\n",
    "\n",
    "In this lab, we learned how to:\n",
    "\n",
    "* Use `groupby` to stack and slice data conditionally\n",
    "* Use aggregate functions in combination with groupby statements\n",
    "* Create pivot tables with pandas\n",
    "* Leverage pivot tables and groupby statements to create quick visualizations\n",
    "* `stack` and `unstack` DataFrames "
   ]
  }
 ],
 "metadata": {
  "kernelspec": {
   "display_name": "Python 3",
   "language": "python",
   "name": "python3"
  },
  "language_info": {
   "codemirror_mode": {
    "name": "ipython",
    "version": 3
   },
   "file_extension": ".py",
   "mimetype": "text/x-python",
   "name": "python",
   "nbconvert_exporter": "python",
   "pygments_lexer": "ipython3",
<<<<<<< HEAD
   "version": "3.6.5"
  },
  "toc": {
   "base_numbering": 1,
   "nav_menu": {},
   "number_sections": true,
   "sideBar": true,
   "skip_h1_title": false,
   "title_cell": "Table of Contents",
   "title_sidebar": "Contents",
   "toc_cell": false,
   "toc_position": {},
   "toc_section_display": true,
   "toc_window_display": false
  },
  "varInspector": {
   "cols": {
    "lenName": 16,
    "lenType": 16,
    "lenVar": 40
   },
   "kernels_config": {
    "python": {
     "delete_cmd_postfix": "",
     "delete_cmd_prefix": "del ",
     "library": "var_list.py",
     "varRefreshCmd": "print(var_dic_list())"
    },
    "r": {
     "delete_cmd_postfix": ") ",
     "delete_cmd_prefix": "rm(",
     "library": "var_list.r",
     "varRefreshCmd": "cat(var_dic_list()) "
    }
   },
   "types_to_exclude": [
    "module",
    "function",
    "builtin_function_or_method",
    "instance",
    "_Feature"
   ],
   "window_display": false
=======
   "version": "3.6.6"
>>>>>>> 4b9ced4cf3b8277624341fd48febb0186cd21d10
  }
 },
 "nbformat": 4,
 "nbformat_minor": 2
}
